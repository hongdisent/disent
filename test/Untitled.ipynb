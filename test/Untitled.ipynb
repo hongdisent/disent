{
 "cells": [
  {
   "cell_type": "code",
   "execution_count": 11,
   "id": "5ffade03",
   "metadata": {},
   "outputs": [
    {
     "data": {
      "application/vnd.jupyter.widget-view+json": {
       "model_id": "414327db5326419ea4e13b1b5a7e2221",
       "version_major": 2,
       "version_minor": 0
      },
      "text/plain": [
       "VBox(children=(Figure(axes=[Axis(label='Country', scale=OrdinalScale()), Axis(label='CO₂ per Capita (tons)', o…"
      ]
     },
     "execution_count": 11,
     "metadata": {},
     "output_type": "execute_result"
    }
   ],
   "source": [
    "import pandas as pd\n",
    "import numpy as np\n",
    "import bqplot as bq\n",
    "import ipywidgets as widgets\n",
    "\n",
    "# Load CO₂ emissions per capita data (from OWID)\n",
    "url = \"https://raw.githubusercontent.com/owid/co2-data/master/owid-co2-data.csv\"\n",
    "df = pd.read_csv(url)\n",
    "\n",
    "# Focus on a few countries and years\n",
    "countries = ['United States', 'China', 'India', 'Germany']\n",
    "df = df[df['country'].isin(countries) & df['year'].between(1960, 2020)]\n",
    "df = df[['country', 'year', 'co2_per_capita']].dropna()\n",
    "\n",
    "# Structure data for animation\n",
    "years = sorted(df['year'].unique())\n",
    "co2_data = {\n",
    "    year: df[df['year'] == year].set_index('country').reindex(countries)['co2_per_capita'].fillna(0).values\n",
    "    for year in years\n",
    "}\n",
    "\n",
    "# Create scales\n",
    "x_sc = bq.OrdinalScale()\n",
    "y_sc = bq.LinearScale()\n",
    "\n",
    "# Initial bars\n",
    "bar = bq.Bars(x=countries, y=co2_data[years[0]], scales={'x': x_sc, 'y': y_sc})\n",
    "\n",
    "# Create axes and figure\n",
    "x_ax = bq.Axis(scale=x_sc, label='Country')\n",
    "y_ax = bq.Axis(scale=y_sc, orientation='vertical', label='CO₂ per Capita (tons)')\n",
    "\n",
    "fig = bq.Figure(marks=[bar], axes=[x_ax, y_ax], title=f'CO₂ per Capita - {years[0]}')\n",
    "\n",
    "# Controls\n",
    "slider = widgets.IntSlider(min=0, max=len(years) - 1, step=1, description='Year')\n",
    "play = widgets.Play(min=0, max=len(years) - 1, interval=300)\n",
    "widgets.jslink((play, 'value'), (slider, 'value'))\n",
    "\n",
    "# Update function\n",
    "def update(change):\n",
    "    i = change['new']\n",
    "    year = years[i]\n",
    "    bar.y = co2_data[year]\n",
    "    fig.title = f'CO₂ per Capita - {year}'\n",
    "\n",
    "slider.observe(update, names='value')\n",
    "\n",
    "# Display\n",
    "widgets.VBox([fig, widgets.HBox([play, slider])])\n"
   ]
  },
  {
   "cell_type": "code",
   "execution_count": null,
   "id": "9f7001bf",
   "metadata": {},
   "outputs": [],
   "source": []
  }
 ],
 "metadata": {
  "kernelspec": {
   "display_name": "Python 3",
   "language": "python",
   "name": "python3"
  },
  "language_info": {
   "codemirror_mode": {
    "name": "ipython",
    "version": 3
   },
   "file_extension": ".py",
   "mimetype": "text/x-python",
   "name": "python",
   "nbconvert_exporter": "python",
   "pygments_lexer": "ipython3",
   "version": "3.9.6"
  }
 },
 "nbformat": 4,
 "nbformat_minor": 5
}
