{
 "cells": [
  {
   "cell_type": "markdown",
   "metadata": {
    "zanadu": {}
   },
   "source": [
    "# SSVI and local variance\n",
    "*******\n",
    "Reference:\n",
    "J, Gatheral, A. Jacquier.\n",
    "Arbitrage-free SVI volatility surfaces. \n",
    "Quantitative Finance, 14(1): 59-71, 2014.\n",
    "https://www.tandfonline.com/doi/full/10.1080/14697688.2013.819986"
   ]
  },
  {
   "cell_type": "code",
   "execution_count": 1,
   "metadata": {
    "zanadu": {
     "code_type": "",
     "is_hidden": true
    }
   },
   "outputs": [],
   "source": [
    "from scipy.stats import norm\n",
    "from numpy import random\n",
    "import numpy as np\n",
    "import matplotlib.pyplot as plt\n",
    "from scipy.integrate import quad\n",
    "from mpl_toolkits.mplot3d import axes3d\n",
    "import matplotlib.pyplot as plt\n",
    "from matplotlib.colors import cnames\n",
    "import pandas as pd\n",
    "from scipy.optimize import bisect"
   ]
  },
  {
   "cell_type": "markdown",
   "metadata": {
    "zanadu": {}
   },
   "source": [
    "We consider the following SSVI parameterisation of the total implied variance surface:\n",
    "$$\n",
    "w(k,\\theta_t)\n",
    "= \\frac{\\theta_t}{2}\\left\\{1+\\rho\\varphi(\\theta_t) k + \\sqrt{\\left(\\varphi(\\theta_t){k}+\\rho\\right)^2\n",
    "+1-\\rho^2 }\\right\\},\n",
    "$$\n",
    "with $\\theta_t$ denotes the total at-the-money variance. Here $k:=\\log(K/S_0)\\in\\mathbb{R}$ denotes the logmoneyness.\n",
    "\n",
    "We then compute the (Dupire) local variance via the following formula:\n",
    "$$\n",
    "\\sigma_{\\mathrm{loc}}^2(k, T) := \\frac{\\partial_{t}w(k, \\theta_{t})}{g(k, w(k, \\theta_{t}))},\n",
    "$$\n",
    "for all $k\\in\\mathbb{R}$ and $t\\geq 0$, where the function $g$ is fined in the paper.\n",
    "\n",
    "Data could suggest some specific form for the increasing map $t\\mapsto \\theta_t$. For simplicity here, we take\n",
    "$\\theta_t \\equiv \\sigma^2 t$, for some $\\sigma>0$.\n",
    "\n",
    "The function~$\\varphi$ is referred to as the backbone and needs to satisfy some assumptions to prevent arbitrage. We focus on two such specific examples below."
   ]
  },
  {
   "cell_type": "markdown",
   "metadata": {
    "zanadu": {}
   },
   "source": [
    "# Example 1"
   ]
  },
  {
   "cell_type": "markdown",
   "metadata": {
    "zanadu": {}
   },
   "source": [
    "We consider the following function\n",
    "$$\n",
    "\\varphi(\\theta)\\equiv\\frac{1}{\\gamma\\theta}\\left\\{1-\\frac{1-\\mathrm{e}^{-\\gamma\\theta}}{\\gamma\\theta}\\right\\},\n",
    "$$\n",
    "where $\\gamma>0$, $\\rho \\in (-1,1)$.\n",
    "We further need to impose $\\gamma \\geq \\frac{1}{4}\\left(1+|\\rho|\\right)$ in order to prevent arbitrage."
   ]
  },
  {
   "cell_type": "code",
   "execution_count": 3,
   "metadata": {
    "zanadu": {
     "is_hidden": true
    }
   },
   "outputs": [],
   "source": [
    "def phi(theta, params):\n",
    "    gamma, sigma, rho = params\n",
    "    return 1./(gamma*theta)*(1.-(1.-np.exp(-gamma*theta))/(gamma*theta))\n",
    "\n",
    "def SSVI(x, t, params):\n",
    "    gamma, sigma, rho = params\n",
    "    theta = sigma*sigma*t\n",
    "    p = phi(theta, params)\n",
    "    return 0.5*theta*(1.+rho*p*x+np.sqrt((p*x+rho)*(p*x+rho)+1.-rho*rho))\n",
    "\n",
    "def SSVI1(x, t, params):\n",
    "    ## First derivative with respect to x\n",
    "    gamma, sigma, rho = params\n",
    "    theta = sigma*sigma*t\n",
    "    p = phi(theta, params)\n",
    "    return 0.5*theta*p*(p*x+rho*np.sqrt(p*p*x*x+2.*p*rho*x+1.)+rho)/np.sqrt(p*p*x*x+2.*p*rho*x+1.)\n",
    "\n",
    "def SSVI2(x, t, params):\n",
    "    ## Second derivative with respect to x\n",
    "    gamma, sigma, rho = params\n",
    "    theta = sigma*sigma*t\n",
    "    p = phi(theta, params)\n",
    "    return 0.5*theta*p*p*(1.-rho*rho)/ ((p*p*x*x + 2.*p*rho*x + 1.)*np.sqrt(p*p*x*x+2.*p*rho*x+1.))\n",
    "    \n",
    "def SSVIt(x, t, params):\n",
    "    ## First derivative with respect to t, by central difference\n",
    "    gamma, sigma, rho = params\n",
    "    eps = 0.0001\n",
    "    return (SSVI(x,t+eps,params) - SSVI(x,t-eps,params))/(2.*eps)\n",
    "\n",
    "def g(x, t, params):\n",
    "    w = SSVI(x,t,params)\n",
    "    w1 = SSVI1(x,t,params)\n",
    "    w2 = SSVI2(x,t,params)\n",
    "    return (1.-0.5*x*w1/w)*(1.-0.5*x*w1/w) - 0.25*w1*w1*(0.25 + 1./w) + 0.5*w2\n",
    "    \n",
    "def dminus(x, t, params):\n",
    "    vsqrt = np.sqrt(SSVI(x,t,params))\n",
    "    return -x/vsqrt - 0.5*vsqrt\n",
    "    \n",
    "def densitySSVI(x, t, params):\n",
    "    dm = dminus(x,t,params)\n",
    "    return g(x,t,params)*np.exp(-0.5*dm*dm)/np.sqrt(2.*np.pi*SSVI(x,t,params))\n",
    "\n",
    "def SSVI_LocalVarg(x, t, params):\n",
    "    ## Compute the equivalent SSVI local variance\n",
    "    return SSVIt(x,t,params) / g(x,t,params)"
   ]
  },
  {
   "cell_type": "markdown",
   "metadata": {
    "zanadu": {}
   },
   "source": [
    "### Numerical example of a SSVI local volatility surface"
   ]
  },
  {
   "cell_type": "code",
   "execution_count": 4,
   "metadata": {
    "zanadu": {}
   },
   "outputs": [
    {
     "name": "stdout",
     "output_type": "stream",
     "text": [
      "Consistency check to avoid static arbitrage:  True\n"
     ]
    }
   ],
   "source": [
    "sigma, gamma, rho = 0.2, 0.8, -0.7\n",
    "xx, TT = np.linspace(-1., 1., 50), np.linspace(0.001, 5., 50)\n",
    "\n",
    "print(\"Consistency check to avoid static arbitrage: \", (gamma - 0.25*(1.+np.abs(rho))>0.))\n",
    "params = gamma, sigma, rho\n",
    "\n",
    "localVarianceSSVI = [[SSVI_LocalVarg(x, t, params) for x in xx] for t in TT]\n",
    "impliedVarianceSSVI = [[SSVI(x, t, params) for x in xx] for t in TT]"
   ]
  },
  {
   "cell_type": "code",
   "execution_count": 7,
   "metadata": {
    "zanadu": {
     "is_hidden": false
    }
   },
   "outputs": [
    {
     "data": {
      "image/png": "[encoded data removed]",
      "text/plain": [
       "<Figure size 800x500 with 1 Axes>"
      ]
     },
     "metadata": {},
     "output_type": "display_data"
    }
   ],
   "source": [
    "from mpl_toolkits.mplot3d import Axes3D  # required for 3D projection\n",
    "import matplotlib.pyplot as plt\n",
    "\n",
    "fig = plt.figure(figsize=(8, 5))\n",
    "ax = fig.add_subplot(111, projection='3d')  # ✅ Correct way to specify 3D\n",
    "\n",
    "xxx, TTT = np.meshgrid(xx, TT)\n",
    "localVarianceSSVI = np.array(localVarianceSSVI)\n",
    "impliedVarianceSSVI = np.array(impliedVarianceSSVI)\n",
    "ax.plot_surface(xxx, TTT, localVarianceSSVI, cmap=plt.cm.jet)\n",
    "#ax.plot_surface(xxx, TTT, impliedVarianceSSVI, cmap=plt.cm.coolwarm)\n",
    "ax.set_xlabel(\"Log-moneyness\")\n",
    "ax.set_ylabel(\"Maturity\")\n",
    "ax.set_zlabel(\"Local variance\")\n",
    "ax.set_title(\"SSVI local variance\")\n",
    "plt.show()"
   ]
  },
  {
   "cell_type": "markdown",
   "metadata": {
    "zanadu": {}
   },
   "source": [
    "## Monte Carlo simulations"
   ]
  },
  {
   "cell_type": "markdown",
   "metadata": {},
   "source": [
    "Run Monte Carlo simulation with the above local volatility for consistency check"
   ]
  },
  {
   "cell_type": "code",
   "execution_count": 8,
   "metadata": {
    "zanadu": {
     "is_hidden": false
    }
   },
   "outputs": [],
   "source": [
    "def price_MC_LocalVol(s0, strike, T, params, nbSimul, nbSteps):\n",
    "    deltaT = T / (1.*nbSteps)\n",
    "    SS = np.linspace(s0, s0, nbSimul)\n",
    "    time = np.linspace(deltaT, T, nbSteps)\n",
    "\n",
    "    for t in time:\n",
    "        sig = np.sqrt(SSVI_LocalVarg(np.log(SS), t, params))\n",
    "        SS = SS*np.exp(-0.5*sig*sig*deltaT + np.sqrt(deltaT)*sig*random.normal(0., 1., nbSimul))\n",
    "    price = np.mean(np.maximum(SS - strike, 0.))\n",
    "    return price"
   ]
  },
  {
   "cell_type": "markdown",
   "metadata": {
    "zanadu": {}
   },
   "source": [
    "### Numerical example"
   ]
  },
  {
   "cell_type": "code",
   "execution_count": 9,
   "metadata": {
    "zanadu": {
     "is_hidden": true
    }
   },
   "outputs": [],
   "source": [
    "def Gdensity(x): ## Gaussian density\n",
    "    return np.exp(-x*x/2.)/np.sqrt(2*np.pi)\n",
    "\n",
    "#### Black Sholes Vega\n",
    "def BlackScholesVegaCore(DF,F,X,T,v):\n",
    "    vsqrt=v*np.sqrt(T)\n",
    "    d1 = (np.log(F/X)+(vsqrt*vsqrt/2.))/vsqrt\n",
    "    return F*Gdensity(d1)*np.sqrt(T)/DF\n",
    "\n",
    "#### Black Sholes Function\n",
    "def BlackScholesCore(CallPutFlag,DF,F,X,T,v):\n",
    "    ## DF: discount factor\n",
    "    ## F: Forward\n",
    "    ## X: strike\n",
    "    vsqrt=v*np.sqrt(T)\n",
    "    d1 = (np.log(F/X)+(vsqrt*vsqrt/2.))/vsqrt\n",
    "    d2 = d1-vsqrt\n",
    "    if CallPutFlag:\n",
    "        return DF*(F*norm.cdf(d1)-X*norm.cdf(d2))\n",
    "    else:\n",
    "        return DF*(X*norm.cdf(-d2)-F*norm.cdf(-d1))\n",
    "    \n",
    "##  Black-Scholes Pricing Function\n",
    "def BlackScholes(CallPutFlag,S,X,T,r,d,v):\n",
    "    ## r, d: continuous interest rate and dividend\n",
    "    return BlackScholesCore(CallPutFlag,np.exp(-r*T),np.exp((r-d)*T)*S,X,T,v)\n",
    "\n",
    "def BSimpliedvol(r,T,s0,K, price):\n",
    "    ## Bisection algorithm when the Lee-Li algorithm breaks down\n",
    "    def smileMin(vol, *args):\n",
    "        K, s0, T, r, price = args\n",
    "        return price - BlackScholes(True, s0, K, T, r, 0., vol)\n",
    "    vMin, vMax = 0.000001, 2.\n",
    "    return bisect(smileMin, vMin, vMax, args=(K, s0, T, r, price), xtol=1e-20, rtol=1e-15, full_output=False, disp=True)"
   ]
  },
  {
   "cell_type": "code",
   "execution_count": 10,
   "metadata": {
    "zanadu": {
     "is_hidden": false
    }
   },
   "outputs": [
    {
     "name": "stdout",
     "output_type": "stream",
     "text": [
      "Consistency check for no-arbitrage:  True\n",
      "Black-Scholes implied vol:  0.19999999999999998\n",
      "SSVI implied vol:  0.2\n",
      "Implied vol from local volatility price by MC:  0.19942495050224757\n"
     ]
    }
   ],
   "source": [
    "sigma, gamma, rho = 0.2, 0.8, -0.7\n",
    "s0, x, T = 1., 0., 1.\n",
    "nbSimul, nbSteps = 10000, 100\n",
    "xx = np.linspace(-0.5, 0.5, 10)\n",
    "params = gamma, sigma, rho\n",
    "\n",
    "print(\"Consistency check for no-arbitrage: \", (gamma - 0.25*(1.+np.abs(rho))>0.))\n",
    "\n",
    "ssvivol = np.sqrt(SSVI(x, T, params)/T)\n",
    "BSPrice = BlackScholesCore(True,1.,s0,s0*np.exp(x),T,ssvivol)\n",
    "print(\"Black-Scholes implied vol: \", BSimpliedvol(0., T, s0, s0*np.exp(x), BSPrice))\n",
    "print(\"SSVI implied vol: \", ssvivol)\n",
    "\n",
    "price = price_MC_LocalVol(s0, s0*np.exp(x), T, params, nbSimul, nbSteps)\n",
    "print(\"Implied vol from local volatility price by MC: \",  BSimpliedvol(0., T, s0, s0*np.exp(x), price))"
   ]
  },
  {
   "cell_type": "markdown",
   "metadata": {
    "zanadu": {}
   },
   "source": [
    "# Example 2"
   ]
  },
  {
   "cell_type": "markdown",
   "metadata": {
    "zanadu": {}
   },
   "source": [
    "We consider the following function\n",
    "$$\n",
    "\\varphi(\\theta)\\equiv\\frac{\\eta}{\\theta^\\gamma},\n",
    "$$\n",
    "where $\\gamma \\in (0,1/2]$."
   ]
  },
  {
   "cell_type": "code",
   "execution_count": 2,
   "metadata": {
    "zanadu": {
     "code_type": ""
    }
   },
   "outputs": [],
   "source": [
    "def phi(theta, params):\n",
    "    gamma, eta, sigma, rho = params\n",
    "    return eta / pow(theta, gamma)\n",
    "\n",
    "def SSVI(x, t, params):\n",
    "    gamma, eta, sigma, rho = params\n",
    "    theta = sigma*sigma*t\n",
    "    p = phi(theta, params)\n",
    "    return 0.5*theta*(1.+rho*p*x+np.sqrt((p*x+rho)*(p*x+rho)+1.-rho*rho))\n",
    "\n",
    "def SSVI1(x, t, params):\n",
    "    ## First derivative with respect to x\n",
    "    gamma, eta, sigma, rho = params\n",
    "    theta = sigma*sigma*t\n",
    "    p = phi(theta, params)\n",
    "    return 0.5*theta*p*(p*x+rho*np.sqrt(p*p*x*x+2.*p*rho*x+1.)+rho)/np.sqrt(p*p*x*x+2.*p*rho*x+1.)\n",
    "\n",
    "def SSVI2(x, t, params):\n",
    "    ## Second derivative with respect to x\n",
    "    gamma, eta, sigma, rho = params\n",
    "    theta = sigma*sigma*t\n",
    "    p = phi(theta, params)\n",
    "    return 0.5*theta*p*p*(1.-rho*rho)/ ((p*p*x*x + 2.*p*rho*x + 1.)*np.sqrt(p*p*x*x+2.*p*rho*x+1.))\n",
    "    \n",
    "def SSVIt(x, t, params):\n",
    "    ## First derivative with respect to t, by central difference\n",
    "    eps = 0.0001\n",
    "    return (SSVI(x,t+eps,params) - SSVI(x,t-eps,params))/(2.*eps)\n",
    "\n",
    "def g(x, t, params):\n",
    "    w = SSVI(x,t,params)\n",
    "    w1 = SSVI1(x,t,params)\n",
    "    w2 = SSVI2(x,t,params)\n",
    "    return (1.-0.5*x*w1/w)*(1.-0.5*x*w1/w) - 0.25*w1*w1*(0.25 + 1./w) + 0.5*w2\n",
    "    \n",
    "\n",
    "def dminus(x, t, params):\n",
    "    vsqrt = np.sqrt(SSVI(x,t,params))\n",
    "    return -x/vsqrt - 0.5*vsqrt\n",
    "    \n",
    "def densitySSVI(x, t, params):\n",
    "    dm = dminus(x,t,params)\n",
    "    return g(x,t,params)*np.exp(-0.5*dm*dm)/np.sqrt(2.*np.pi*SSVI(x,t,params))\n",
    "\n",
    "def SSVI_LocalVarg(x, t, params):\n",
    "    ## Compute the equivalent SSVI local variance\n",
    "    return SSVIt(x,t,params) / g(x,t,params)"
   ]
  },
  {
   "cell_type": "markdown",
   "metadata": {
    "zanadu": {}
   },
   "source": [
    "## Numerical example"
   ]
  },
  {
   "cell_type": "code",
   "execution_count": 3,
   "metadata": {
    "zanadu": {
     "code_type": ""
    }
   },
   "outputs": [
    {
     "name": "stdout",
     "output_type": "stream",
     "text": [
      "Consistency check to avoid static arbitrage:  True\n"
     ]
    }
   ],
   "source": [
    "sigma, gamma, eta, rho = 0.2, 0.4, 0.2, -0.4\n",
    "xx, TT = np.linspace(-1., 1., 20), np.linspace(0.1, 2., 20)\n",
    "\n",
    "print(\"Consistency check to avoid static arbitrage: \", (gamma - 0.25*(1.+np.abs(rho))>0.))\n",
    "params = gamma, eta, sigma, rho\n",
    "\n",
    "localVarianceSSVI = [[SSVI_LocalVarg(x, t, params) for x in xx] for t in TT]"
   ]
  },
  {
   "cell_type": "code",
   "execution_count": 4,
   "metadata": {
    "zanadu": {
     "code_type": ""
    }
   },
   "outputs": [
    {
     "data": {
      "image/png": "[encoded data removed]",
      "text/plain": [
       "<Figure size 800x500 with 1 Axes>"
      ]
     },
     "metadata": {},
     "output_type": "display_data"
    }
   ],
   "source": [
    "from mpl_toolkits.mplot3d import Axes3D  # required for 3D projection\n",
    "import matplotlib.pyplot as plt\n",
    "\n",
    "fig = plt.figure(figsize=(8, 5))\n",
    "ax = fig.add_subplot(111, projection='3d')  # ✅ Correct way to specify 3D\n",
    "\n",
    "xxx, TTT = np.meshgrid(xx, TT)\n",
    "localVarianceSSVI = np.array(localVarianceSSVI)\n",
    "ax.plot_surface(xxx, TTT, localVarianceSSVI, cmap=plt.cm.jet, rstride=1, cstride=1, linewidth=0)\n",
    "ax.set_xlabel(\"Log-moneyness\")\n",
    "ax.set_ylabel(\"Maturity\")\n",
    "ax.set_zlabel(\"Local variance\")\n",
    "ax.set_title(\"SSVI local variance\")\n",
    "plt.show()"
   ]
  },
  {
   "cell_type": "code",
   "execution_count": 16,
   "metadata": {},
   "outputs": [
    {
     "data": {
      "application/vnd.plotly.v1+json": {
       "config": {
        "plotlyServerURL": "https://plot.ly"
       },
       "data": [
        {
         "colorscale": [
          [
           0,
           "rgb(0,0,131)"
          ],
          [
           0.2,
           "rgb(0,60,170)"
          ],
          [
           0.4,
           "rgb(5,255,255)"
          ],
          [
           0.6,
           "rgb(255,255,0)"
          ],
          [
           0.8,
           "rgb(250,0,0)"
          ],
          [
           1,
           "rgb(128,0,0)"
          ]
         ],
         "showscale": false,
         "type": "surface",
         "x": {
          "bdata": "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",
          "dtype": "f8",
          "shape": "20, 20"
         },
         "y": {
          "bdata": "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",
          "dtype": "f8",
          "shape": "20, 20"
         },
         "z": {
          "bdata": "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",
          "dtype": "f8",
          "shape": "20, 20"
         }
        }
       ],
       "frames": [
        {
         "layout": {
          "scene": {
           "camera": {
            "eye": {
             "x": 1,
             "y": 0,
             "z": 0.5
            }
           }
          }
         }
        },
        {
         "layout": {
          "scene": {
           "camera": {
            "eye": {
             "x": 0.9961946980917455,
             "y": 0.08715574274765817,
             "z": 0.5
            }
           }
          }
         }
        },
        {
         "layout": {
          "scene": {
           "camera": {
            "eye": {
             "x": 0.984807753012208,
             "y": 0.17364817766693033,
             "z": 0.5
            }
           }
          }
         }
        },
        {
         "layout": {
          "scene": {
           "camera": {
            "eye": {
             "x": 0.9659258262890683,
             "y": 0.25881904510252074,
             "z": 0.5
            }
           }
          }
         }
        },
        {
         "layout": {
          "scene": {
           "camera": {
            "eye": {
             "x": 0.9396926207859084,
             "y": 0.3420201433256687,
             "z": 0.5
            }
           }
          }
         }
        },
        {
         "layout": {
          "scene": {
           "camera": {
            "eye": {
             "x": 0.9063077870366499,
             "y": 0.42261826174069944,
             "z": 0.5
            }
           }
          }
         }
        },
        {
         "layout": {
          "scene": {
           "camera": {
            "eye": {
             "x": 0.8660254037844387,
             "y": 0.49999999999999994,
             "z": 0.5
            }
           }
          }
         }
        },
        {
         "layout": {
          "scene": {
           "camera": {
            "eye": {
             "x": 0.8191520442889918,
             "y": 0.573576436351046,
             "z": 0.5
            }
           }
          }
         }
        },
        {
         "layout": {
          "scene": {
           "camera": {
            "eye": {
             "x": 0.766044443118978,
             "y": 0.6427876096865393,
             "z": 0.5
            }
           }
          }
         }
        },
        {
         "layout": {
          "scene": {
           "camera": {
            "eye": {
             "x": 0.7071067811865476,
             "y": 0.7071067811865475,
             "z": 0.5
            }
           }
          }
         }
        },
        {
         "layout": {
          "scene": {
           "camera": {
            "eye": {
             "x": 0.6427876096865394,
             "y": 0.766044443118978,
             "z": 0.5
            }
           }
          }
         }
        },
        {
         "layout": {
          "scene": {
           "camera": {
            "eye": {
             "x": 0.573576436351046,
             "y": 0.8191520442889918,
             "z": 0.5
            }
           }
          }
         }
        },
        {
         "layout": {
          "scene": {
           "camera": {
            "eye": {
             "x": 0.5000000000000001,
             "y": 0.8660254037844386,
             "z": 0.5
            }
           }
          }
         }
        },
        {
         "layout": {
          "scene": {
           "camera": {
            "eye": {
             "x": 0.42261826174069944,
             "y": 0.9063077870366499,
             "z": 0.5
            }
           }
          }
         }
        },
        {
         "layout": {
          "scene": {
           "camera": {
            "eye": {
             "x": 0.3420201433256688,
             "y": 0.9396926207859083,
             "z": 0.5
            }
           }
          }
         }
        },
        {
         "layout": {
          "scene": {
           "camera": {
            "eye": {
             "x": 0.25881904510252074,
             "y": 0.9659258262890683,
             "z": 0.5
            }
           }
          }
         }
        },
        {
         "layout": {
          "scene": {
           "camera": {
            "eye": {
             "x": 0.17364817766693041,
             "y": 0.984807753012208,
             "z": 0.5
            }
           }
          }
         }
        },
        {
         "layout": {
          "scene": {
           "camera": {
            "eye": {
             "x": 0.08715574274765814,
             "y": 0.9961946980917455,
             "z": 0.5
            }
           }
          }
         }
        },
        {
         "layout": {
          "scene": {
           "camera": {
            "eye": {
             "x": 6.123233995736766e-17,
             "y": 1,
             "z": 0.5
            }
           }
          }
         }
        },
        {
         "layout": {
          "scene": {
           "camera": {
            "eye": {
             "x": -0.08715574274765824,
             "y": 0.9961946980917455,
             "z": 0.5
            }
           }
          }
         }
        },
        {
         "layout": {
          "scene": {
           "camera": {
            "eye": {
             "x": -0.1736481776669303,
             "y": 0.984807753012208,
             "z": 0.5
            }
           }
          }
         }
        },
        {
         "layout": {
          "scene": {
           "camera": {
            "eye": {
             "x": -0.25881904510252085,
             "y": 0.9659258262890683,
             "z": 0.5
            }
           }
          }
         }
        },
        {
         "layout": {
          "scene": {
           "camera": {
            "eye": {
             "x": -0.3420201433256687,
             "y": 0.9396926207859084,
             "z": 0.5
            }
           }
          }
         }
        },
        {
         "layout": {
          "scene": {
           "camera": {
            "eye": {
             "x": -0.42261826174069933,
             "y": 0.90630778703665,
             "z": 0.5
            }
           }
          }
         }
        },
        {
         "layout": {
          "scene": {
           "camera": {
            "eye": {
             "x": -0.49999999999999983,
             "y": 0.8660254037844387,
             "z": 0.5
            }
           }
          }
         }
        },
        {
         "layout": {
          "scene": {
           "camera": {
            "eye": {
             "x": -0.5735764363510462,
             "y": 0.8191520442889917,
             "z": 0.5
            }
           }
          }
         }
        },
        {
         "layout": {
          "scene": {
           "camera": {
            "eye": {
             "x": -0.6427876096865394,
             "y": 0.766044443118978,
             "z": 0.5
            }
           }
          }
         }
        },
        {
         "layout": {
          "scene": {
           "camera": {
            "eye": {
             "x": -0.7071067811865475,
             "y": 0.7071067811865476,
             "z": 0.5
            }
           }
          }
         }
        },
        {
         "layout": {
          "scene": {
           "camera": {
            "eye": {
             "x": -0.7660444431189779,
             "y": 0.6427876096865395,
             "z": 0.5
            }
           }
          }
         }
        },
        {
         "layout": {
          "scene": {
           "camera": {
            "eye": {
             "x": -0.8191520442889919,
             "y": 0.5735764363510459,
             "z": 0.5
            }
           }
          }
         }
        },
        {
         "layout": {
          "scene": {
           "camera": {
            "eye": {
             "x": -0.8660254037844387,
             "y": 0.49999999999999994,
             "z": 0.5
            }
           }
          }
         }
        },
        {
         "layout": {
          "scene": {
           "camera": {
            "eye": {
             "x": -0.9063077870366499,
             "y": 0.4226182617406995,
             "z": 0.5
            }
           }
          }
         }
        },
        {
         "layout": {
          "scene": {
           "camera": {
            "eye": {
             "x": -0.9396926207859083,
             "y": 0.3420201433256689,
             "z": 0.5
            }
           }
          }
         }
        },
        {
         "layout": {
          "scene": {
           "camera": {
            "eye": {
             "x": -0.9659258262890682,
             "y": 0.258819045102521,
             "z": 0.5
            }
           }
          }
         }
        },
        {
         "layout": {
          "scene": {
           "camera": {
            "eye": {
             "x": -0.984807753012208,
             "y": 0.17364817766693028,
             "z": 0.5
            }
           }
          }
         }
        },
        {
         "layout": {
          "scene": {
           "camera": {
            "eye": {
             "x": -0.9961946980917455,
             "y": 0.0871557427476582,
             "z": 0.5
            }
           }
          }
         }
        },
        {
         "layout": {
          "scene": {
           "camera": {
            "eye": {
             "x": -1,
             "y": 1.2246467991473532e-16,
             "z": 0.5
            }
           }
          }
         }
        },
        {
         "layout": {
          "scene": {
           "camera": {
            "eye": {
             "x": -0.9961946980917455,
             "y": -0.08715574274765794,
             "z": 0.5
            }
           }
          }
         }
        },
        {
         "layout": {
          "scene": {
           "camera": {
            "eye": {
             "x": -0.984807753012208,
             "y": -0.17364817766693047,
             "z": 0.5
            }
           }
          }
         }
        },
        {
         "layout": {
          "scene": {
           "camera": {
            "eye": {
             "x": -0.9659258262890683,
             "y": -0.2588190451025208,
             "z": 0.5
            }
           }
          }
         }
        },
        {
         "layout": {
          "scene": {
           "camera": {
            "eye": {
             "x": -0.9396926207859084,
             "y": -0.34202014332566866,
             "z": 0.5
            }
           }
          }
         }
        },
        {
         "layout": {
          "scene": {
           "camera": {
            "eye": {
             "x": -0.90630778703665,
             "y": -0.4226182617406993,
             "z": 0.5
            }
           }
          }
         }
        },
        {
         "layout": {
          "scene": {
           "camera": {
            "eye": {
             "x": -0.8660254037844386,
             "y": -0.5000000000000001,
             "z": 0.5
            }
           }
          }
         }
        },
        {
         "layout": {
          "scene": {
           "camera": {
            "eye": {
             "x": -0.8191520442889918,
             "y": -0.5735764363510462,
             "z": 0.5
            }
           }
          }
         }
        },
        {
         "layout": {
          "scene": {
           "camera": {
            "eye": {
             "x": -0.766044443118978,
             "y": -0.6427876096865393,
             "z": 0.5
            }
           }
          }
         }
        },
        {
         "layout": {
          "scene": {
           "camera": {
            "eye": {
             "x": -0.7071067811865477,
             "y": -0.7071067811865475,
             "z": 0.5
            }
           }
          }
         }
        },
        {
         "layout": {
          "scene": {
           "camera": {
            "eye": {
             "x": -0.6427876096865395,
             "y": -0.7660444431189779,
             "z": 0.5
            }
           }
          }
         }
        },
        {
         "layout": {
          "scene": {
           "camera": {
            "eye": {
             "x": -0.5735764363510464,
             "y": -0.8191520442889916,
             "z": 0.5
            }
           }
          }
         }
        },
        {
         "layout": {
          "scene": {
           "camera": {
            "eye": {
             "x": -0.5000000000000004,
             "y": -0.8660254037844384,
             "z": 0.5
            }
           }
          }
         }
        },
        {
         "layout": {
          "scene": {
           "camera": {
            "eye": {
             "x": -0.42261826174069916,
             "y": -0.90630778703665,
             "z": 0.5
            }
           }
          }
         }
        },
        {
         "layout": {
          "scene": {
           "camera": {
            "eye": {
             "x": -0.34202014332566855,
             "y": -0.9396926207859084,
             "z": 0.5
            }
           }
          }
         }
        },
        {
         "layout": {
          "scene": {
           "camera": {
            "eye": {
             "x": -0.25881904510252063,
             "y": -0.9659258262890683,
             "z": 0.5
            }
           }
          }
         }
        },
        {
         "layout": {
          "scene": {
           "camera": {
            "eye": {
             "x": -0.17364817766693033,
             "y": -0.984807753012208,
             "z": 0.5
            }
           }
          }
         }
        },
        {
         "layout": {
          "scene": {
           "camera": {
            "eye": {
             "x": -0.08715574274765825,
             "y": -0.9961946980917455,
             "z": 0.5
            }
           }
          }
         }
        },
        {
         "layout": {
          "scene": {
           "camera": {
            "eye": {
             "x": -1.8369701987210297e-16,
             "y": -1,
             "z": 0.5
            }
           }
          }
         }
        },
        {
         "layout": {
          "scene": {
           "camera": {
            "eye": {
             "x": 0.08715574274765789,
             "y": -0.9961946980917455,
             "z": 0.5
            }
           }
          }
         }
        },
        {
         "layout": {
          "scene": {
           "camera": {
            "eye": {
             "x": 0.17364817766692997,
             "y": -0.9848077530122081,
             "z": 0.5
            }
           }
          }
         }
        },
        {
         "layout": {
          "scene": {
           "camera": {
            "eye": {
             "x": 0.2588190451025203,
             "y": -0.9659258262890684,
             "z": 0.5
            }
           }
          }
         }
        },
        {
         "layout": {
          "scene": {
           "camera": {
            "eye": {
             "x": 0.342020143325669,
             "y": -0.9396926207859083,
             "z": 0.5
            }
           }
          }
         }
        },
        {
         "layout": {
          "scene": {
           "camera": {
            "eye": {
             "x": 0.4226182617406996,
             "y": -0.9063077870366498,
             "z": 0.5
            }
           }
          }
         }
        },
        {
         "layout": {
          "scene": {
           "camera": {
            "eye": {
             "x": 0.5000000000000001,
             "y": -0.8660254037844386,
             "z": 0.5
            }
           }
          }
         }
        },
        {
         "layout": {
          "scene": {
           "camera": {
            "eye": {
             "x": 0.573576436351046,
             "y": -0.8191520442889918,
             "z": 0.5
            }
           }
          }
         }
        },
        {
         "layout": {
          "scene": {
           "camera": {
            "eye": {
             "x": 0.6427876096865393,
             "y": -0.7660444431189781,
             "z": 0.5
            }
           }
          }
         }
        },
        {
         "layout": {
          "scene": {
           "camera": {
            "eye": {
             "x": 0.7071067811865474,
             "y": -0.7071067811865477,
             "z": 0.5
            }
           }
          }
         }
        },
        {
         "layout": {
          "scene": {
           "camera": {
            "eye": {
             "x": 0.7660444431189778,
             "y": -0.6427876096865396,
             "z": 0.5
            }
           }
          }
         }
        },
        {
         "layout": {
          "scene": {
           "camera": {
            "eye": {
             "x": 0.8191520442889916,
             "y": -0.5735764363510465,
             "z": 0.5
            }
           }
          }
         }
        },
        {
         "layout": {
          "scene": {
           "camera": {
            "eye": {
             "x": 0.8660254037844384,
             "y": -0.5000000000000004,
             "z": 0.5
            }
           }
          }
         }
        },
        {
         "layout": {
          "scene": {
           "camera": {
            "eye": {
             "x": 0.90630778703665,
             "y": -0.4226182617406992,
             "z": 0.5
            }
           }
          }
         }
        },
        {
         "layout": {
          "scene": {
           "camera": {
            "eye": {
             "x": 0.9396926207859084,
             "y": -0.3420201433256686,
             "z": 0.5
            }
           }
          }
         }
        },
        {
         "layout": {
          "scene": {
           "camera": {
            "eye": {
             "x": 0.9659258262890683,
             "y": -0.2588190451025207,
             "z": 0.5
            }
           }
          }
         }
        },
        {
         "layout": {
          "scene": {
           "camera": {
            "eye": {
             "x": 0.984807753012208,
             "y": -0.1736481776669304,
             "z": 0.5
            }
           }
          }
         }
        },
        {
         "layout": {
          "scene": {
           "camera": {
            "eye": {
             "x": 0.9961946980917455,
             "y": -0.08715574274765832,
             "z": 0.5
            }
           }
          }
         }
        }
       ],
       "layout": {
        "height": 400,
        "scene": {
         "camera": {
          "eye": {
           "x": 1.25,
           "y": 1.25,
           "z": 0.5
          }
         },
         "xaxis": {
          "title": {
           "text": "Log-moneyness"
          }
         },
         "yaxis": {
          "title": {
           "text": "Maturity"
          }
         },
         "zaxis": {
          "title": {
           "text": "Local variance"
          }
         }
        },
        "template": {
         "data": {
          "bar": [
           {
            "error_x": {
             "color": "#2a3f5f"
            },
            "error_y": {
             "color": "#2a3f5f"
            },
            "marker": {
             "line": {
              "color": "#E5ECF6",
              "width": 0.5
             },
             "pattern": {
              "fillmode": "overlay",
              "size": 10,
              "solidity": 0.2
             }
            },
            "type": "bar"
           }
          ],
          "barpolar": [
           {
            "marker": {
             "line": {
              "color": "#E5ECF6",
              "width": 0.5
             },
             "pattern": {
              "fillmode": "overlay",
              "size": 10,
              "solidity": 0.2
             }
            },
            "type": "barpolar"
           }
          ],
          "carpet": [
           {
            "aaxis": {
             "endlinecolor": "#2a3f5f",
             "gridcolor": "white",
             "linecolor": "white",
             "minorgridcolor": "white",
             "startlinecolor": "#2a3f5f"
            },
            "baxis": {
             "endlinecolor": "#2a3f5f",
             "gridcolor": "white",
             "linecolor": "white",
             "minorgridcolor": "white",
             "startlinecolor": "#2a3f5f"
            },
            "type": "carpet"
           }
          ],
          "choropleth": [
           {
            "colorbar": {
             "outlinewidth": 0,
             "ticks": ""
            },
            "type": "choropleth"
           }
          ],
          "contour": [
           {
            "colorbar": {
             "outlinewidth": 0,
             "ticks": ""
            },
            "colorscale": [
             [
              0,
              "#0d0887"
             ],
             [
              0.1111111111111111,
              "#46039f"
             ],
             [
              0.2222222222222222,
              "#7201a8"
             ],
             [
              0.3333333333333333,
              "#9c179e"
             ],
             [
              0.4444444444444444,
              "#bd3786"
             ],
             [
              0.5555555555555556,
              "#d8576b"
             ],
             [
              0.6666666666666666,
              "#ed7953"
             ],
             [
              0.7777777777777778,
              "#fb9f3a"
             ],
             [
              0.8888888888888888,
              "#fdca26"
             ],
             [
              1,
              "#f0f921"
             ]
            ],
            "type": "contour"
           }
          ],
          "contourcarpet": [
           {
            "colorbar": {
             "outlinewidth": 0,
             "ticks": ""
            },
            "type": "contourcarpet"
           }
          ],
          "heatmap": [
           {
            "colorbar": {
             "outlinewidth": 0,
             "ticks": ""
            },
            "colorscale": [
             [
              0,
              "#0d0887"
             ],
             [
              0.1111111111111111,
              "#46039f"
             ],
             [
              0.2222222222222222,
              "#7201a8"
             ],
             [
              0.3333333333333333,
              "#9c179e"
             ],
             [
              0.4444444444444444,
              "#bd3786"
             ],
             [
              0.5555555555555556,
              "#d8576b"
             ],
             [
              0.6666666666666666,
              "#ed7953"
             ],
             [
              0.7777777777777778,
              "#fb9f3a"
             ],
             [
              0.8888888888888888,
              "#fdca26"
             ],
             [
              1,
              "#f0f921"
             ]
            ],
            "type": "heatmap"
           }
          ],
          "histogram": [
           {
            "marker": {
             "pattern": {
              "fillmode": "overlay",
              "size": 10,
              "solidity": 0.2
             }
            },
            "type": "histogram"
           }
          ],
          "histogram2d": [
           {
            "colorbar": {
             "outlinewidth": 0,
             "ticks": ""
            },
            "colorscale": [
             [
              0,
              "#0d0887"
             ],
             [
              0.1111111111111111,
              "#46039f"
             ],
             [
              0.2222222222222222,
              "#7201a8"
             ],
             [
              0.3333333333333333,
              "#9c179e"
             ],
             [
              0.4444444444444444,
              "#bd3786"
             ],
             [
              0.5555555555555556,
              "#d8576b"
             ],
             [
              0.6666666666666666,
              "#ed7953"
             ],
             [
              0.7777777777777778,
              "#fb9f3a"
             ],
             [
              0.8888888888888888,
              "#fdca26"
             ],
             [
              1,
              "#f0f921"
             ]
            ],
            "type": "histogram2d"
           }
          ],
          "histogram2dcontour": [
           {
            "colorbar": {
             "outlinewidth": 0,
             "ticks": ""
            },
            "colorscale": [
             [
              0,
              "#0d0887"
             ],
             [
              0.1111111111111111,
              "#46039f"
             ],
             [
              0.2222222222222222,
              "#7201a8"
             ],
             [
              0.3333333333333333,
              "#9c179e"
             ],
             [
              0.4444444444444444,
              "#bd3786"
             ],
             [
              0.5555555555555556,
              "#d8576b"
             ],
             [
              0.6666666666666666,
              "#ed7953"
             ],
             [
              0.7777777777777778,
              "#fb9f3a"
             ],
             [
              0.8888888888888888,
              "#fdca26"
             ],
             [
              1,
              "#f0f921"
             ]
            ],
            "type": "histogram2dcontour"
           }
          ],
          "mesh3d": [
           {
            "colorbar": {
             "outlinewidth": 0,
             "ticks": ""
            },
            "type": "mesh3d"
           }
          ],
          "parcoords": [
           {
            "line": {
             "colorbar": {
              "outlinewidth": 0,
              "ticks": ""
             }
            },
            "type": "parcoords"
           }
          ],
          "pie": [
           {
            "automargin": true,
            "type": "pie"
           }
          ],
          "scatter": [
           {
            "fillpattern": {
             "fillmode": "overlay",
             "size": 10,
             "solidity": 0.2
            },
            "type": "scatter"
           }
          ],
          "scatter3d": [
           {
            "line": {
             "colorbar": {
              "outlinewidth": 0,
              "ticks": ""
             }
            },
            "marker": {
             "colorbar": {
              "outlinewidth": 0,
              "ticks": ""
             }
            },
            "type": "scatter3d"
           }
          ],
          "scattercarpet": [
           {
            "marker": {
             "colorbar": {
              "outlinewidth": 0,
              "ticks": ""
             }
            },
            "type": "scattercarpet"
           }
          ],
          "scattergeo": [
           {
            "marker": {
             "colorbar": {
              "outlinewidth": 0,
              "ticks": ""
             }
            },
            "type": "scattergeo"
           }
          ],
          "scattergl": [
           {
            "marker": {
             "colorbar": {
              "outlinewidth": 0,
              "ticks": ""
             }
            },
            "type": "scattergl"
           }
          ],
          "scattermap": [
           {
            "marker": {
             "colorbar": {
              "outlinewidth": 0,
              "ticks": ""
             }
            },
            "type": "scattermap"
           }
          ],
          "scattermapbox": [
           {
            "marker": {
             "colorbar": {
              "outlinewidth": 0,
              "ticks": ""
             }
            },
            "type": "scattermapbox"
           }
          ],
          "scatterpolar": [
           {
            "marker": {
             "colorbar": {
              "outlinewidth": 0,
              "ticks": ""
             }
            },
            "type": "scatterpolar"
           }
          ],
          "scatterpolargl": [
           {
            "marker": {
             "colorbar": {
              "outlinewidth": 0,
              "ticks": ""
             }
            },
            "type": "scatterpolargl"
           }
          ],
          "scatterternary": [
           {
            "marker": {
             "colorbar": {
              "outlinewidth": 0,
              "ticks": ""
             }
            },
            "type": "scatterternary"
           }
          ],
          "surface": [
           {
            "colorbar": {
             "outlinewidth": 0,
             "ticks": ""
            },
            "colorscale": [
             [
              0,
              "#0d0887"
             ],
             [
              0.1111111111111111,
              "#46039f"
             ],
             [
              0.2222222222222222,
              "#7201a8"
             ],
             [
              0.3333333333333333,
              "#9c179e"
             ],
             [
              0.4444444444444444,
              "#bd3786"
             ],
             [
              0.5555555555555556,
              "#d8576b"
             ],
             [
              0.6666666666666666,
              "#ed7953"
             ],
             [
              0.7777777777777778,
              "#fb9f3a"
             ],
             [
              0.8888888888888888,
              "#fdca26"
             ],
             [
              1,
              "#f0f921"
             ]
            ],
            "type": "surface"
           }
          ],
          "table": [
           {
            "cells": {
             "fill": {
              "color": "#EBF0F8"
             },
             "line": {
              "color": "white"
             }
            },
            "header": {
             "fill": {
              "color": "#C8D4E3"
             },
             "line": {
              "color": "white"
             }
            },
            "type": "table"
           }
          ]
         },
         "layout": {
          "annotationdefaults": {
           "arrowcolor": "#2a3f5f",
           "arrowhead": 0,
           "arrowwidth": 1
          },
          "autotypenumbers": "strict",
          "coloraxis": {
           "colorbar": {
            "outlinewidth": 0,
            "ticks": ""
           }
          },
          "colorscale": {
           "diverging": [
            [
             0,
             "#8e0152"
            ],
            [
             0.1,
             "#c51b7d"
            ],
            [
             0.2,
             "#de77ae"
            ],
            [
             0.3,
             "#f1b6da"
            ],
            [
             0.4,
             "#fde0ef"
            ],
            [
             0.5,
             "#f7f7f7"
            ],
            [
             0.6,
             "#e6f5d0"
            ],
            [
             0.7,
             "#b8e186"
            ],
            [
             0.8,
             "#7fbc41"
            ],
            [
             0.9,
             "#4d9221"
            ],
            [
             1,
             "#276419"
            ]
           ],
           "sequential": [
            [
             0,
             "#0d0887"
            ],
            [
             0.1111111111111111,
             "#46039f"
            ],
            [
             0.2222222222222222,
             "#7201a8"
            ],
            [
             0.3333333333333333,
             "#9c179e"
            ],
            [
             0.4444444444444444,
             "#bd3786"
            ],
            [
             0.5555555555555556,
             "#d8576b"
            ],
            [
             0.6666666666666666,
             "#ed7953"
            ],
            [
             0.7777777777777778,
             "#fb9f3a"
            ],
            [
             0.8888888888888888,
             "#fdca26"
            ],
            [
             1,
             "#f0f921"
            ]
           ],
           "sequentialminus": [
            [
             0,
             "#0d0887"
            ],
            [
             0.1111111111111111,
             "#46039f"
            ],
            [
             0.2222222222222222,
             "#7201a8"
            ],
            [
             0.3333333333333333,
             "#9c179e"
            ],
            [
             0.4444444444444444,
             "#bd3786"
            ],
            [
             0.5555555555555556,
             "#d8576b"
            ],
            [
             0.6666666666666666,
             "#ed7953"
            ],
            [
             0.7777777777777778,
             "#fb9f3a"
            ],
            [
             0.8888888888888888,
             "#fdca26"
            ],
            [
             1,
             "#f0f921"
            ]
           ]
          },
          "colorway": [
           "#636efa",
           "#EF553B",
           "#00cc96",
           "#ab63fa",
           "#FFA15A",
           "#19d3f3",
           "#FF6692",
           "#B6E880",
           "#FF97FF",
           "#FECB52"
          ],
          "font": {
           "color": "#2a3f5f"
          },
          "geo": {
           "bgcolor": "white",
           "lakecolor": "white",
           "landcolor": "#E5ECF6",
           "showlakes": true,
           "showland": true,
           "subunitcolor": "white"
          },
          "hoverlabel": {
           "align": "left"
          },
          "hovermode": "closest",
          "mapbox": {
           "style": "light"
          },
          "paper_bgcolor": "white",
          "plot_bgcolor": "#E5ECF6",
          "polar": {
           "angularaxis": {
            "gridcolor": "white",
            "linecolor": "white",
            "ticks": ""
           },
           "bgcolor": "#E5ECF6",
           "radialaxis": {
            "gridcolor": "white",
            "linecolor": "white",
            "ticks": ""
           }
          },
          "scene": {
           "xaxis": {
            "backgroundcolor": "#E5ECF6",
            "gridcolor": "white",
            "gridwidth": 2,
            "linecolor": "white",
            "showbackground": true,
            "ticks": "",
            "zerolinecolor": "white"
           },
           "yaxis": {
            "backgroundcolor": "#E5ECF6",
            "gridcolor": "white",
            "gridwidth": 2,
            "linecolor": "white",
            "showbackground": true,
            "ticks": "",
            "zerolinecolor": "white"
           },
           "zaxis": {
            "backgroundcolor": "#E5ECF6",
            "gridcolor": "white",
            "gridwidth": 2,
            "linecolor": "white",
            "showbackground": true,
            "ticks": "",
            "zerolinecolor": "white"
           }
          },
          "shapedefaults": {
           "line": {
            "color": "#2a3f5f"
           }
          },
          "ternary": {
           "aaxis": {
            "gridcolor": "white",
            "linecolor": "white",
            "ticks": ""
           },
           "baxis": {
            "gridcolor": "white",
            "linecolor": "white",
            "ticks": ""
           },
           "bgcolor": "#E5ECF6",
           "caxis": {
            "gridcolor": "white",
            "linecolor": "white",
            "ticks": ""
           }
          },
          "title": {
           "x": 0.05
          },
          "xaxis": {
           "automargin": true,
           "gridcolor": "white",
           "linecolor": "white",
           "ticks": "",
           "title": {
            "standoff": 15
           },
           "zerolinecolor": "white",
           "zerolinewidth": 2
          },
          "yaxis": {
           "automargin": true,
           "gridcolor": "white",
           "linecolor": "white",
           "ticks": "",
           "title": {
            "standoff": 15
           },
           "zerolinecolor": "white",
           "zerolinewidth": 2
          }
         }
        },
        "title": {
         "text": "SSVI Local Variance"
        },
        "updatemenus": [
         {
          "buttons": [
           {
            "args": [
             null,
             {
              "frame": {
               "duration": 100,
               "redraw": true
              },
              "fromcurrent": true,
              "mode": "immediate"
             }
            ],
            "label": "▶️",
            "method": "animate"
           }
          ],
          "showactive": false,
          "type": "buttons"
         }
        ],
        "width": 600
       }
      }
     },
     "metadata": {},
     "output_type": "display_data"
    }
   ],
   "source": [
    "import plotly.graph_objs as go\n",
    "import numpy as np\n",
    "\n",
    "# Assume xx, TT, localVarianceSSVI are already defined\n",
    "xxx, TTT = np.meshgrid(xx, TT)\n",
    "Z = np.array(localVarianceSSVI)\n",
    "\n",
    "# Base surface\n",
    "surface = go.Surface(\n",
    "    x=xxx,\n",
    "    y=TTT,\n",
    "    z=Z,\n",
    "    colorscale='Jet',\n",
    "    showscale=False,\n",
    ")\n",
    "\n",
    "# Animation frames (rotate azimuth)\n",
    "frames = []\n",
    "for angle in range(0, 360, 5):\n",
    "    eye = dict(x=np.cos(np.radians(angle)), y=np.sin(np.radians(angle)), z=0.5)\n",
    "    frames.append(go.Frame(layout=dict(scene_camera=dict(eye=eye))))\n",
    "\n",
    "# Layout with initial camera\n",
    "layout = go.Layout(\n",
    "    title='SSVI Local Variance',\n",
    "    width=600,\n",
    "    height=400,\n",
    "    scene=dict(\n",
    "        xaxis_title='Log-moneyness',\n",
    "        yaxis_title='Maturity',\n",
    "        zaxis_title='Local variance',\n",
    "        camera=dict(eye=dict(x=1.25, y=1.25, z=0.5))\n",
    "    ),\n",
    "    updatemenus=[dict(\n",
    "        type=\"buttons\",\n",
    "        showactive=False,\n",
    "        buttons=[dict(label=\"▶️\", method=\"animate\", args=[None, {\"frame\": {\"duration\": 100, \"redraw\": True},\n",
    "                                                                 \"fromcurrent\": True, \"mode\": \"immediate\"}])]\n",
    "    )]\n",
    ")\n",
    "\n",
    "# Create figure\n",
    "fig = go.Figure(data=[surface], layout=layout, frames=frames)\n",
    "fig.show()\n"
   ]
  },
  {
   "cell_type": "code",
   "execution_count": null,
   "metadata": {},
   "outputs": [],
   "source": []
  }
 ],
 "metadata": {
  "kernelspec": {
   "display_name": "Python 3",
   "language": "python",
   "name": "python3"
  },
  "language_info": {
   "codemirror_mode": {
    "name": "ipython",
    "version": 3
   },
   "file_extension": ".py",
   "mimetype": "text/x-python",
   "name": "python",
   "nbconvert_exporter": "python",
   "pygments_lexer": "ipython3",
   "version": "3.9.19"
  },
  "zanadu": {
   "authors": [
    "Antoine Jacquier"
   ],
   "bibliography_data": {
    "Gatheral": {
     "author": "Jim Gatheral",
     "id": "Gatheral",
     "journal": "Global Derivatives, Madrid",
     "link": "http://faculty.baruch.cuny.edu/jgatheral/madrid2004.pdf",
     "title": "A parsimonious arbitrage-free implied volatility parameterization with application to the valuation of volatility derivatives",
     "year": "2004"
    },
    "GatheralJacquier": {
     "author": "Jim Gatheral and Antoine Jacquier",
     "id": "GatheralJacquier",
     "journal": "Quantitative Finance",
     "pages": "59-71",
     "title": "Arbitrage-free SVI volatility surfaces",
     "volume": "14(1)",
     "year": "2014"
    }
   },
   "category": "6",
   "clearance": "Private",
   "group_name": "Imperial College",
   "md5": "23148d30edd4983d3d6aec4b4b21be07",
   "notebook_id": "DCE25CF5-9456-4948-AF2B-5F466474177E",
   "python_name": null,
   "reviewer_id": null,
   "status": "WIP"
  }
 },
 "nbformat": 4,
 "nbformat_minor": 4
}
