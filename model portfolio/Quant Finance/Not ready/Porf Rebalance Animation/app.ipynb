{
 "cells": [
  {
   "cell_type": "code",
   "execution_count": 3,
   "metadata": {},
   "outputs": [
    {
     "name": "stderr",
     "output_type": "stream",
     "text": [
      "/var/folders/rf/w1c5pmc51gvg00xtlws6z9nh0000gn/T/ipykernel_24377/717541351.py:15: FutureWarning:\n",
      "\n",
      "YF.download() has changed argument auto_adjust default to True\n",
      "\n",
      "[*********************100%***********************]  9 of 9 completed\n"
     ]
    },
    {
     "data": {
      "application/vnd.plotly.v1+json": {
       "config": {
        "plotlyServerURL": "https://plot.ly"
       },
       "data": [
        {
         "alignmentgroup": "True",
         "hovertemplate": "Strategy=Equal Weight<br>Date=2020-02-29<br>Ticker=%{x}<br>Weight=%{y}<extra></extra>",
         "legendgroup": "Equal Weight",
         "marker": {
          "color": "#636efa",
          "pattern": {
           "shape": ""
          }
         },
         "name": "Equal Weight",
         "offsetgroup": "Equal Weight",
         "orientation": "v",
         "showlegend": true,
         "textposition": "auto",
         "type": "bar",
         "x": [
          "AAPL",
          "WMT",
          "TSLA",
          "KO",
          "BAC",
          "T",
          "META",
          "NFLX",
          "CRM"
         ],
         "xaxis": "x",
         "y": [
          0.1111111111111111,
          0.1111111111111111,
          0.1111111111111111,
          0.1111111111111111,
          0.1111111111111111,
          0.1111111111111111,
          0.1111111111111111,
          0.1111111111111111,
          0.1111111111111111
         ],
         "yaxis": "y"
        },
        {
         "alignmentgroup": "True",
         "hovertemplate": "Strategy=Inverse Vol<br>Date=2020-02-29<br>Ticker=%{x}<br>Weight=%{y}<extra></extra>",
         "legendgroup": "Inverse Vol",
         "marker": {
          "color": "#EF553B",
          "pattern": {
           "shape": ""
          }
         },
         "name": "Inverse Vol",
         "offsetgroup": "Inverse Vol",
         "orientation": "v",
         "showlegend": true,
         "textposition": "auto",
         "type": "bar",
         "x": [
          "AAPL",
          "WMT",
          "TSLA",
          "KO",
          "BAC",
          "T",
          "META",
          "NFLX",
          "CRM"
         ],
         "xaxis": "x",
         "y": [
          0.08850446198282293,
          0.13609212423722697,
          0.10473928752879566,
          0.15960610423315472,
          0.07907173421128576,
          0.06364977465389937,
          0.1361637316184189,
          0.041589701245767996,
          0.19058308028862764
         ],
         "yaxis": "y"
        },
        {
         "alignmentgroup": "True",
         "hovertemplate": "Strategy=GMV<br>Date=2020-02-29<br>Ticker=%{x}<br>Weight=%{y}<extra></extra>",
         "legendgroup": "GMV",
         "marker": {
          "color": "#00cc96",
          "pattern": {
           "shape": ""
          }
         },
         "name": "GMV",
         "offsetgroup": "GMV",
         "orientation": "v",
         "showlegend": true,
         "textposition": "auto",
         "type": "bar",
         "x": [
          "AAPL",
          "WMT",
          "TSLA",
          "KO",
          "BAC",
          "T",
          "META",
          "NFLX",
          "CRM"
         ],
         "xaxis": "x",
         "y": [
          5.782411586589361e-18,
          0,
          0,
          0.252634102906471,
          0.16885873145324812,
          0.04487973549592558,
          0.2859628240897376,
          0.004246107401553053,
          0.24341849865306459
         ],
         "yaxis": "y"
        },
        {
         "alignmentgroup": "True",
         "hovertemplate": "Strategy=Markowitz<br>Date=2020-02-29<br>Ticker=%{x}<br>Weight=%{y}<extra></extra>",
         "legendgroup": "Markowitz",
         "marker": {
          "color": "#ab63fa",
          "pattern": {
           "shape": ""
          }
         },
         "name": "Markowitz",
         "offsetgroup": "Markowitz",
         "orientation": "v",
         "showlegend": true,
         "textposition": "auto",
         "type": "bar",
         "x": [
          "AAPL",
          "WMT",
          "TSLA",
          "KO",
          "BAC",
          "T",
          "META",
          "NFLX",
          "CRM"
         ],
         "xaxis": "x",
         "y": [
          2.9554905638121724e-15,
          8.881254422743385e-10,
          0.03388690140072107,
          0.4498265678991914,
          0.13590155375656796,
          1.178303842682755e-14,
          8.234629470665019e-15,
          0.38038497658200754,
          1.4707928532810764e-10
         ],
         "yaxis": "y"
        },
        {
         "alignmentgroup": "True",
         "hovertemplate": "Strategy=Risk Parity<br>Date=2020-02-29<br>Ticker=%{x}<br>Weight=%{y}<extra></extra>",
         "legendgroup": "Risk Parity",
         "marker": {
          "color": "#FFA15A",
          "pattern": {
           "shape": ""
          }
         },
         "name": "Risk Parity",
         "offsetgroup": "Risk Parity",
         "orientation": "v",
         "showlegend": true,
         "textposition": "auto",
         "type": "bar",
         "x": [
          "AAPL",
          "WMT",
          "TSLA",
          "KO",
          "BAC",
          "T",
          "META",
          "NFLX",
          "CRM"
         ],
         "xaxis": "x",
         "y": [
          0.057462354849489174,
          0.08060843276951717,
          0.06580961360695968,
          0.15814176363899426,
          0.1348583855317037,
          0.06729362268456844,
          0.21527726587645066,
          0.04347456103136793,
          0.17707400001094903
         ],
         "yaxis": "y"
        }
       ],
       "frames": [
        {
         "data": [
          {
           "alignmentgroup": "True",
           "hovertemplate": "Strategy=Equal Weight<br>Date=2020-02-29<br>Ticker=%{x}<br>Weight=%{y}<extra></extra>",
           "legendgroup": "Equal Weight",
           "marker": {
            "color": "#636efa",
            "pattern": {
             "shape": ""
            }
           },
           "name": "Equal Weight",
           "offsetgroup": "Equal Weight",
           "orientation": "v",
           "showlegend": true,
           "textposition": "auto",
           "type": "bar",
           "x": [
            "AAPL",
            "WMT",
            "TSLA",
            "KO",
            "BAC",
            "T",
            "META",
            "NFLX",
            "CRM"
           ],
           "xaxis": "x",
           "y": [
            0.1111111111111111,
            0.1111111111111111,
            0.1111111111111111,
            0.1111111111111111,
            0.1111111111111111,
            0.1111111111111111,
            0.1111111111111111,
            0.1111111111111111,
            0.1111111111111111
           ],
           "yaxis": "y"
          },
          {
           "alignmentgroup": "True",
           "hovertemplate": "Strategy=Inverse Vol<br>Date=2020-02-29<br>Ticker=%{x}<br>Weight=%{y}<extra></extra>",
           "legendgroup": "Inverse Vol",
           "marker": {
            "color": "#EF553B",
            "pattern": {
             "shape": ""
            }
           },
           "name": "Inverse Vol",
           "offsetgroup": "Inverse Vol",
           "orientation": "v",
           "showlegend": true,
           "textposition": "auto",
           "type": "bar",
           "x": [
            "AAPL",
            "WMT",
            "TSLA",
            "KO",
            "BAC",
            "T",
            "META",
            "NFLX",
            "CRM"
           ],
           "xaxis": "x",
           "y": [
            0.08850446198282293,
            0.13609212423722697,
            0.10473928752879566,
            0.15960610423315472,
            0.07907173421128576,
            0.06364977465389937,
            0.1361637316184189,
            0.041589701245767996,
            0.19058308028862764
           ],
           "yaxis": "y"
          },
          {
           "alignmentgroup": "True",
           "hovertemplate": "Strategy=GMV<br>Date=2020-02-29<br>Ticker=%{x}<br>Weight=%{y}<extra></extra>",
           "legendgroup": "GMV",
           "marker": {
            "color": "#00cc96",
            "pattern": {
             "shape": ""
            }
           },
           "name": "GMV",
           "offsetgroup": "GMV",
           "orientation": "v",
           "showlegend": true,
           "textposition": "auto",
           "type": "bar",
           "x": [
            "AAPL",
            "WMT",
            "TSLA",
            "KO",
            "BAC",
            "T",
            "META",
            "NFLX",
            "CRM"
           ],
           "xaxis": "x",
           "y": [
            5.782411586589361e-18,
            0,
            0,
            0.252634102906471,
            0.16885873145324812,
            0.04487973549592558,
            0.2859628240897376,
            0.004246107401553053,
            0.24341849865306459
           ],
           "yaxis": "y"
          },
          {
           "alignmentgroup": "True",
           "hovertemplate": "Strategy=Markowitz<br>Date=2020-02-29<br>Ticker=%{x}<br>Weight=%{y}<extra></extra>",
           "legendgroup": "Markowitz",
           "marker": {
            "color": "#ab63fa",
            "pattern": {
             "shape": ""
            }
           },
           "name": "Markowitz",
           "offsetgroup": "Markowitz",
           "orientation": "v",
           "showlegend": true,
           "textposition": "auto",
           "type": "bar",
           "x": [
            "AAPL",
            "WMT",
            "TSLA",
            "KO",
            "BAC",
            "T",
            "META",
            "NFLX",
            "CRM"
           ],
           "xaxis": "x",
           "y": [
            2.9554905638121724e-15,
            8.881254422743385e-10,
            0.03388690140072107,
            0.4498265678991914,
            0.13590155375656796,
            1.178303842682755e-14,
            8.234629470665019e-15,
            0.38038497658200754,
            1.4707928532810764e-10
           ],
           "yaxis": "y"
          },
          {
           "alignmentgroup": "True",
           "hovertemplate": "Strategy=Risk Parity<br>Date=2020-02-29<br>Ticker=%{x}<br>Weight=%{y}<extra></extra>",
           "legendgroup": "Risk Parity",
           "marker": {
            "color": "#FFA15A",
            "pattern": {
             "shape": ""
            }
           },
           "name": "Risk Parity",
           "offsetgroup": "Risk Parity",
           "orientation": "v",
           "showlegend": true,
           "textposition": "auto",
           "type": "bar",
           "x": [
            "AAPL",
            "WMT",
            "TSLA",
            "KO",
            "BAC",
            "T",
            "META",
            "NFLX",
            "CRM"
           ],
           "xaxis": "x",
           "y": [
            0.057462354849489174,
            0.08060843276951717,
            0.06580961360695968,
            0.15814176363899426,
            0.1348583855317037,
            0.06729362268456844,
            0.21527726587645066,
            0.04347456103136793,
            0.17707400001094903
           ],
           "yaxis": "y"
          }
         ],
         "name": "2020-02-29"
        },
        {
         "data": [
          {
           "alignmentgroup": "True",
           "hovertemplate": "Strategy=Equal Weight<br>Date=2020-03-31<br>Ticker=%{x}<br>Weight=%{y}<extra></extra>",
           "legendgroup": "Equal Weight",
           "marker": {
            "color": "#636efa",
            "pattern": {
             "shape": ""
            }
           },
           "name": "Equal Weight",
           "offsetgroup": "Equal Weight",
           "orientation": "v",
           "showlegend": true,
           "textposition": "auto",
           "type": "bar",
           "x": [
            "AAPL",
            "WMT",
            "TSLA",
            "KO",
            "BAC",
            "T",
            "META",
            "NFLX",
            "CRM"
           ],
           "xaxis": "x",
           "y": [
            0.1111111111111111,
            0.1111111111111111,
            0.1111111111111111,
            0.1111111111111111,
            0.1111111111111111,
            0.1111111111111111,
            0.1111111111111111,
            0.1111111111111111,
            0.1111111111111111
           ],
           "yaxis": "y"
          },
          {
           "alignmentgroup": "True",
           "hovertemplate": "Strategy=Inverse Vol<br>Date=2020-03-31<br>Ticker=%{x}<br>Weight=%{y}<extra></extra>",
           "legendgroup": "Inverse Vol",
           "marker": {
            "color": "#EF553B",
            "pattern": {
             "shape": ""
            }
           },
           "name": "Inverse Vol",
           "offsetgroup": "Inverse Vol",
           "orientation": "v",
           "showlegend": true,
           "textposition": "auto",
           "type": "bar",
           "x": [
            "AAPL",
            "WMT",
            "TSLA",
            "KO",
            "BAC",
            "T",
            "META",
            "NFLX",
            "CRM"
           ],
           "xaxis": "x",
           "y": [
            0.08813139494002623,
            0.10665789700356593,
            0.12083326876096533,
            0.14909658791741343,
            0.09577624788987096,
            0.08251295062047434,
            0.15447745712212294,
            0.029155713630432897,
            0.17335848211512794
           ],
           "yaxis": "y"
          },
          {
           "alignmentgroup": "True",
           "hovertemplate": "Strategy=GMV<br>Date=2020-03-31<br>Ticker=%{x}<br>Weight=%{y}<extra></extra>",
           "legendgroup": "GMV",
           "marker": {
            "color": "#00cc96",
            "pattern": {
             "shape": ""
            }
           },
           "name": "GMV",
           "offsetgroup": "GMV",
           "orientation": "v",
           "showlegend": true,
           "textposition": "auto",
           "type": "bar",
           "x": [
            "AAPL",
            "WMT",
            "TSLA",
            "KO",
            "BAC",
            "T",
            "META",
            "NFLX",
            "CRM"
           ],
           "xaxis": "x",
           "y": [
            0,
            2.7818702029599833e-17,
            4.557586775843079e-17,
            0.13032068810785002,
            0.10494139613144217,
            0.07130523796267015,
            0.3214341870592486,
            0,
            0.37199849073878916
           ],
           "yaxis": "y"
          },
          {
           "alignmentgroup": "True",
           "hovertemplate": "Strategy=Markowitz<br>Date=2020-03-31<br>Ticker=%{x}<br>Weight=%{y}<extra></extra>",
           "legendgroup": "Markowitz",
           "marker": {
            "color": "#ab63fa",
            "pattern": {
             "shape": ""
            }
           },
           "name": "Markowitz",
           "offsetgroup": "Markowitz",
           "orientation": "v",
           "showlegend": true,
           "textposition": "auto",
           "type": "bar",
           "x": [
            "AAPL",
            "WMT",
            "TSLA",
            "KO",
            "BAC",
            "T",
            "META",
            "NFLX",
            "CRM"
           ],
           "xaxis": "x",
           "y": [
            0,
            0,
            6.801962285989612e-16,
            0,
            7.047838235610473e-16,
            0.5333520256792309,
            5.866780925090288e-16,
            0.466647974320769,
            2.0633487162272066e-16
           ],
           "yaxis": "y"
          },
          {
           "alignmentgroup": "True",
           "hovertemplate": "Strategy=Risk Parity<br>Date=2020-03-31<br>Ticker=%{x}<br>Weight=%{y}<extra></extra>",
           "legendgroup": "Risk Parity",
           "marker": {
            "color": "#FFA15A",
            "pattern": {
             "shape": ""
            }
           },
           "name": "Risk Parity",
           "offsetgroup": "Risk Parity",
           "orientation": "v",
           "showlegend": true,
           "textposition": "auto",
           "type": "bar",
           "x": [
            "AAPL",
            "WMT",
            "TSLA",
            "KO",
            "BAC",
            "T",
            "META",
            "NFLX",
            "CRM"
           ],
           "xaxis": "x",
           "y": [
            0.07327609100919104,
            0.08818065107854592,
            0.10427350944177262,
            0.13685300154989463,
            0.11028536041936839,
            0.09732543062447198,
            0.17843058454588195,
            0.031534781103371594,
            0.1798405902275019
           ],
           "yaxis": "y"
          }
         ],
         "name": "2020-03-31"
        },
        {
         "data": [
          {
           "alignmentgroup": "True",
           "hovertemplate": "Strategy=Equal Weight<br>Date=2020-04-30<br>Ticker=%{x}<br>Weight=%{y}<extra></extra>",
           "legendgroup": "Equal Weight",
           "marker": {
            "color": "#636efa",
            "pattern": {
             "shape": ""
            }
           },
           "name": "Equal Weight",
           "offsetgroup": "Equal Weight",
           "orientation": "v",
           "showlegend": true,
           "textposition": "auto",
           "type": "bar",
           "x": [
            "AAPL",
            "WMT",
            "TSLA",
            "KO",
            "BAC",
            "T",
            "META",
            "NFLX",
            "CRM"
           ],
           "xaxis": "x",
           "y": [
            0.1111111111111111,
            0.1111111111111111,
            0.1111111111111111,
            0.1111111111111111,
            0.1111111111111111,
            0.1111111111111111,
            0.1111111111111111,
            0.1111111111111111,
            0.1111111111111111
           ],
           "yaxis": "y"
          },
          {
           "alignmentgroup": "True",
           "hovertemplate": "Strategy=Inverse Vol<br>Date=2020-04-30<br>Ticker=%{x}<br>Weight=%{y}<extra></extra>",
           "legendgroup": "Inverse Vol",
           "marker": {
            "color": "#EF553B",
            "pattern": {
             "shape": ""
            }
           },
           "name": "Inverse Vol",
           "offsetgroup": "Inverse Vol",
           "orientation": "v",
           "showlegend": true,
           "textposition": "auto",
           "type": "bar",
           "x": [
            "AAPL",
            "WMT",
            "TSLA",
            "KO",
            "BAC",
            "T",
            "META",
            "NFLX",
            "CRM"
           ],
           "xaxis": "x",
           "y": [
            0.10516749285606451,
            0.08310341922896623,
            0.11134101804339569,
            0.1363734595331427,
            0.11609992984109847,
            0.12057087010730862,
            0.1279217518316148,
            0.0585041866563561,
            0.14091787190205288
           ],
           "yaxis": "y"
          },
          {
           "alignmentgroup": "True",
           "hovertemplate": "Strategy=GMV<br>Date=2020-04-30<br>Ticker=%{x}<br>Weight=%{y}<extra></extra>",
           "legendgroup": "GMV",
           "marker": {
            "color": "#00cc96",
            "pattern": {
             "shape": ""
            }
           },
           "name": "GMV",
           "offsetgroup": "GMV",
           "orientation": "v",
           "showlegend": true,
           "textposition": "auto",
           "type": "bar",
           "x": [
            "AAPL",
            "WMT",
            "TSLA",
            "KO",
            "BAC",
            "T",
            "META",
            "NFLX",
            "CRM"
           ],
           "xaxis": "x",
           "y": [
            0,
            0,
            1.0402081509618717e-17,
            0.39210455648762543,
            3.98132359037703e-17,
            0.17595277690859307,
            9.587932165507053e-18,
            0.0071689031543903554,
            0.42477376344939105
           ],
           "yaxis": "y"
          },
          {
           "alignmentgroup": "True",
           "hovertemplate": "Strategy=Markowitz<br>Date=2020-04-30<br>Ticker=%{x}<br>Weight=%{y}<extra></extra>",
           "legendgroup": "Markowitz",
           "marker": {
            "color": "#ab63fa",
            "pattern": {
             "shape": ""
            }
           },
           "name": "Markowitz",
           "offsetgroup": "Markowitz",
           "orientation": "v",
           "showlegend": true,
           "textposition": "auto",
           "type": "bar",
           "x": [
            "AAPL",
            "WMT",
            "TSLA",
            "KO",
            "BAC",
            "T",
            "META",
            "NFLX",
            "CRM"
           ],
           "xaxis": "x",
           "y": [
            0,
            1.3573821017858987e-16,
            0,
            7.230665036746673e-16,
            2.0821286055849416e-16,
            0.6434013164724474,
            0,
            0.3565986835275525,
            0
           ],
           "yaxis": "y"
          },
          {
           "alignmentgroup": "True",
           "hovertemplate": "Strategy=Risk Parity<br>Date=2020-04-30<br>Ticker=%{x}<br>Weight=%{y}<extra></extra>",
           "legendgroup": "Risk Parity",
           "marker": {
            "color": "#FFA15A",
            "pattern": {
             "shape": ""
            }
           },
           "name": "Risk Parity",
           "offsetgroup": "Risk Parity",
           "orientation": "v",
           "showlegend": true,
           "textposition": "auto",
           "type": "bar",
           "x": [
            "AAPL",
            "WMT",
            "TSLA",
            "KO",
            "BAC",
            "T",
            "META",
            "NFLX",
            "CRM"
           ],
           "xaxis": "x",
           "y": [
            0.09199673984048132,
            0.0756916548546114,
            0.10072502246259793,
            0.1377192123184177,
            0.10792832345856054,
            0.12712566150972643,
            0.12371031518561455,
            0.07942628742838054,
            0.15567678294160953
           ],
           "yaxis": "y"
          }
         ],
         "name": "2020-04-30"
        },
        {
         "data": [
          {
           "alignmentgroup": "True",
           "hovertemplate": "Strategy=Equal Weight<br>Date=2020-05-31<br>Ticker=%{x}<br>Weight=%{y}<extra></extra>",
           "legendgroup": "Equal Weight",
           "marker": {
            "color": "#636efa",
            "pattern": {
             "shape": ""
            }
           },
           "name": "Equal Weight",
           "offsetgroup": "Equal Weight",
           "orientation": "v",
           "showlegend": true,
           "textposition": "auto",
           "type": "bar",
           "x": [
            "AAPL",
            "WMT",
            "TSLA",
            "KO",
            "BAC",
            "T",
            "META",
            "NFLX",
            "CRM"
           ],
           "xaxis": "x",
           "y": [
            0.1111111111111111,
            0.1111111111111111,
            0.1111111111111111,
            0.1111111111111111,
            0.1111111111111111,
            0.1111111111111111,
            0.1111111111111111,
            0.1111111111111111,
            0.1111111111111111
           ],
           "yaxis": "y"
          },
          {
           "alignmentgroup": "True",
           "hovertemplate": "Strategy=Inverse Vol<br>Date=2020-05-31<br>Ticker=%{x}<br>Weight=%{y}<extra></extra>",
           "legendgroup": "Inverse Vol",
           "marker": {
            "color": "#EF553B",
            "pattern": {
             "shape": ""
            }
           },
           "name": "Inverse Vol",
           "offsetgroup": "Inverse Vol",
           "orientation": "v",
           "showlegend": true,
           "textposition": "auto",
           "type": "bar",
           "x": [
            "AAPL",
            "WMT",
            "TSLA",
            "KO",
            "BAC",
            "T",
            "META",
            "NFLX",
            "CRM"
           ],
           "xaxis": "x",
           "y": [
            0.1078511753750188,
            0.08255403405850736,
            0.10880796258533253,
            0.13406691043457974,
            0.11413338437485765,
            0.12136221036275154,
            0.12711089357309968,
            0.05939494963325569,
            0.14471847960259687
           ],
           "yaxis": "y"
          },
          {
           "alignmentgroup": "True",
           "hovertemplate": "Strategy=GMV<br>Date=2020-05-31<br>Ticker=%{x}<br>Weight=%{y}<extra></extra>",
           "legendgroup": "GMV",
           "marker": {
            "color": "#00cc96",
            "pattern": {
             "shape": ""
            }
           },
           "name": "GMV",
           "offsetgroup": "GMV",
           "orientation": "v",
           "showlegend": true,
           "textposition": "auto",
           "type": "bar",
           "x": [
            "AAPL",
            "WMT",
            "TSLA",
            "KO",
            "BAC",
            "T",
            "META",
            "NFLX",
            "CRM"
           ],
           "xaxis": "x",
           "y": [
            4.351264718908491e-17,
            3.334087358663417e-17,
            0,
            0.3487073568879677,
            0.025712111266843255,
            0.20874564118618674,
            0,
            0,
            0.4168348906590022
           ],
           "yaxis": "y"
          },
          {
           "alignmentgroup": "True",
           "hovertemplate": "Strategy=Markowitz<br>Date=2020-05-31<br>Ticker=%{x}<br>Weight=%{y}<extra></extra>",
           "legendgroup": "Markowitz",
           "marker": {
            "color": "#ab63fa",
            "pattern": {
             "shape": ""
            }
           },
           "name": "Markowitz",
           "offsetgroup": "Markowitz",
           "orientation": "v",
           "showlegend": true,
           "textposition": "auto",
           "type": "bar",
           "x": [
            "AAPL",
            "WMT",
            "TSLA",
            "KO",
            "BAC",
            "T",
            "META",
            "NFLX",
            "CRM"
           ],
           "xaxis": "x",
           "y": [
            1.387778780781485e-17,
            0,
            2.0649490894876194e-16,
            7.03360625068525e-16,
            4.403164706133841e-17,
            0.47840693987001237,
            0,
            0.5215930601299879,
            2.73467310482697e-16
           ],
           "yaxis": "y"
          },
          {
           "alignmentgroup": "True",
           "hovertemplate": "Strategy=Risk Parity<br>Date=2020-05-31<br>Ticker=%{x}<br>Weight=%{y}<extra></extra>",
           "legendgroup": "Risk Parity",
           "marker": {
            "color": "#FFA15A",
            "pattern": {
             "shape": ""
            }
           },
           "name": "Risk Parity",
           "offsetgroup": "Risk Parity",
           "orientation": "v",
           "showlegend": true,
           "textposition": "auto",
           "type": "bar",
           "x": [
            "AAPL",
            "WMT",
            "TSLA",
            "KO",
            "BAC",
            "T",
            "META",
            "NFLX",
            "CRM"
           ],
           "xaxis": "x",
           "y": [
            0.09199701054336819,
            0.07702795506301442,
            0.09602115236709491,
            0.1326536428563251,
            0.10732341102697579,
            0.13393590042344738,
            0.12061529895289537,
            0.07758607871548161,
            0.16283955005139725
           ],
           "yaxis": "y"
          }
         ],
         "name": "2020-05-31"
        },
        {
         "data": [
          {
           "alignmentgroup": "True",
           "hovertemplate": "Strategy=Equal Weight<br>Date=2020-06-30<br>Ticker=%{x}<br>Weight=%{y}<extra></extra>",
           "legendgroup": "Equal Weight",
           "marker": {
            "color": "#636efa",
            "pattern": {
             "shape": ""
            }
           },
           "name": "Equal Weight",
           "offsetgroup": "Equal Weight",
           "orientation": "v",
           "showlegend": true,
           "textposition": "auto",
           "type": "bar",
           "x": [
            "AAPL",
            "WMT",
            "TSLA",
            "KO",
            "BAC",
            "T",
            "META",
            "NFLX",
            "CRM"
           ],
           "xaxis": "x",
           "y": [
            0.1111111111111111,
            0.1111111111111111,
            0.1111111111111111,
            0.1111111111111111,
            0.1111111111111111,
            0.1111111111111111,
            0.1111111111111111,
            0.1111111111111111,
            0.1111111111111111
           ],
           "yaxis": "y"
          },
          {
           "alignmentgroup": "True",
           "hovertemplate": "Strategy=Inverse Vol<br>Date=2020-06-30<br>Ticker=%{x}<br>Weight=%{y}<extra></extra>",
           "legendgroup": "Inverse Vol",
           "marker": {
            "color": "#EF553B",
            "pattern": {
             "shape": ""
            }
           },
           "name": "Inverse Vol",
           "offsetgroup": "Inverse Vol",
           "orientation": "v",
           "showlegend": true,
           "textposition": "auto",
           "type": "bar",
           "x": [
            "AAPL",
            "WMT",
            "TSLA",
            "KO",
            "BAC",
            "T",
            "META",
            "NFLX",
            "CRM"
           ],
           "xaxis": "x",
           "y": [
            0.11022370611500486,
            0.07997452928873636,
            0.1071192730842165,
            0.13363350303286056,
            0.11469223238266385,
            0.12178388835364815,
            0.12514553234615372,
            0.059694991022080264,
            0.1477323443746357
           ],
           "yaxis": "y"
          },
          {
           "alignmentgroup": "True",
           "hovertemplate": "Strategy=GMV<br>Date=2020-06-30<br>Ticker=%{x}<br>Weight=%{y}<extra></extra>",
           "legendgroup": "GMV",
           "marker": {
            "color": "#00cc96",
            "pattern": {
             "shape": ""
            }
           },
           "name": "GMV",
           "offsetgroup": "GMV",
           "orientation": "v",
           "showlegend": true,
           "textposition": "auto",
           "type": "bar",
           "x": [
            "AAPL",
            "WMT",
            "TSLA",
            "KO",
            "BAC",
            "T",
            "META",
            "NFLX",
            "CRM"
           ],
           "xaxis": "x",
           "y": [
            0,
            5.7881119367521e-17,
            0,
            0.33075691468517904,
            0.03140049666717183,
            0.21444244907460544,
            7.998562867383537e-19,
            1.778777177069612e-17,
            0.42340013957304373
           ],
           "yaxis": "y"
          },
          {
           "alignmentgroup": "True",
           "hovertemplate": "Strategy=Markowitz<br>Date=2020-06-30<br>Ticker=%{x}<br>Weight=%{y}<extra></extra>",
           "legendgroup": "Markowitz",
           "marker": {
            "color": "#ab63fa",
            "pattern": {
             "shape": ""
            }
           },
           "name": "Markowitz",
           "offsetgroup": "Markowitz",
           "orientation": "v",
           "showlegend": true,
           "textposition": "auto",
           "type": "bar",
           "x": [
            "AAPL",
            "WMT",
            "TSLA",
            "KO",
            "BAC",
            "T",
            "META",
            "NFLX",
            "CRM"
           ],
           "xaxis": "x",
           "y": [
            0,
            1.0719960881764857e-15,
            4.7884262422304767e-17,
            0,
            0,
            0.41827607349336643,
            0,
            0.5817239265066333,
            0
           ],
           "yaxis": "y"
          },
          {
           "alignmentgroup": "True",
           "hovertemplate": "Strategy=Risk Parity<br>Date=2020-06-30<br>Ticker=%{x}<br>Weight=%{y}<extra></extra>",
           "legendgroup": "Risk Parity",
           "marker": {
            "color": "#FFA15A",
            "pattern": {
             "shape": ""
            }
           },
           "name": "Risk Parity",
           "offsetgroup": "Risk Parity",
           "orientation": "v",
           "showlegend": true,
           "textposition": "auto",
           "type": "bar",
           "x": [
            "AAPL",
            "WMT",
            "TSLA",
            "KO",
            "BAC",
            "T",
            "META",
            "NFLX",
            "CRM"
           ],
           "xaxis": "x",
           "y": [
            0.09294611159178197,
            0.0753853376719588,
            0.09536963231977881,
            0.13113449830724577,
            0.10723355470485758,
            0.1361449482272415,
            0.11880267556826182,
            0.07698800291310656,
            0.16599523869576724
           ],
           "yaxis": "y"
          }
         ],
         "name": "2020-06-30"
        },
        {
         "data": [
          {
           "alignmentgroup": "True",
           "hovertemplate": "Strategy=Equal Weight<br>Date=2020-07-31<br>Ticker=%{x}<br>Weight=%{y}<extra></extra>",
           "legendgroup": "Equal Weight",
           "marker": {
            "color": "#636efa",
            "pattern": {
             "shape": ""
            }
           },
           "name": "Equal Weight",
           "offsetgroup": "Equal Weight",
           "orientation": "v",
           "showlegend": true,
           "textposition": "auto",
           "type": "bar",
           "x": [
            "AAPL",
            "WMT",
            "TSLA",
            "KO",
            "BAC",
            "T",
            "META",
            "NFLX",
            "CRM"
           ],
           "xaxis": "x",
           "y": [
            0.1111111111111111,
            0.1111111111111111,
            0.1111111111111111,
            0.1111111111111111,
            0.1111111111111111,
            0.1111111111111111,
            0.1111111111111111,
            0.1111111111111111,
            0.1111111111111111
           ],
           "yaxis": "y"
          },
          {
           "alignmentgroup": "True",
           "hovertemplate": "Strategy=Inverse Vol<br>Date=2020-07-31<br>Ticker=%{x}<br>Weight=%{y}<extra></extra>",
           "legendgroup": "Inverse Vol",
           "marker": {
            "color": "#EF553B",
            "pattern": {
             "shape": ""
            }
           },
           "name": "Inverse Vol",
           "offsetgroup": "Inverse Vol",
           "orientation": "v",
           "showlegend": true,
           "textposition": "auto",
           "type": "bar",
           "x": [
            "AAPL",
            "WMT",
            "TSLA",
            "KO",
            "BAC",
            "T",
            "META",
            "NFLX",
            "CRM"
           ],
           "xaxis": "x",
           "y": [
            0.11098392642369091,
            0.07831992142590452,
            0.10737006608314272,
            0.13280148957383775,
            0.11205857495632092,
            0.12187181345428875,
            0.12496233753643693,
            0.05972803219250255,
            0.15190383835387486
           ],
           "yaxis": "y"
          },
          {
           "alignmentgroup": "True",
           "hovertemplate": "Strategy=GMV<br>Date=2020-07-31<br>Ticker=%{x}<br>Weight=%{y}<extra></extra>",
           "legendgroup": "GMV",
           "marker": {
            "color": "#00cc96",
            "pattern": {
             "shape": ""
            }
           },
           "name": "GMV",
           "offsetgroup": "GMV",
           "orientation": "v",
           "showlegend": true,
           "textposition": "auto",
           "type": "bar",
           "x": [
            "AAPL",
            "WMT",
            "TSLA",
            "KO",
            "BAC",
            "T",
            "META",
            "NFLX",
            "CRM"
           ],
           "xaxis": "x",
           "y": [
            0,
            4.438105034127557e-17,
            0,
            0.3212900010402032,
            0.0025235735066431947,
            0.20164893423776795,
            9.594629563269874e-18,
            1.1438454360104798e-17,
            0.47453749121538574
           ],
           "yaxis": "y"
          },
          {
           "alignmentgroup": "True",
           "hovertemplate": "Strategy=Markowitz<br>Date=2020-07-31<br>Ticker=%{x}<br>Weight=%{y}<extra></extra>",
           "legendgroup": "Markowitz",
           "marker": {
            "color": "#ab63fa",
            "pattern": {
             "shape": ""
            }
           },
           "name": "Markowitz",
           "offsetgroup": "Markowitz",
           "orientation": "v",
           "showlegend": true,
           "textposition": "auto",
           "type": "bar",
           "x": [
            "AAPL",
            "WMT",
            "TSLA",
            "KO",
            "BAC",
            "T",
            "META",
            "NFLX",
            "CRM"
           ],
           "xaxis": "x",
           "y": [
            1.9025931911048136e-16,
            0,
            0,
            0,
            0,
            0.4063764064729804,
            6.832391788003591e-16,
            0.5936235935270199,
            0
           ],
           "yaxis": "y"
          },
          {
           "alignmentgroup": "True",
           "hovertemplate": "Strategy=Risk Parity<br>Date=2020-07-31<br>Ticker=%{x}<br>Weight=%{y}<extra></extra>",
           "legendgroup": "Risk Parity",
           "marker": {
            "color": "#FFA15A",
            "pattern": {
             "shape": ""
            }
           },
           "name": "Risk Parity",
           "offsetgroup": "Risk Parity",
           "orientation": "v",
           "showlegend": true,
           "textposition": "auto",
           "type": "bar",
           "x": [
            "AAPL",
            "WMT",
            "TSLA",
            "KO",
            "BAC",
            "T",
            "META",
            "NFLX",
            "CRM"
           ],
           "xaxis": "x",
           "y": [
            0.09371850020117063,
            0.07447642807159491,
            0.09607080235622484,
            0.12899621678834522,
            0.10422212856268456,
            0.1352883230373335,
            0.11823416047185184,
            0.07626328028679681,
            0.17273016022399762
           ],
           "yaxis": "y"
          }
         ],
         "name": "2020-07-31"
        },
        {
         "data": [
          {
           "alignmentgroup": "True",
           "hovertemplate": "Strategy=Equal Weight<br>Date=2020-08-31<br>Ticker=%{x}<br>Weight=%{y}<extra></extra>",
           "legendgroup": "Equal Weight",
           "marker": {
            "color": "#636efa",
            "pattern": {
             "shape": ""
            }
           },
           "name": "Equal Weight",
           "offsetgroup": "Equal Weight",
           "orientation": "v",
           "showlegend": true,
           "textposition": "auto",
           "type": "bar",
           "x": [
            "AAPL",
            "WMT",
            "TSLA",
            "KO",
            "BAC",
            "T",
            "META",
            "NFLX",
            "CRM"
           ],
           "xaxis": "x",
           "y": [
            0.1111111111111111,
            0.1111111111111111,
            0.1111111111111111,
            0.1111111111111111,
            0.1111111111111111,
            0.1111111111111111,
            0.1111111111111111,
            0.1111111111111111,
            0.1111111111111111
           ],
           "yaxis": "y"
          },
          {
           "alignmentgroup": "True",
           "hovertemplate": "Strategy=Inverse Vol<br>Date=2020-08-31<br>Ticker=%{x}<br>Weight=%{y}<extra></extra>",
           "legendgroup": "Inverse Vol",
           "marker": {
            "color": "#EF553B",
            "pattern": {
             "shape": ""
            }
           },
           "name": "Inverse Vol",
           "offsetgroup": "Inverse Vol",
           "orientation": "v",
           "showlegend": true,
           "textposition": "auto",
           "type": "bar",
           "x": [
            "AAPL",
            "WMT",
            "TSLA",
            "KO",
            "BAC",
            "T",
            "META",
            "NFLX",
            "CRM"
           ],
           "xaxis": "x",
           "y": [
            0.10933494292896212,
            0.0800491004443405,
            0.10876914256233126,
            0.13552462368730742,
            0.11162245766603947,
            0.1162579530598555,
            0.12886390233133077,
            0.05831135846903966,
            0.1512665188507934
           ],
           "yaxis": "y"
          },
          {
           "alignmentgroup": "True",
           "hovertemplate": "Strategy=GMV<br>Date=2020-08-31<br>Ticker=%{x}<br>Weight=%{y}<extra></extra>",
           "legendgroup": "GMV",
           "marker": {
            "color": "#00cc96",
            "pattern": {
             "shape": ""
            }
           },
           "name": "GMV",
           "offsetgroup": "GMV",
           "orientation": "v",
           "showlegend": true,
           "textposition": "auto",
           "type": "bar",
           "x": [
            "AAPL",
            "WMT",
            "TSLA",
            "KO",
            "BAC",
            "T",
            "META",
            "NFLX",
            "CRM"
           ],
           "xaxis": "x",
           "y": [
            1.9822829720276637e-17,
            0,
            0,
            0.33565103608022334,
            0.034513136993677966,
            0.1644760212256497,
            1.9099181579847687e-17,
            0,
            0.46535980570044905
           ],
           "yaxis": "y"
          },
          {
           "alignmentgroup": "True",
           "hovertemplate": "Strategy=Markowitz<br>Date=2020-08-31<br>Ticker=%{x}<br>Weight=%{y}<extra></extra>",
           "legendgroup": "Markowitz",
           "marker": {
            "color": "#ab63fa",
            "pattern": {
             "shape": ""
            }
           },
           "name": "Markowitz",
           "offsetgroup": "Markowitz",
           "orientation": "v",
           "showlegend": true,
           "textposition": "auto",
           "type": "bar",
           "x": [
            "AAPL",
            "WMT",
            "TSLA",
            "KO",
            "BAC",
            "T",
            "META",
            "NFLX",
            "CRM"
           ],
           "xaxis": "x",
           "y": [
            3.674623855260873e-16,
            4.3286555478676983e-17,
            0,
            1.1531777023517645e-16,
            1.1997923339107062e-16,
            0.3326016642213402,
            1.796470784462718e-16,
            0.6673983357786594,
            1.7045676630649179e-16
           ],
           "yaxis": "y"
          },
          {
           "alignmentgroup": "True",
           "hovertemplate": "Strategy=Risk Parity<br>Date=2020-08-31<br>Ticker=%{x}<br>Weight=%{y}<extra></extra>",
           "legendgroup": "Risk Parity",
           "marker": {
            "color": "#FFA15A",
            "pattern": {
             "shape": ""
            }
           },
           "name": "Risk Parity",
           "offsetgroup": "Risk Parity",
           "orientation": "v",
           "showlegend": true,
           "textposition": "auto",
           "type": "bar",
           "x": [
            "AAPL",
            "WMT",
            "TSLA",
            "KO",
            "BAC",
            "T",
            "META",
            "NFLX",
            "CRM"
           ],
           "xaxis": "x",
           "y": [
            0.09362419841777914,
            0.07597065897117908,
            0.09690912952976483,
            0.1318419532995728,
            0.10392238693653638,
            0.12890071102561446,
            0.12089863215181709,
            0.07327128639808574,
            0.1746610432696506
           ],
           "yaxis": "y"
          }
         ],
         "name": "2020-08-31"
        },
        {
         "data": [
          {
           "alignmentgroup": "True",
           "hovertemplate": "Strategy=Equal Weight<br>Date=2020-09-30<br>Ticker=%{x}<br>Weight=%{y}<extra></extra>",
           "legendgroup": "Equal Weight",
           "marker": {
            "color": "#636efa",
            "pattern": {
             "shape": ""
            }
           },
           "name": "Equal Weight",
           "offsetgroup": "Equal Weight",
           "orientation": "v",
           "showlegend": true,
           "textposition": "auto",
           "type": "bar",
           "x": [
            "AAPL",
            "WMT",
            "TSLA",
            "KO",
            "BAC",
            "T",
            "META",
            "NFLX",
            "CRM"
           ],
           "xaxis": "x",
           "y": [
            0.1111111111111111,
            0.1111111111111111,
            0.1111111111111111,
            0.1111111111111111,
            0.1111111111111111,
            0.1111111111111111,
            0.1111111111111111,
            0.1111111111111111,
            0.1111111111111111
           ],
           "yaxis": "y"
          },
          {
           "alignmentgroup": "True",
           "hovertemplate": "Strategy=Inverse Vol<br>Date=2020-09-30<br>Ticker=%{x}<br>Weight=%{y}<extra></extra>",
           "legendgroup": "Inverse Vol",
           "marker": {
            "color": "#EF553B",
            "pattern": {
             "shape": ""
            }
           },
           "name": "Inverse Vol",
           "offsetgroup": "Inverse Vol",
           "orientation": "v",
           "showlegend": true,
           "textposition": "auto",
           "type": "bar",
           "x": [
            "AAPL",
            "WMT",
            "TSLA",
            "KO",
            "BAC",
            "T",
            "META",
            "NFLX",
            "CRM"
           ],
           "xaxis": "x",
           "y": [
            0.11146256252427834,
            0.08319275663972933,
            0.09358951317537513,
            0.14012627449783654,
            0.111318765840176,
            0.11355176757857462,
            0.1346318572476239,
            0.0583383014382933,
            0.1537882010581129
           ],
           "yaxis": "y"
          },
          {
           "alignmentgroup": "True",
           "hovertemplate": "Strategy=GMV<br>Date=2020-09-30<br>Ticker=%{x}<br>Weight=%{y}<extra></extra>",
           "legendgroup": "GMV",
           "marker": {
            "color": "#00cc96",
            "pattern": {
             "shape": ""
            }
           },
           "name": "GMV",
           "offsetgroup": "GMV",
           "orientation": "v",
           "showlegend": true,
           "textposition": "auto",
           "type": "bar",
           "x": [
            "AAPL",
            "WMT",
            "TSLA",
            "KO",
            "BAC",
            "T",
            "META",
            "NFLX",
            "CRM"
           ],
           "xaxis": "x",
           "y": [
            0,
            0,
            1.4003536697638675e-17,
            0.3435822644189604,
            0.038253477445803,
            0.1561550243389097,
            4.203675505203583e-18,
            2.904469262102391e-18,
            0.46200923379632697
           ],
           "yaxis": "y"
          },
          {
           "alignmentgroup": "True",
           "hovertemplate": "Strategy=Markowitz<br>Date=2020-09-30<br>Ticker=%{x}<br>Weight=%{y}<extra></extra>",
           "legendgroup": "Markowitz",
           "marker": {
            "color": "#ab63fa",
            "pattern": {
             "shape": ""
            }
           },
           "name": "Markowitz",
           "offsetgroup": "Markowitz",
           "orientation": "v",
           "showlegend": true,
           "textposition": "auto",
           "type": "bar",
           "x": [
            "AAPL",
            "WMT",
            "TSLA",
            "KO",
            "BAC",
            "T",
            "META",
            "NFLX",
            "CRM"
           ],
           "xaxis": "x",
           "y": [
            0.1353389659849012,
            2.572811755308102e-16,
            3.247185506594086e-17,
            1.1980434005964824e-17,
            0,
            0.04979868381984731,
            1.575345756621438e-16,
            0.6986872238629256,
            0.11617512633232556
           ],
           "yaxis": "y"
          },
          {
           "alignmentgroup": "True",
           "hovertemplate": "Strategy=Risk Parity<br>Date=2020-09-30<br>Ticker=%{x}<br>Weight=%{y}<extra></extra>",
           "legendgroup": "Risk Parity",
           "marker": {
            "color": "#FFA15A",
            "pattern": {
             "shape": ""
            }
           },
           "name": "Risk Parity",
           "offsetgroup": "Risk Parity",
           "orientation": "v",
           "showlegend": true,
           "textposition": "auto",
           "type": "bar",
           "x": [
            "AAPL",
            "WMT",
            "TSLA",
            "KO",
            "BAC",
            "T",
            "META",
            "NFLX",
            "CRM"
           ],
           "xaxis": "x",
           "y": [
            0.09459207200646427,
            0.07969767715258454,
            0.08889649711702435,
            0.13476504800310046,
            0.10257521031365781,
            0.12346866188771954,
            0.12486493102972507,
            0.07257396906369147,
            0.17856593342603252
           ],
           "yaxis": "y"
          }
         ],
         "name": "2020-09-30"
        },
        {
         "data": [
          {
           "alignmentgroup": "True",
           "hovertemplate": "Strategy=Equal Weight<br>Date=2020-10-31<br>Ticker=%{x}<br>Weight=%{y}<extra></extra>",
           "legendgroup": "Equal Weight",
           "marker": {
            "color": "#636efa",
            "pattern": {
             "shape": ""
            }
           },
           "name": "Equal Weight",
           "offsetgroup": "Equal Weight",
           "orientation": "v",
           "showlegend": true,
           "textposition": "auto",
           "type": "bar",
           "x": [
            "AAPL",
            "WMT",
            "TSLA",
            "KO",
            "BAC",
            "T",
            "META",
            "NFLX",
            "CRM"
           ],
           "xaxis": "x",
           "y": [
            0.1111111111111111,
            0.1111111111111111,
            0.1111111111111111,
            0.1111111111111111,
            0.1111111111111111,
            0.1111111111111111,
            0.1111111111111111,
            0.1111111111111111,
            0.1111111111111111
           ],
           "yaxis": "y"
          },
          {
           "alignmentgroup": "True",
           "hovertemplate": "Strategy=Inverse Vol<br>Date=2020-10-31<br>Ticker=%{x}<br>Weight=%{y}<extra></extra>",
           "legendgroup": "Inverse Vol",
           "marker": {
            "color": "#EF553B",
            "pattern": {
             "shape": ""
            }
           },
           "name": "Inverse Vol",
           "offsetgroup": "Inverse Vol",
           "orientation": "v",
           "showlegend": true,
           "textposition": "auto",
           "type": "bar",
           "x": [
            "AAPL",
            "WMT",
            "TSLA",
            "KO",
            "BAC",
            "T",
            "META",
            "NFLX",
            "CRM"
           ],
           "xaxis": "x",
           "y": [
            0.10764564428464707,
            0.08524736272559667,
            0.09411713734725312,
            0.14164340609517465,
            0.11181419415229736,
            0.11243841253820579,
            0.13875845183128296,
            0.055209737713721424,
            0.15312565331182107
           ],
           "yaxis": "y"
          },
          {
           "alignmentgroup": "True",
           "hovertemplate": "Strategy=GMV<br>Date=2020-10-31<br>Ticker=%{x}<br>Weight=%{y}<extra></extra>",
           "legendgroup": "GMV",
           "marker": {
            "color": "#00cc96",
            "pattern": {
             "shape": ""
            }
           },
           "name": "GMV",
           "offsetgroup": "GMV",
           "orientation": "v",
           "showlegend": true,
           "textposition": "auto",
           "type": "bar",
           "x": [
            "AAPL",
            "WMT",
            "TSLA",
            "KO",
            "BAC",
            "T",
            "META",
            "NFLX",
            "CRM"
           ],
           "xaxis": "x",
           "y": [
            0,
            3.303239876495375e-17,
            0,
            0.31823314290087146,
            0.024953862312378866,
            0.14464869656766757,
            0.0743414049535119,
            6.422618313093726e-18,
            0.4378228932655702
           ],
           "yaxis": "y"
          },
          {
           "alignmentgroup": "True",
           "hovertemplate": "Strategy=Markowitz<br>Date=2020-10-31<br>Ticker=%{x}<br>Weight=%{y}<extra></extra>",
           "legendgroup": "Markowitz",
           "marker": {
            "color": "#ab63fa",
            "pattern": {
             "shape": ""
            }
           },
           "name": "Markowitz",
           "offsetgroup": "Markowitz",
           "orientation": "v",
           "showlegend": true,
           "textposition": "auto",
           "type": "bar",
           "x": [
            "AAPL",
            "WMT",
            "TSLA",
            "KO",
            "BAC",
            "T",
            "META",
            "NFLX",
            "CRM"
           ],
           "xaxis": "x",
           "y": [
            2.756584023544395e-16,
            0,
            0,
            2.352216700166417e-16,
            6.512710265210066e-17,
            0.08211166538207991,
            0,
            0.6756260469982803,
            0.2422622876196396
           ],
           "yaxis": "y"
          },
          {
           "alignmentgroup": "True",
           "hovertemplate": "Strategy=Risk Parity<br>Date=2020-10-31<br>Ticker=%{x}<br>Weight=%{y}<extra></extra>",
           "legendgroup": "Risk Parity",
           "marker": {
            "color": "#FFA15A",
            "pattern": {
             "shape": ""
            }
           },
           "name": "Risk Parity",
           "offsetgroup": "Risk Parity",
           "orientation": "v",
           "showlegend": true,
           "textposition": "auto",
           "type": "bar",
           "x": [
            "AAPL",
            "WMT",
            "TSLA",
            "KO",
            "BAC",
            "T",
            "META",
            "NFLX",
            "CRM"
           ],
           "xaxis": "x",
           "y": [
            0.09153774220402745,
            0.0824115028570418,
            0.08833828943640853,
            0.13825041566125998,
            0.10303962010865252,
            0.12195182086255452,
            0.13050120732115378,
            0.0678905528267308,
            0.17607884872217067
           ],
           "yaxis": "y"
          }
         ],
         "name": "2020-10-31"
        },
        {
         "data": [
          {
           "alignmentgroup": "True",
           "hovertemplate": "Strategy=Equal Weight<br>Date=2020-11-30<br>Ticker=%{x}<br>Weight=%{y}<extra></extra>",
           "legendgroup": "Equal Weight",
           "marker": {
            "color": "#636efa",
            "pattern": {
             "shape": ""
            }
           },
           "name": "Equal Weight",
           "offsetgroup": "Equal Weight",
           "orientation": "v",
           "showlegend": true,
           "textposition": "auto",
           "type": "bar",
           "x": [
            "AAPL",
            "WMT",
            "TSLA",
            "KO",
            "BAC",
            "T",
            "META",
            "NFLX",
            "CRM"
           ],
           "xaxis": "x",
           "y": [
            0.1111111111111111,
            0.1111111111111111,
            0.1111111111111111,
            0.1111111111111111,
            0.1111111111111111,
            0.1111111111111111,
            0.1111111111111111,
            0.1111111111111111,
            0.1111111111111111
           ],
           "yaxis": "y"
          },
          {
           "alignmentgroup": "True",
           "hovertemplate": "Strategy=Inverse Vol<br>Date=2020-11-30<br>Ticker=%{x}<br>Weight=%{y}<extra></extra>",
           "legendgroup": "Inverse Vol",
           "marker": {
            "color": "#EF553B",
            "pattern": {
             "shape": ""
            }
           },
           "name": "Inverse Vol",
           "offsetgroup": "Inverse Vol",
           "orientation": "v",
           "showlegend": true,
           "textposition": "auto",
           "type": "bar",
           "x": [
            "AAPL",
            "WMT",
            "TSLA",
            "KO",
            "BAC",
            "T",
            "META",
            "NFLX",
            "CRM"
           ],
           "xaxis": "x",
           "y": [
            0.10612969643807914,
            0.08645749868342867,
            0.09498566195838375,
            0.14365078271503445,
            0.10934402445030107,
            0.10885658317328362,
            0.13927302285511473,
            0.05591367387280465,
            0.15538905585356985
           ],
           "yaxis": "y"
          },
          {
           "alignmentgroup": "True",
           "hovertemplate": "Strategy=GMV<br>Date=2020-11-30<br>Ticker=%{x}<br>Weight=%{y}<extra></extra>",
           "legendgroup": "GMV",
           "marker": {
            "color": "#00cc96",
            "pattern": {
             "shape": ""
            }
           },
           "name": "GMV",
           "offsetgroup": "GMV",
           "orientation": "v",
           "showlegend": true,
           "textposition": "auto",
           "type": "bar",
           "x": [
            "AAPL",
            "WMT",
            "TSLA",
            "KO",
            "BAC",
            "T",
            "META",
            "NFLX",
            "CRM"
           ],
           "xaxis": "x",
           "y": [
            0,
            0,
            2.826511548816444e-17,
            0.3097076984151787,
            0.01096324847997167,
            0.13089865475442278,
            0.10357345555809977,
            6.5536652365872535e-18,
            0.44485694279232707
           ],
           "yaxis": "y"
          },
          {
           "alignmentgroup": "True",
           "hovertemplate": "Strategy=Markowitz<br>Date=2020-11-30<br>Ticker=%{x}<br>Weight=%{y}<extra></extra>",
           "legendgroup": "Markowitz",
           "marker": {
            "color": "#ab63fa",
            "pattern": {
             "shape": ""
            }
           },
           "name": "Markowitz",
           "offsetgroup": "Markowitz",
           "orientation": "v",
           "showlegend": true,
           "textposition": "auto",
           "type": "bar",
           "x": [
            "AAPL",
            "WMT",
            "TSLA",
            "KO",
            "BAC",
            "T",
            "META",
            "NFLX",
            "CRM"
           ],
           "xaxis": "x",
           "y": [
            6.551383682899568e-17,
            0,
            9.500221747689551e-17,
            5.351176291420979e-18,
            0,
            0,
            8.765046531455088e-17,
            0.715477798731526,
            0.2845222012684743
           ],
           "yaxis": "y"
          },
          {
           "alignmentgroup": "True",
           "hovertemplate": "Strategy=Risk Parity<br>Date=2020-11-30<br>Ticker=%{x}<br>Weight=%{y}<extra></extra>",
           "legendgroup": "Risk Parity",
           "marker": {
            "color": "#FFA15A",
            "pattern": {
             "shape": ""
            }
           },
           "name": "Risk Parity",
           "offsetgroup": "Risk Parity",
           "orientation": "v",
           "showlegend": true,
           "textposition": "auto",
           "type": "bar",
           "x": [
            "AAPL",
            "WMT",
            "TSLA",
            "KO",
            "BAC",
            "T",
            "META",
            "NFLX",
            "CRM"
           ],
           "xaxis": "x",
           "y": [
            0.09022599815595139,
            0.08386310724629317,
            0.08876649495741597,
            0.1395485196953355,
            0.10099297648831491,
            0.11902834455845625,
            0.1335103944994149,
            0.06778758554805671,
            0.17627657885076115
           ],
           "yaxis": "y"
          }
         ],
         "name": "2020-11-30"
        },
        {
         "data": [
          {
           "alignmentgroup": "True",
           "hovertemplate": "Strategy=Equal Weight<br>Date=2020-12-31<br>Ticker=%{x}<br>Weight=%{y}<extra></extra>",
           "legendgroup": "Equal Weight",
           "marker": {
            "color": "#636efa",
            "pattern": {
             "shape": ""
            }
           },
           "name": "Equal Weight",
           "offsetgroup": "Equal Weight",
           "orientation": "v",
           "showlegend": true,
           "textposition": "auto",
           "type": "bar",
           "x": [
            "AAPL",
            "WMT",
            "TSLA",
            "KO",
            "BAC",
            "T",
            "META",
            "NFLX",
            "CRM"
           ],
           "xaxis": "x",
           "y": [
            0.1111111111111111,
            0.1111111111111111,
            0.1111111111111111,
            0.1111111111111111,
            0.1111111111111111,
            0.1111111111111111,
            0.1111111111111111,
            0.1111111111111111,
            0.1111111111111111
           ],
           "yaxis": "y"
          },
          {
           "alignmentgroup": "True",
           "hovertemplate": "Strategy=Inverse Vol<br>Date=2020-12-31<br>Ticker=%{x}<br>Weight=%{y}<extra></extra>",
           "legendgroup": "Inverse Vol",
           "marker": {
            "color": "#EF553B",
            "pattern": {
             "shape": ""
            }
           },
           "name": "Inverse Vol",
           "offsetgroup": "Inverse Vol",
           "orientation": "v",
           "showlegend": true,
           "textposition": "auto",
           "type": "bar",
           "x": [
            "AAPL",
            "WMT",
            "TSLA",
            "KO",
            "BAC",
            "T",
            "META",
            "NFLX",
            "CRM"
           ],
           "xaxis": "x",
           "y": [
            0.10713441168984576,
            0.08441143200896732,
            0.09487710170306955,
            0.14316653922062486,
            0.1085020258662328,
            0.10839551039038987,
            0.14053128917638558,
            0.05609401824221525,
            0.156887671702269
           ],
           "yaxis": "y"
          },
          {
           "alignmentgroup": "True",
           "hovertemplate": "Strategy=GMV<br>Date=2020-12-31<br>Ticker=%{x}<br>Weight=%{y}<extra></extra>",
           "legendgroup": "GMV",
           "marker": {
            "color": "#00cc96",
            "pattern": {
             "shape": ""
            }
           },
           "name": "GMV",
           "offsetgroup": "GMV",
           "orientation": "v",
           "showlegend": true,
           "textposition": "auto",
           "type": "bar",
           "x": [
            "AAPL",
            "WMT",
            "TSLA",
            "KO",
            "BAC",
            "T",
            "META",
            "NFLX",
            "CRM"
           ],
           "xaxis": "x",
           "y": [
            1.3877787807814457e-17,
            1.0863242563231782e-17,
            0,
            0.2983965206501814,
            0.017743030973870182,
            0.13228423227575486,
            0.11184538884155686,
            0,
            0.43973082725863666
           ],
           "yaxis": "y"
          },
          {
           "alignmentgroup": "True",
           "hovertemplate": "Strategy=Markowitz<br>Date=2020-12-31<br>Ticker=%{x}<br>Weight=%{y}<extra></extra>",
           "legendgroup": "Markowitz",
           "marker": {
            "color": "#ab63fa",
            "pattern": {
             "shape": ""
            }
           },
           "name": "Markowitz",
           "offsetgroup": "Markowitz",
           "orientation": "v",
           "showlegend": true,
           "textposition": "auto",
           "type": "bar",
           "x": [
            "AAPL",
            "WMT",
            "TSLA",
            "KO",
            "BAC",
            "T",
            "META",
            "NFLX",
            "CRM"
           ],
           "xaxis": "x",
           "y": [
            2.796625685055887e-16,
            0,
            1.0382667419552327e-16,
            0,
            0,
            0,
            1.3410650622422014e-16,
            0.6150433543034021,
            0.38495664569659815
           ],
           "yaxis": "y"
          },
          {
           "alignmentgroup": "True",
           "hovertemplate": "Strategy=Risk Parity<br>Date=2020-12-31<br>Ticker=%{x}<br>Weight=%{y}<extra></extra>",
           "legendgroup": "Risk Parity",
           "marker": {
            "color": "#FFA15A",
            "pattern": {
             "shape": ""
            }
           },
           "name": "Risk Parity",
           "offsetgroup": "Risk Parity",
           "orientation": "v",
           "showlegend": true,
           "textposition": "auto",
           "type": "bar",
           "x": [
            "AAPL",
            "WMT",
            "TSLA",
            "KO",
            "BAC",
            "T",
            "META",
            "NFLX",
            "CRM"
           ],
           "xaxis": "x",
           "y": [
            0.09044155088857857,
            0.08342181629196066,
            0.08822581353545321,
            0.13981568351723553,
            0.10055986538039229,
            0.11934611704399736,
            0.13389425447592995,
            0.06769157260851047,
            0.17660332625794192
           ],
           "yaxis": "y"
          }
         ],
         "name": "2020-12-31"
        },
        {
         "data": [
          {
           "alignmentgroup": "True",
           "hovertemplate": "Strategy=Equal Weight<br>Date=2021-01-31<br>Ticker=%{x}<br>Weight=%{y}<extra></extra>",
           "legendgroup": "Equal Weight",
           "marker": {
            "color": "#636efa",
            "pattern": {
             "shape": ""
            }
           },
           "name": "Equal Weight",
           "offsetgroup": "Equal Weight",
           "orientation": "v",
           "showlegend": true,
           "textposition": "auto",
           "type": "bar",
           "x": [
            "AAPL",
            "WMT",
            "TSLA",
            "KO",
            "BAC",
            "T",
            "META",
            "NFLX",
            "CRM"
           ],
           "xaxis": "x",
           "y": [
            0.1111111111111111,
            0.1111111111111111,
            0.1111111111111111,
            0.1111111111111111,
            0.1111111111111111,
            0.1111111111111111,
            0.1111111111111111,
            0.1111111111111111,
            0.1111111111111111
           ],
           "yaxis": "y"
          },
          {
           "alignmentgroup": "True",
           "hovertemplate": "Strategy=Inverse Vol<br>Date=2021-01-31<br>Ticker=%{x}<br>Weight=%{y}<extra></extra>",
           "legendgroup": "Inverse Vol",
           "marker": {
            "color": "#EF553B",
            "pattern": {
             "shape": ""
            }
           },
           "name": "Inverse Vol",
           "offsetgroup": "Inverse Vol",
           "orientation": "v",
           "showlegend": true,
           "textposition": "auto",
           "type": "bar",
           "x": [
            "AAPL",
            "WMT",
            "TSLA",
            "KO",
            "BAC",
            "T",
            "META",
            "NFLX",
            "CRM"
           ],
           "xaxis": "x",
           "y": [
            0.10684529876906246,
            0.08499447717675303,
            0.09422422084757795,
            0.14385429649399578,
            0.10860412765590456,
            0.10784206970532069,
            0.1397604794202032,
            0.055773994401655265,
            0.15810103552952698
           ],
           "yaxis": "y"
          },
          {
           "alignmentgroup": "True",
           "hovertemplate": "Strategy=GMV<br>Date=2021-01-31<br>Ticker=%{x}<br>Weight=%{y}<extra></extra>",
           "legendgroup": "GMV",
           "marker": {
            "color": "#00cc96",
            "pattern": {
             "shape": ""
            }
           },
           "name": "GMV",
           "offsetgroup": "GMV",
           "orientation": "v",
           "showlegend": true,
           "textposition": "auto",
           "type": "bar",
           "x": [
            "AAPL",
            "WMT",
            "TSLA",
            "KO",
            "BAC",
            "T",
            "META",
            "NFLX",
            "CRM"
           ],
           "xaxis": "x",
           "y": [
            0,
            0,
            6.160355896266039e-18,
            0.2983301358364118,
            0.015602999200174439,
            0.13284366714783763,
            0.11199559081299289,
            3.744599015962637e-18,
            0.4412276070025834
           ],
           "yaxis": "y"
          },
          {
           "alignmentgroup": "True",
           "hovertemplate": "Strategy=Markowitz<br>Date=2021-01-31<br>Ticker=%{x}<br>Weight=%{y}<extra></extra>",
           "legendgroup": "Markowitz",
           "marker": {
            "color": "#ab63fa",
            "pattern": {
             "shape": ""
            }
           },
           "name": "Markowitz",
           "offsetgroup": "Markowitz",
           "orientation": "v",
           "showlegend": true,
           "textposition": "auto",
           "type": "bar",
           "x": [
            "AAPL",
            "WMT",
            "TSLA",
            "KO",
            "BAC",
            "T",
            "META",
            "NFLX",
            "CRM"
           ],
           "xaxis": "x",
           "y": [
            0,
            3.563718456324532e-17,
            0,
            1.6042118096394364e-16,
            0,
            1.0798710324512361e-16,
            1.737150550417154e-16,
            0.7369907148034633,
            0.2630092851965368
           ],
           "yaxis": "y"
          },
          {
           "alignmentgroup": "True",
           "hovertemplate": "Strategy=Risk Parity<br>Date=2021-01-31<br>Ticker=%{x}<br>Weight=%{y}<extra></extra>",
           "legendgroup": "Risk Parity",
           "marker": {
            "color": "#FFA15A",
            "pattern": {
             "shape": ""
            }
           },
           "name": "Risk Parity",
           "offsetgroup": "Risk Parity",
           "orientation": "v",
           "showlegend": true,
           "textposition": "auto",
           "type": "bar",
           "x": [
            "AAPL",
            "WMT",
            "TSLA",
            "KO",
            "BAC",
            "T",
            "META",
            "NFLX",
            "CRM"
           ],
           "xaxis": "x",
           "y": [
            0.09050075459230321,
            0.0839294352453398,
            0.0882168269155726,
            0.14010003269950203,
            0.1001462344492678,
            0.11861066631082705,
            0.13475824301711972,
            0.06704370912316608,
            0.17669409764690172
           ],
           "yaxis": "y"
          }
         ],
         "name": "2021-01-31"
        },
        {
         "data": [
          {
           "alignmentgroup": "True",
           "hovertemplate": "Strategy=Equal Weight<br>Date=2021-02-28<br>Ticker=%{x}<br>Weight=%{y}<extra></extra>",
           "legendgroup": "Equal Weight",
           "marker": {
            "color": "#636efa",
            "pattern": {
             "shape": ""
            }
           },
           "name": "Equal Weight",
           "offsetgroup": "Equal Weight",
           "orientation": "v",
           "showlegend": true,
           "textposition": "auto",
           "type": "bar",
           "x": [
            "AAPL",
            "WMT",
            "TSLA",
            "KO",
            "BAC",
            "T",
            "META",
            "NFLX",
            "CRM"
           ],
           "xaxis": "x",
           "y": [
            0.1111111111111111,
            0.1111111111111111,
            0.1111111111111111,
            0.1111111111111111,
            0.1111111111111111,
            0.1111111111111111,
            0.1111111111111111,
            0.1111111111111111,
            0.1111111111111111
           ],
           "yaxis": "y"
          },
          {
           "alignmentgroup": "True",
           "hovertemplate": "Strategy=Inverse Vol<br>Date=2021-02-28<br>Ticker=%{x}<br>Weight=%{y}<extra></extra>",
           "legendgroup": "Inverse Vol",
           "marker": {
            "color": "#EF553B",
            "pattern": {
             "shape": ""
            }
           },
           "name": "Inverse Vol",
           "offsetgroup": "Inverse Vol",
           "orientation": "v",
           "showlegend": true,
           "textposition": "auto",
           "type": "bar",
           "x": [
            "AAPL",
            "WMT",
            "TSLA",
            "KO",
            "BAC",
            "T",
            "META",
            "NFLX",
            "CRM"
           ],
           "xaxis": "x",
           "y": [
            0.10679642915237778,
            0.08587361451993944,
            0.09583730903344125,
            0.1442399245609227,
            0.10853253940441343,
            0.10134728925838957,
            0.14146982654368154,
            0.05608746856285476,
            0.15981559896397954
           ],
           "yaxis": "y"
          },
          {
           "alignmentgroup": "True",
           "hovertemplate": "Strategy=GMV<br>Date=2021-02-28<br>Ticker=%{x}<br>Weight=%{y}<extra></extra>",
           "legendgroup": "GMV",
           "marker": {
            "color": "#00cc96",
            "pattern": {
             "shape": ""
            }
           },
           "name": "GMV",
           "offsetgroup": "GMV",
           "orientation": "v",
           "showlegend": true,
           "textposition": "auto",
           "type": "bar",
           "x": [
            "AAPL",
            "WMT",
            "TSLA",
            "KO",
            "BAC",
            "T",
            "META",
            "NFLX",
            "CRM"
           ],
           "xaxis": "x",
           "y": [
            0,
            0,
            0,
            0.27037863181311317,
            0.03153529075376953,
            0.09406067026155045,
            0.14264272593367716,
            5.894382788673125e-18,
            0.4613826812378898
           ],
           "yaxis": "y"
          },
          {
           "alignmentgroup": "True",
           "hovertemplate": "Strategy=Markowitz<br>Date=2021-02-28<br>Ticker=%{x}<br>Weight=%{y}<extra></extra>",
           "legendgroup": "Markowitz",
           "marker": {
            "color": "#ab63fa",
            "pattern": {
             "shape": ""
            }
           },
           "name": "Markowitz",
           "offsetgroup": "Markowitz",
           "orientation": "v",
           "showlegend": true,
           "textposition": "auto",
           "type": "bar",
           "x": [
            "AAPL",
            "WMT",
            "TSLA",
            "KO",
            "BAC",
            "T",
            "META",
            "NFLX",
            "CRM"
           ],
           "xaxis": "x",
           "y": [
            8.702529437816982e-17,
            7.694322274994073e-17,
            7.398827780745474e-17,
            7.028057232518023e-17,
            2.1493672627275977e-16,
            0,
            0,
            0.8184035360035389,
            0.18159646399646084
           ],
           "yaxis": "y"
          },
          {
           "alignmentgroup": "True",
           "hovertemplate": "Strategy=Risk Parity<br>Date=2021-02-28<br>Ticker=%{x}<br>Weight=%{y}<extra></extra>",
           "legendgroup": "Risk Parity",
           "marker": {
            "color": "#FFA15A",
            "pattern": {
             "shape": ""
            }
           },
           "name": "Risk Parity",
           "offsetgroup": "Risk Parity",
           "orientation": "v",
           "showlegend": true,
           "textposition": "auto",
           "type": "bar",
           "x": [
            "AAPL",
            "WMT",
            "TSLA",
            "KO",
            "BAC",
            "T",
            "META",
            "NFLX",
            "CRM"
           ],
           "xaxis": "x",
           "y": [
            0.0904036433718069,
            0.08551043476039807,
            0.08932281165188716,
            0.13993032434864588,
            0.09981173882963595,
            0.11335161005880783,
            0.13718791164116662,
            0.06699548347896199,
            0.17748604185868963
           ],
           "yaxis": "y"
          }
         ],
         "name": "2021-02-28"
        },
        {
         "data": [
          {
           "alignmentgroup": "True",
           "hovertemplate": "Strategy=Equal Weight<br>Date=2021-03-31<br>Ticker=%{x}<br>Weight=%{y}<extra></extra>",
           "legendgroup": "Equal Weight",
           "marker": {
            "color": "#636efa",
            "pattern": {
             "shape": ""
            }
           },
           "name": "Equal Weight",
           "offsetgroup": "Equal Weight",
           "orientation": "v",
           "showlegend": true,
           "textposition": "auto",
           "type": "bar",
           "x": [
            "AAPL",
            "WMT",
            "TSLA",
            "KO",
            "BAC",
            "T",
            "META",
            "NFLX",
            "CRM"
           ],
           "xaxis": "x",
           "y": [
            0.1111111111111111,
            0.1111111111111111,
            0.1111111111111111,
            0.1111111111111111,
            0.1111111111111111,
            0.1111111111111111,
            0.1111111111111111,
            0.1111111111111111,
            0.1111111111111111
           ],
           "yaxis": "y"
          },
          {
           "alignmentgroup": "True",
           "hovertemplate": "Strategy=Inverse Vol<br>Date=2021-03-31<br>Ticker=%{x}<br>Weight=%{y}<extra></extra>",
           "legendgroup": "Inverse Vol",
           "marker": {
            "color": "#EF553B",
            "pattern": {
             "shape": ""
            }
           },
           "name": "Inverse Vol",
           "offsetgroup": "Inverse Vol",
           "orientation": "v",
           "showlegend": true,
           "textposition": "auto",
           "type": "bar",
           "x": [
            "AAPL",
            "WMT",
            "TSLA",
            "KO",
            "BAC",
            "T",
            "META",
            "NFLX",
            "CRM"
           ],
           "xaxis": "x",
           "y": [
            0.10718920915708041,
            0.08623046791275546,
            0.09547694724443254,
            0.145068726004184,
            0.10895893199978911,
            0.10199008056642081,
            0.1420107043867174,
            0.055758792170710114,
            0.1573161405579101
           ],
           "yaxis": "y"
          },
          {
           "alignmentgroup": "True",
           "hovertemplate": "Strategy=GMV<br>Date=2021-03-31<br>Ticker=%{x}<br>Weight=%{y}<extra></extra>",
           "legendgroup": "GMV",
           "marker": {
            "color": "#00cc96",
            "pattern": {
             "shape": ""
            }
           },
           "name": "GMV",
           "offsetgroup": "GMV",
           "orientation": "v",
           "showlegend": true,
           "textposition": "auto",
           "type": "bar",
           "x": [
            "AAPL",
            "WMT",
            "TSLA",
            "KO",
            "BAC",
            "T",
            "META",
            "NFLX",
            "CRM"
           ],
           "xaxis": "x",
           "y": [
            0,
            0,
            3.3191503099733183e-18,
            0.2896310491647498,
            0.03161109858689773,
            0.10175173831580027,
            0.13773196536798085,
            0,
            0.4392741485645715
           ],
           "yaxis": "y"
          },
          {
           "alignmentgroup": "True",
           "hovertemplate": "Strategy=Markowitz<br>Date=2021-03-31<br>Ticker=%{x}<br>Weight=%{y}<extra></extra>",
           "legendgroup": "Markowitz",
           "marker": {
            "color": "#ab63fa",
            "pattern": {
             "shape": ""
            }
           },
           "name": "Markowitz",
           "offsetgroup": "Markowitz",
           "orientation": "v",
           "showlegend": true,
           "textposition": "auto",
           "type": "bar",
           "x": [
            "AAPL",
            "WMT",
            "TSLA",
            "KO",
            "BAC",
            "T",
            "META",
            "NFLX",
            "CRM"
           ],
           "xaxis": "x",
           "y": [
            1.6115620157331731e-16,
            0,
            1.2212201297354051e-16,
            0,
            0,
            0.1290224475057064,
            0,
            0.8709775524942936,
            0
           ],
           "yaxis": "y"
          },
          {
           "alignmentgroup": "True",
           "hovertemplate": "Strategy=Risk Parity<br>Date=2021-03-31<br>Ticker=%{x}<br>Weight=%{y}<extra></extra>",
           "legendgroup": "Risk Parity",
           "marker": {
            "color": "#FFA15A",
            "pattern": {
             "shape": ""
            }
           },
           "name": "Risk Parity",
           "offsetgroup": "Risk Parity",
           "orientation": "v",
           "showlegend": true,
           "textposition": "auto",
           "type": "bar",
           "x": [
            "AAPL",
            "WMT",
            "TSLA",
            "KO",
            "BAC",
            "T",
            "META",
            "NFLX",
            "CRM"
           ],
           "xaxis": "x",
           "y": [
            0.09080432704884696,
            0.08585852079859424,
            0.08871804197486062,
            0.1409819827028298,
            0.10036388557469628,
            0.11381176359026944,
            0.13724706746241466,
            0.06631572406227743,
            0.1758986867852105
           ],
           "yaxis": "y"
          }
         ],
         "name": "2021-03-31"
        },
        {
         "data": [
          {
           "alignmentgroup": "True",
           "hovertemplate": "Strategy=Equal Weight<br>Date=2021-04-30<br>Ticker=%{x}<br>Weight=%{y}<extra></extra>",
           "legendgroup": "Equal Weight",
           "marker": {
            "color": "#636efa",
            "pattern": {
             "shape": ""
            }
           },
           "name": "Equal Weight",
           "offsetgroup": "Equal Weight",
           "orientation": "v",
           "showlegend": true,
           "textposition": "auto",
           "type": "bar",
           "x": [
            "AAPL",
            "WMT",
            "TSLA",
            "KO",
            "BAC",
            "T",
            "META",
            "NFLX",
            "CRM"
           ],
           "xaxis": "x",
           "y": [
            0.1111111111111111,
            0.1111111111111111,
            0.1111111111111111,
            0.1111111111111111,
            0.1111111111111111,
            0.1111111111111111,
            0.1111111111111111,
            0.1111111111111111,
            0.1111111111111111
           ],
           "yaxis": "y"
          },
          {
           "alignmentgroup": "True",
           "hovertemplate": "Strategy=Inverse Vol<br>Date=2021-04-30<br>Ticker=%{x}<br>Weight=%{y}<extra></extra>",
           "legendgroup": "Inverse Vol",
           "marker": {
            "color": "#EF553B",
            "pattern": {
             "shape": ""
            }
           },
           "name": "Inverse Vol",
           "offsetgroup": "Inverse Vol",
           "orientation": "v",
           "showlegend": true,
           "textposition": "auto",
           "type": "bar",
           "x": [
            "AAPL",
            "WMT",
            "TSLA",
            "KO",
            "BAC",
            "T",
            "META",
            "NFLX",
            "CRM"
           ],
           "xaxis": "x",
           "y": [
            0.10632431613878834,
            0.08688110321994262,
            0.09614697439966717,
            0.14593061935376572,
            0.10790842936480363,
            0.10123379824269377,
            0.1431317235777497,
            0.05438519571874741,
            0.15805783998384168
           ],
           "yaxis": "y"
          },
          {
           "alignmentgroup": "True",
           "hovertemplate": "Strategy=GMV<br>Date=2021-04-30<br>Ticker=%{x}<br>Weight=%{y}<extra></extra>",
           "legendgroup": "GMV",
           "marker": {
            "color": "#00cc96",
            "pattern": {
             "shape": ""
            }
           },
           "name": "GMV",
           "offsetgroup": "GMV",
           "orientation": "v",
           "showlegend": true,
           "textposition": "auto",
           "type": "bar",
           "x": [
            "AAPL",
            "WMT",
            "TSLA",
            "KO",
            "BAC",
            "T",
            "META",
            "NFLX",
            "CRM"
           ],
           "xaxis": "x",
           "y": [
            0,
            3.109619765032284e-17,
            0,
            0.28078372433868765,
            0.02750773435688159,
            0.10069495601345904,
            0.15643639765810777,
            0,
            0.4345771876328639
           ],
           "yaxis": "y"
          },
          {
           "alignmentgroup": "True",
           "hovertemplate": "Strategy=Markowitz<br>Date=2021-04-30<br>Ticker=%{x}<br>Weight=%{y}<extra></extra>",
           "legendgroup": "Markowitz",
           "marker": {
            "color": "#ab63fa",
            "pattern": {
             "shape": ""
            }
           },
           "name": "Markowitz",
           "offsetgroup": "Markowitz",
           "orientation": "v",
           "showlegend": true,
           "textposition": "auto",
           "type": "bar",
           "x": [
            "AAPL",
            "WMT",
            "TSLA",
            "KO",
            "BAC",
            "T",
            "META",
            "NFLX",
            "CRM"
           ],
           "xaxis": "x",
           "y": [
            8.059236148808915e-17,
            0,
            0,
            0,
            2.0731788224369664e-17,
            0.03862208746357966,
            1.3721589922219443e-16,
            0.8267422200318544,
            0.1346356925045661
           ],
           "yaxis": "y"
          },
          {
           "alignmentgroup": "True",
           "hovertemplate": "Strategy=Risk Parity<br>Date=2021-04-30<br>Ticker=%{x}<br>Weight=%{y}<extra></extra>",
           "legendgroup": "Risk Parity",
           "marker": {
            "color": "#FFA15A",
            "pattern": {
             "shape": ""
            }
           },
           "name": "Risk Parity",
           "offsetgroup": "Risk Parity",
           "orientation": "v",
           "showlegend": true,
           "textposition": "auto",
           "type": "bar",
           "x": [
            "AAPL",
            "WMT",
            "TSLA",
            "KO",
            "BAC",
            "T",
            "META",
            "NFLX",
            "CRM"
           ],
           "xaxis": "x",
           "y": [
            0.08992684928259499,
            0.08770173564898874,
            0.08876690509343531,
            0.14233185190161202,
            0.09895033703749136,
            0.11208737924289604,
            0.13975455492943864,
            0.06501955059814729,
            0.17546083626539571
           ],
           "yaxis": "y"
          }
         ],
         "name": "2021-04-30"
        },
        {
         "data": [
          {
           "alignmentgroup": "True",
           "hovertemplate": "Strategy=Equal Weight<br>Date=2021-05-31<br>Ticker=%{x}<br>Weight=%{y}<extra></extra>",
           "legendgroup": "Equal Weight",
           "marker": {
            "color": "#636efa",
            "pattern": {
             "shape": ""
            }
           },
           "name": "Equal Weight",
           "offsetgroup": "Equal Weight",
           "orientation": "v",
           "showlegend": true,
           "textposition": "auto",
           "type": "bar",
           "x": [
            "AAPL",
            "WMT",
            "TSLA",
            "KO",
            "BAC",
            "T",
            "META",
            "NFLX",
            "CRM"
           ],
           "xaxis": "x",
           "y": [
            0.1111111111111111,
            0.1111111111111111,
            0.1111111111111111,
            0.1111111111111111,
            0.1111111111111111,
            0.1111111111111111,
            0.1111111111111111,
            0.1111111111111111,
            0.1111111111111111
           ],
           "yaxis": "y"
          },
          {
           "alignmentgroup": "True",
           "hovertemplate": "Strategy=Inverse Vol<br>Date=2021-05-31<br>Ticker=%{x}<br>Weight=%{y}<extra></extra>",
           "legendgroup": "Inverse Vol",
           "marker": {
            "color": "#EF553B",
            "pattern": {
             "shape": ""
            }
           },
           "name": "Inverse Vol",
           "offsetgroup": "Inverse Vol",
           "orientation": "v",
           "showlegend": true,
           "textposition": "auto",
           "type": "bar",
           "x": [
            "AAPL",
            "WMT",
            "TSLA",
            "KO",
            "BAC",
            "T",
            "META",
            "NFLX",
            "CRM"
           ],
           "xaxis": "x",
           "y": [
            0.10649102917436919,
            0.0871069115149613,
            0.09634598753025098,
            0.14686023360357772,
            0.10691238770678586,
            0.10057621836995487,
            0.14302057306729013,
            0.054221496399106145,
            0.1584651626337038
           ],
           "yaxis": "y"
          },
          {
           "alignmentgroup": "True",
           "hovertemplate": "Strategy=GMV<br>Date=2021-05-31<br>Ticker=%{x}<br>Weight=%{y}<extra></extra>",
           "legendgroup": "GMV",
           "marker": {
            "color": "#00cc96",
            "pattern": {
             "shape": ""
            }
           },
           "name": "GMV",
           "offsetgroup": "GMV",
           "orientation": "v",
           "showlegend": true,
           "textposition": "auto",
           "type": "bar",
           "x": [
            "AAPL",
            "WMT",
            "TSLA",
            "KO",
            "BAC",
            "T",
            "META",
            "NFLX",
            "CRM"
           ],
           "xaxis": "x",
           "y": [
            1.4600589256138125e-17,
            5.105876797680943e-17,
            0,
            0.28468648726288803,
            0.020304296305174413,
            0.10539126672609594,
            0.15830995635561945,
            0,
            0.4313079933502221
           ],
           "yaxis": "y"
          },
          {
           "alignmentgroup": "True",
           "hovertemplate": "Strategy=Markowitz<br>Date=2021-05-31<br>Ticker=%{x}<br>Weight=%{y}<extra></extra>",
           "legendgroup": "Markowitz",
           "marker": {
            "color": "#ab63fa",
            "pattern": {
             "shape": ""
            }
           },
           "name": "Markowitz",
           "offsetgroup": "Markowitz",
           "orientation": "v",
           "showlegend": true,
           "textposition": "auto",
           "type": "bar",
           "x": [
            "AAPL",
            "WMT",
            "TSLA",
            "KO",
            "BAC",
            "T",
            "META",
            "NFLX",
            "CRM"
           ],
           "xaxis": "x",
           "y": [
            0,
            0,
            0,
            1.0568866191229258e-16,
            0.012515363042891829,
            0,
            5.220002660208007e-17,
            0.777251080580788,
            0.21023355637632024
           ],
           "yaxis": "y"
          },
          {
           "alignmentgroup": "True",
           "hovertemplate": "Strategy=Risk Parity<br>Date=2021-05-31<br>Ticker=%{x}<br>Weight=%{y}<extra></extra>",
           "legendgroup": "Risk Parity",
           "marker": {
            "color": "#FFA15A",
            "pattern": {
             "shape": ""
            }
           },
           "name": "Risk Parity",
           "offsetgroup": "Risk Parity",
           "orientation": "v",
           "showlegend": true,
           "textposition": "auto",
           "type": "bar",
           "x": [
            "AAPL",
            "WMT",
            "TSLA",
            "KO",
            "BAC",
            "T",
            "META",
            "NFLX",
            "CRM"
           ],
           "xaxis": "x",
           "y": [
            0.08985888648646047,
            0.08793809496735071,
            0.08882948291018822,
            0.14273348546875533,
            0.09816678360461832,
            0.11202131351093701,
            0.14019181762918909,
            0.06511961130206216,
            0.1751405241204387
           ],
           "yaxis": "y"
          }
         ],
         "name": "2021-05-31"
        },
        {
         "data": [
          {
           "alignmentgroup": "True",
           "hovertemplate": "Strategy=Equal Weight<br>Date=2021-06-30<br>Ticker=%{x}<br>Weight=%{y}<extra></extra>",
           "legendgroup": "Equal Weight",
           "marker": {
            "color": "#636efa",
            "pattern": {
             "shape": ""
            }
           },
           "name": "Equal Weight",
           "offsetgroup": "Equal Weight",
           "orientation": "v",
           "showlegend": true,
           "textposition": "auto",
           "type": "bar",
           "x": [
            "AAPL",
            "WMT",
            "TSLA",
            "KO",
            "BAC",
            "T",
            "META",
            "NFLX",
            "CRM"
           ],
           "xaxis": "x",
           "y": [
            0.1111111111111111,
            0.1111111111111111,
            0.1111111111111111,
            0.1111111111111111,
            0.1111111111111111,
            0.1111111111111111,
            0.1111111111111111,
            0.1111111111111111,
            0.1111111111111111
           ],
           "yaxis": "y"
          },
          {
           "alignmentgroup": "True",
           "hovertemplate": "Strategy=Inverse Vol<br>Date=2021-06-30<br>Ticker=%{x}<br>Weight=%{y}<extra></extra>",
           "legendgroup": "Inverse Vol",
           "marker": {
            "color": "#EF553B",
            "pattern": {
             "shape": ""
            }
           },
           "name": "Inverse Vol",
           "offsetgroup": "Inverse Vol",
           "orientation": "v",
           "showlegend": true,
           "textposition": "auto",
           "type": "bar",
           "x": [
            "AAPL",
            "WMT",
            "TSLA",
            "KO",
            "BAC",
            "T",
            "META",
            "NFLX",
            "CRM"
           ],
           "xaxis": "x",
           "y": [
            0.10650011312146233,
            0.08778101483854675,
            0.09599785389880622,
            0.14794906681928646,
            0.10677700615299138,
            0.10091361002521408,
            0.1412383517643486,
            0.05424515159988849,
            0.1585978317794557
           ],
           "yaxis": "y"
          },
          {
           "alignmentgroup": "True",
           "hovertemplate": "Strategy=GMV<br>Date=2021-06-30<br>Ticker=%{x}<br>Weight=%{y}<extra></extra>",
           "legendgroup": "GMV",
           "marker": {
            "color": "#00cc96",
            "pattern": {
             "shape": ""
            }
           },
           "name": "GMV",
           "offsetgroup": "GMV",
           "orientation": "v",
           "showlegend": true,
           "textposition": "auto",
           "type": "bar",
           "x": [
            "AAPL",
            "WMT",
            "TSLA",
            "KO",
            "BAC",
            "T",
            "META",
            "NFLX",
            "CRM"
           ],
           "xaxis": "x",
           "y": [
            8.601337235051673e-18,
            2.2811136106518694e-17,
            0,
            0.2916255277805928,
            0.019522539845789135,
            0.106403155129597,
            0.15268595477433144,
            0,
            0.42976282246968944
           ],
           "yaxis": "y"
          },
          {
           "alignmentgroup": "True",
           "hovertemplate": "Strategy=Markowitz<br>Date=2021-06-30<br>Ticker=%{x}<br>Weight=%{y}<extra></extra>",
           "legendgroup": "Markowitz",
           "marker": {
            "color": "#ab63fa",
            "pattern": {
             "shape": ""
            }
           },
           "name": "Markowitz",
           "offsetgroup": "Markowitz",
           "orientation": "v",
           "showlegend": true,
           "textposition": "auto",
           "type": "bar",
           "x": [
            "AAPL",
            "WMT",
            "TSLA",
            "KO",
            "BAC",
            "T",
            "META",
            "NFLX",
            "CRM"
           ],
           "xaxis": "x",
           "y": [
            0,
            0,
            3.397363030190986e-17,
            1.077841635332784e-16,
            0.038653910083004006,
            3.962424472322689e-17,
            9.241565765090395e-17,
            0.6987225772127506,
            0.2626235127042453
           ],
           "yaxis": "y"
          },
          {
           "alignmentgroup": "True",
           "hovertemplate": "Strategy=Risk Parity<br>Date=2021-06-30<br>Ticker=%{x}<br>Weight=%{y}<extra></extra>",
           "legendgroup": "Risk Parity",
           "marker": {
            "color": "#FFA15A",
            "pattern": {
             "shape": ""
            }
           },
           "name": "Risk Parity",
           "offsetgroup": "Risk Parity",
           "orientation": "v",
           "showlegend": true,
           "textposition": "auto",
           "type": "bar",
           "x": [
            "AAPL",
            "WMT",
            "TSLA",
            "KO",
            "BAC",
            "T",
            "META",
            "NFLX",
            "CRM"
           ],
           "xaxis": "x",
           "y": [
            0.0895257213015953,
            0.0885411361719438,
            0.08884100826576569,
            0.1434889196768546,
            0.09772802573014736,
            0.11170950931029314,
            0.13985553733130085,
            0.06479614470733551,
            0.17551399750476382
           ],
           "yaxis": "y"
          }
         ],
         "name": "2021-06-30"
        },
        {
         "data": [
          {
           "alignmentgroup": "True",
           "hovertemplate": "Strategy=Equal Weight<br>Date=2021-07-31<br>Ticker=%{x}<br>Weight=%{y}<extra></extra>",
           "legendgroup": "Equal Weight",
           "marker": {
            "color": "#636efa",
            "pattern": {
             "shape": ""
            }
           },
           "name": "Equal Weight",
           "offsetgroup": "Equal Weight",
           "orientation": "v",
           "showlegend": true,
           "textposition": "auto",
           "type": "bar",
           "x": [
            "AAPL",
            "WMT",
            "TSLA",
            "KO",
            "BAC",
            "T",
            "META",
            "NFLX",
            "CRM"
           ],
           "xaxis": "x",
           "y": [
            0.1111111111111111,
            0.1111111111111111,
            0.1111111111111111,
            0.1111111111111111,
            0.1111111111111111,
            0.1111111111111111,
            0.1111111111111111,
            0.1111111111111111,
            0.1111111111111111
           ],
           "yaxis": "y"
          },
          {
           "alignmentgroup": "True",
           "hovertemplate": "Strategy=Inverse Vol<br>Date=2021-07-31<br>Ticker=%{x}<br>Weight=%{y}<extra></extra>",
           "legendgroup": "Inverse Vol",
           "marker": {
            "color": "#EF553B",
            "pattern": {
             "shape": ""
            }
           },
           "name": "Inverse Vol",
           "offsetgroup": "Inverse Vol",
           "orientation": "v",
           "showlegend": true,
           "textposition": "auto",
           "type": "bar",
           "x": [
            "AAPL",
            "WMT",
            "TSLA",
            "KO",
            "BAC",
            "T",
            "META",
            "NFLX",
            "CRM"
           ],
           "xaxis": "x",
           "y": [
            0.10669765706975781,
            0.08769790464456119,
            0.0961262406037265,
            0.1481114665612463,
            0.10645866108927883,
            0.10099417728303581,
            0.14164144597512568,
            0.05421611037160132,
            0.15805633640166664
           ],
           "yaxis": "y"
          },
          {
           "alignmentgroup": "True",
           "hovertemplate": "Strategy=GMV<br>Date=2021-07-31<br>Ticker=%{x}<br>Weight=%{y}<extra></extra>",
           "legendgroup": "GMV",
           "marker": {
            "color": "#00cc96",
            "pattern": {
             "shape": ""
            }
           },
           "name": "GMV",
           "offsetgroup": "GMV",
           "orientation": "v",
           "showlegend": true,
           "textposition": "auto",
           "type": "bar",
           "x": [
            "AAPL",
            "WMT",
            "TSLA",
            "KO",
            "BAC",
            "T",
            "META",
            "NFLX",
            "CRM"
           ],
           "xaxis": "x",
           "y": [
            1.55402311389589e-17,
            3.6883012961697196e-18,
            1.3355149596396617e-17,
            0.28639317851158286,
            0.01862232819630552,
            0.1107163115180963,
            0.16251489003570674,
            0,
            0.42175329173830844
           ],
           "yaxis": "y"
          },
          {
           "alignmentgroup": "True",
           "hovertemplate": "Strategy=Markowitz<br>Date=2021-07-31<br>Ticker=%{x}<br>Weight=%{y}<extra></extra>",
           "legendgroup": "Markowitz",
           "marker": {
            "color": "#ab63fa",
            "pattern": {
             "shape": ""
            }
           },
           "name": "Markowitz",
           "offsetgroup": "Markowitz",
           "orientation": "v",
           "showlegend": true,
           "textposition": "auto",
           "type": "bar",
           "x": [
            "AAPL",
            "WMT",
            "TSLA",
            "KO",
            "BAC",
            "T",
            "META",
            "NFLX",
            "CRM"
           ],
           "xaxis": "x",
           "y": [
            0.009619319980156398,
            3.686287386450715e-17,
            0,
            3.924811864397526e-17,
            0.09475637903018368,
            0,
            4.92227786308419e-17,
            0.6945242496299634,
            0.2011000513596964
           ],
           "yaxis": "y"
          },
          {
           "alignmentgroup": "True",
           "hovertemplate": "Strategy=Risk Parity<br>Date=2021-07-31<br>Ticker=%{x}<br>Weight=%{y}<extra></extra>",
           "legendgroup": "Risk Parity",
           "marker": {
            "color": "#FFA15A",
            "pattern": {
             "shape": ""
            }
           },
           "name": "Risk Parity",
           "offsetgroup": "Risk Parity",
           "orientation": "v",
           "showlegend": true,
           "textposition": "auto",
           "type": "bar",
           "x": [
            "AAPL",
            "WMT",
            "TSLA",
            "KO",
            "BAC",
            "T",
            "META",
            "NFLX",
            "CRM"
           ],
           "xaxis": "x",
           "y": [
            0.08976152917312573,
            0.0887894110787392,
            0.08888527046116616,
            0.1433148855688112,
            0.09747684015175466,
            0.11172181313273338,
            0.14037160432440904,
            0.06471929005490237,
            0.17495935605435825
           ],
           "yaxis": "y"
          }
         ],
         "name": "2021-07-31"
        },
        {
         "data": [
          {
           "alignmentgroup": "True",
           "hovertemplate": "Strategy=Equal Weight<br>Date=2021-08-31<br>Ticker=%{x}<br>Weight=%{y}<extra></extra>",
           "legendgroup": "Equal Weight",
           "marker": {
            "color": "#636efa",
            "pattern": {
             "shape": ""
            }
           },
           "name": "Equal Weight",
           "offsetgroup": "Equal Weight",
           "orientation": "v",
           "showlegend": true,
           "textposition": "auto",
           "type": "bar",
           "x": [
            "AAPL",
            "WMT",
            "TSLA",
            "KO",
            "BAC",
            "T",
            "META",
            "NFLX",
            "CRM"
           ],
           "xaxis": "x",
           "y": [
            0.1111111111111111,
            0.1111111111111111,
            0.1111111111111111,
            0.1111111111111111,
            0.1111111111111111,
            0.1111111111111111,
            0.1111111111111111,
            0.1111111111111111,
            0.1111111111111111
           ],
           "yaxis": "y"
          },
          {
           "alignmentgroup": "True",
           "hovertemplate": "Strategy=Inverse Vol<br>Date=2021-08-31<br>Ticker=%{x}<br>Weight=%{y}<extra></extra>",
           "legendgroup": "Inverse Vol",
           "marker": {
            "color": "#EF553B",
            "pattern": {
             "shape": ""
            }
           },
           "name": "Inverse Vol",
           "offsetgroup": "Inverse Vol",
           "orientation": "v",
           "showlegend": true,
           "textposition": "auto",
           "type": "bar",
           "x": [
            "AAPL",
            "WMT",
            "TSLA",
            "KO",
            "BAC",
            "T",
            "META",
            "NFLX",
            "CRM"
           ],
           "xaxis": "x",
           "y": [
            0.10647499017080266,
            0.08742733266965497,
            0.09632189433280877,
            0.14822467868549463,
            0.10566335755222388,
            0.1010487086928114,
            0.14191566476908363,
            0.05426129469515042,
            0.15866207843196953
           ],
           "yaxis": "y"
          },
          {
           "alignmentgroup": "True",
           "hovertemplate": "Strategy=GMV<br>Date=2021-08-31<br>Ticker=%{x}<br>Weight=%{y}<extra></extra>",
           "legendgroup": "GMV",
           "marker": {
            "color": "#00cc96",
            "pattern": {
             "shape": ""
            }
           },
           "name": "GMV",
           "offsetgroup": "GMV",
           "orientation": "v",
           "showlegend": true,
           "textposition": "auto",
           "type": "bar",
           "x": [
            "AAPL",
            "WMT",
            "TSLA",
            "KO",
            "BAC",
            "T",
            "META",
            "NFLX",
            "CRM"
           ],
           "xaxis": "x",
           "y": [
            0,
            1.5862636590969824e-17,
            3.6585582551234134e-18,
            0.28265896672401875,
            0.018742422482984633,
            0.11055997267046926,
            0.16522187065174707,
            5.015398456610086e-18,
            0.4228167674707803
           ],
           "yaxis": "y"
          },
          {
           "alignmentgroup": "True",
           "hovertemplate": "Strategy=Markowitz<br>Date=2021-08-31<br>Ticker=%{x}<br>Weight=%{y}<extra></extra>",
           "legendgroup": "Markowitz",
           "marker": {
            "color": "#ab63fa",
            "pattern": {
             "shape": ""
            }
           },
           "name": "Markowitz",
           "offsetgroup": "Markowitz",
           "orientation": "v",
           "showlegend": true,
           "textposition": "auto",
           "type": "bar",
           "x": [
            "AAPL",
            "WMT",
            "TSLA",
            "KO",
            "BAC",
            "T",
            "META",
            "NFLX",
            "CRM"
           ],
           "xaxis": "x",
           "y": [
            0.14753461480328006,
            0,
            4.7704895589362195e-17,
            8.239936510889834e-17,
            0.05011596941269076,
            2.5804011705155006e-17,
            0,
            0.6506700041477806,
            0.15167941163624862
           ],
           "yaxis": "y"
          },
          {
           "alignmentgroup": "True",
           "hovertemplate": "Strategy=Risk Parity<br>Date=2021-08-31<br>Ticker=%{x}<br>Weight=%{y}<extra></extra>",
           "legendgroup": "Risk Parity",
           "marker": {
            "color": "#FFA15A",
            "pattern": {
             "shape": ""
            }
           },
           "name": "Risk Parity",
           "offsetgroup": "Risk Parity",
           "orientation": "v",
           "showlegend": true,
           "textposition": "auto",
           "type": "bar",
           "x": [
            "AAPL",
            "WMT",
            "TSLA",
            "KO",
            "BAC",
            "T",
            "META",
            "NFLX",
            "CRM"
           ],
           "xaxis": "x",
           "y": [
            0.08954384545686445,
            0.08848101950347291,
            0.0890809230106975,
            0.14357276560837665,
            0.09715420878396433,
            0.1118210357777247,
            0.14031246737443429,
            0.06478318681501197,
            0.1752505476694533
           ],
           "yaxis": "y"
          }
         ],
         "name": "2021-08-31"
        },
        {
         "data": [
          {
           "alignmentgroup": "True",
           "hovertemplate": "Strategy=Equal Weight<br>Date=2021-09-30<br>Ticker=%{x}<br>Weight=%{y}<extra></extra>",
           "legendgroup": "Equal Weight",
           "marker": {
            "color": "#636efa",
            "pattern": {
             "shape": ""
            }
           },
           "name": "Equal Weight",
           "offsetgroup": "Equal Weight",
           "orientation": "v",
           "showlegend": true,
           "textposition": "auto",
           "type": "bar",
           "x": [
            "AAPL",
            "WMT",
            "TSLA",
            "KO",
            "BAC",
            "T",
            "META",
            "NFLX",
            "CRM"
           ],
           "xaxis": "x",
           "y": [
            0.1111111111111111,
            0.1111111111111111,
            0.1111111111111111,
            0.1111111111111111,
            0.1111111111111111,
            0.1111111111111111,
            0.1111111111111111,
            0.1111111111111111,
            0.1111111111111111
           ],
           "yaxis": "y"
          },
          {
           "alignmentgroup": "True",
           "hovertemplate": "Strategy=Inverse Vol<br>Date=2021-09-30<br>Ticker=%{x}<br>Weight=%{y}<extra></extra>",
           "legendgroup": "Inverse Vol",
           "marker": {
            "color": "#EF553B",
            "pattern": {
             "shape": ""
            }
           },
           "name": "Inverse Vol",
           "offsetgroup": "Inverse Vol",
           "orientation": "v",
           "showlegend": true,
           "textposition": "auto",
           "type": "bar",
           "x": [
            "AAPL",
            "WMT",
            "TSLA",
            "KO",
            "BAC",
            "T",
            "META",
            "NFLX",
            "CRM"
           ],
           "xaxis": "x",
           "y": [
            0.10643887516933248,
            0.0874291862253223,
            0.09623047772101943,
            0.14848592379648462,
            0.10563108793594608,
            0.1010200662516734,
            0.14218766140883998,
            0.0542701931366306,
            0.1583065283547512
           ],
           "yaxis": "y"
          },
          {
           "alignmentgroup": "True",
           "hovertemplate": "Strategy=GMV<br>Date=2021-09-30<br>Ticker=%{x}<br>Weight=%{y}<extra></extra>",
           "legendgroup": "GMV",
           "marker": {
            "color": "#00cc96",
            "pattern": {
             "shape": ""
            }
           },
           "name": "GMV",
           "offsetgroup": "GMV",
           "orientation": "v",
           "showlegend": true,
           "textposition": "auto",
           "type": "bar",
           "x": [
            "AAPL",
            "WMT",
            "TSLA",
            "KO",
            "BAC",
            "T",
            "META",
            "NFLX",
            "CRM"
           ],
           "xaxis": "x",
           "y": [
            1.2639990327560183e-17,
            0,
            0,
            0.27633823526115014,
            0.022411135507497598,
            0.11031699596259625,
            0.17141309394610382,
            4.9275912166495285e-18,
            0.4195205393226523
           ],
           "yaxis": "y"
          },
          {
           "alignmentgroup": "True",
           "hovertemplate": "Strategy=Markowitz<br>Date=2021-09-30<br>Ticker=%{x}<br>Weight=%{y}<extra></extra>",
           "legendgroup": "Markowitz",
           "marker": {
            "color": "#ab63fa",
            "pattern": {
             "shape": ""
            }
           },
           "name": "Markowitz",
           "offsetgroup": "Markowitz",
           "orientation": "v",
           "showlegend": true,
           "textposition": "auto",
           "type": "bar",
           "x": [
            "AAPL",
            "WMT",
            "TSLA",
            "KO",
            "BAC",
            "T",
            "META",
            "NFLX",
            "CRM"
           ],
           "xaxis": "x",
           "y": [
            0.09031357435956118,
            0,
            1.3010426069826053e-16,
            0,
            0.10111858840683868,
            0.008443457260908423,
            5.594483210025203e-17,
            0.5819703616225299,
            0.21815401835016177
           ],
           "yaxis": "y"
          },
          {
           "alignmentgroup": "True",
           "hovertemplate": "Strategy=Risk Parity<br>Date=2021-09-30<br>Ticker=%{x}<br>Weight=%{y}<extra></extra>",
           "legendgroup": "Risk Parity",
           "marker": {
            "color": "#FFA15A",
            "pattern": {
             "shape": ""
            }
           },
           "name": "Risk Parity",
           "offsetgroup": "Risk Parity",
           "orientation": "v",
           "showlegend": true,
           "textposition": "auto",
           "type": "bar",
           "x": [
            "AAPL",
            "WMT",
            "TSLA",
            "KO",
            "BAC",
            "T",
            "META",
            "NFLX",
            "CRM"
           ],
           "xaxis": "x",
           "y": [
            0.08948233684399222,
            0.08863403132951074,
            0.089281502432775,
            0.14352470585556698,
            0.09701115519303684,
            0.11191703149883428,
            0.14041585687669558,
            0.06484959254459796,
            0.1748837874249904
           ],
           "yaxis": "y"
          }
         ],
         "name": "2021-09-30"
        },
        {
         "data": [
          {
           "alignmentgroup": "True",
           "hovertemplate": "Strategy=Equal Weight<br>Date=2021-10-31<br>Ticker=%{x}<br>Weight=%{y}<extra></extra>",
           "legendgroup": "Equal Weight",
           "marker": {
            "color": "#636efa",
            "pattern": {
             "shape": ""
            }
           },
           "name": "Equal Weight",
           "offsetgroup": "Equal Weight",
           "orientation": "v",
           "showlegend": true,
           "textposition": "auto",
           "type": "bar",
           "x": [
            "AAPL",
            "WMT",
            "TSLA",
            "KO",
            "BAC",
            "T",
            "META",
            "NFLX",
            "CRM"
           ],
           "xaxis": "x",
           "y": [
            0.1111111111111111,
            0.1111111111111111,
            0.1111111111111111,
            0.1111111111111111,
            0.1111111111111111,
            0.1111111111111111,
            0.1111111111111111,
            0.1111111111111111,
            0.1111111111111111
           ],
           "yaxis": "y"
          },
          {
           "alignmentgroup": "True",
           "hovertemplate": "Strategy=Inverse Vol<br>Date=2021-10-31<br>Ticker=%{x}<br>Weight=%{y}<extra></extra>",
           "legendgroup": "Inverse Vol",
           "marker": {
            "color": "#EF553B",
            "pattern": {
             "shape": ""
            }
           },
           "name": "Inverse Vol",
           "offsetgroup": "Inverse Vol",
           "orientation": "v",
           "showlegend": true,
           "textposition": "auto",
           "type": "bar",
           "x": [
            "AAPL",
            "WMT",
            "TSLA",
            "KO",
            "BAC",
            "T",
            "META",
            "NFLX",
            "CRM"
           ],
           "xaxis": "x",
           "y": [
            0.10639320611036385,
            0.08736910988199101,
            0.0956492227614139,
            0.1486105361699733,
            0.1052474289068629,
            0.10088651319776104,
            0.1424985118730396,
            0.054515345241395674,
            0.15883012585719875
           ],
           "yaxis": "y"
          },
          {
           "alignmentgroup": "True",
           "hovertemplate": "Strategy=GMV<br>Date=2021-10-31<br>Ticker=%{x}<br>Weight=%{y}<extra></extra>",
           "legendgroup": "GMV",
           "marker": {
            "color": "#00cc96",
            "pattern": {
             "shape": ""
            }
           },
           "name": "GMV",
           "offsetgroup": "GMV",
           "orientation": "v",
           "showlegend": true,
           "textposition": "auto",
           "type": "bar",
           "x": [
            "AAPL",
            "WMT",
            "TSLA",
            "KO",
            "BAC",
            "T",
            "META",
            "NFLX",
            "CRM"
           ],
           "xaxis": "x",
           "y": [
            0,
            0,
            0,
            0.2720660938276778,
            0.023212349587530063,
            0.11008494957967226,
            0.17469576899888156,
            7.135737029279112e-18,
            0.4199408380062384
           ],
           "yaxis": "y"
          },
          {
           "alignmentgroup": "True",
           "hovertemplate": "Strategy=Markowitz<br>Date=2021-10-31<br>Ticker=%{x}<br>Weight=%{y}<extra></extra>",
           "legendgroup": "Markowitz",
           "marker": {
            "color": "#ab63fa",
            "pattern": {
             "shape": ""
            }
           },
           "name": "Markowitz",
           "offsetgroup": "Markowitz",
           "orientation": "v",
           "showlegend": true,
           "textposition": "auto",
           "type": "bar",
           "x": [
            "AAPL",
            "WMT",
            "TSLA",
            "KO",
            "BAC",
            "T",
            "META",
            "NFLX",
            "CRM"
           ],
           "xaxis": "x",
           "y": [
            0.03476510974712894,
            7.741203511546502e-17,
            4.618701254788249e-17,
            0,
            2.7755575615628914e-17,
            0.1842529267371032,
            0,
            0.6848928380324597,
            0.09608912548330793
           ],
           "yaxis": "y"
          },
          {
           "alignmentgroup": "True",
           "hovertemplate": "Strategy=Risk Parity<br>Date=2021-10-31<br>Ticker=%{x}<br>Weight=%{y}<extra></extra>",
           "legendgroup": "Risk Parity",
           "marker": {
            "color": "#FFA15A",
            "pattern": {
             "shape": ""
            }
           },
           "name": "Risk Parity",
           "offsetgroup": "Risk Parity",
           "orientation": "v",
           "showlegend": true,
           "textposition": "auto",
           "type": "bar",
           "x": [
            "AAPL",
            "WMT",
            "TSLA",
            "KO",
            "BAC",
            "T",
            "META",
            "NFLX",
            "CRM"
           ],
           "xaxis": "x",
           "y": [
            0.08928497573029902,
            0.08843785361598609,
            0.08902179216104879,
            0.14379709311340755,
            0.09701331320116788,
            0.1118859555556042,
            0.14069652083557535,
            0.06490103392787408,
            0.174961461859037
           ],
           "yaxis": "y"
          }
         ],
         "name": "2021-10-31"
        },
        {
         "data": [
          {
           "alignmentgroup": "True",
           "hovertemplate": "Strategy=Equal Weight<br>Date=2021-11-30<br>Ticker=%{x}<br>Weight=%{y}<extra></extra>",
           "legendgroup": "Equal Weight",
           "marker": {
            "color": "#636efa",
            "pattern": {
             "shape": ""
            }
           },
           "name": "Equal Weight",
           "offsetgroup": "Equal Weight",
           "orientation": "v",
           "showlegend": true,
           "textposition": "auto",
           "type": "bar",
           "x": [
            "AAPL",
            "WMT",
            "TSLA",
            "KO",
            "BAC",
            "T",
            "META",
            "NFLX",
            "CRM"
           ],
           "xaxis": "x",
           "y": [
            0.1111111111111111,
            0.1111111111111111,
            0.1111111111111111,
            0.1111111111111111,
            0.1111111111111111,
            0.1111111111111111,
            0.1111111111111111,
            0.1111111111111111,
            0.1111111111111111
           ],
           "yaxis": "y"
          },
          {
           "alignmentgroup": "True",
           "hovertemplate": "Strategy=Inverse Vol<br>Date=2021-11-30<br>Ticker=%{x}<br>Weight=%{y}<extra></extra>",
           "legendgroup": "Inverse Vol",
           "marker": {
            "color": "#EF553B",
            "pattern": {
             "shape": ""
            }
           },
           "name": "Inverse Vol",
           "offsetgroup": "Inverse Vol",
           "orientation": "v",
           "showlegend": true,
           "textposition": "auto",
           "type": "bar",
           "x": [
            "AAPL",
            "WMT",
            "TSLA",
            "KO",
            "BAC",
            "T",
            "META",
            "NFLX",
            "CRM"
           ],
           "xaxis": "x",
           "y": [
            0.10672578644939007,
            0.0875785181749042,
            0.09616725657970138,
            0.14928596605955818,
            0.10421709693015753,
            0.1005299549141407,
            0.1420829669171151,
            0.05445741458086457,
            0.15895503939416836
           ],
           "yaxis": "y"
          },
          {
           "alignmentgroup": "True",
           "hovertemplate": "Strategy=GMV<br>Date=2021-11-30<br>Ticker=%{x}<br>Weight=%{y}<extra></extra>",
           "legendgroup": "GMV",
           "marker": {
            "color": "#00cc96",
            "pattern": {
             "shape": ""
            }
           },
           "name": "GMV",
           "offsetgroup": "GMV",
           "orientation": "v",
           "showlegend": true,
           "textposition": "auto",
           "type": "bar",
           "x": [
            "AAPL",
            "WMT",
            "TSLA",
            "KO",
            "BAC",
            "T",
            "META",
            "NFLX",
            "CRM"
           ],
           "xaxis": "x",
           "y": [
            0,
            0,
            0,
            0.2832493726970856,
            0.02129956411188488,
            0.10951930837768811,
            0.16772951030115782,
            2.5698696792291753e-18,
            0.4182022445121836
           ],
           "yaxis": "y"
          },
          {
           "alignmentgroup": "True",
           "hovertemplate": "Strategy=Markowitz<br>Date=2021-11-30<br>Ticker=%{x}<br>Weight=%{y}<extra></extra>",
           "legendgroup": "Markowitz",
           "marker": {
            "color": "#ab63fa",
            "pattern": {
             "shape": ""
            }
           },
           "name": "Markowitz",
           "offsetgroup": "Markowitz",
           "orientation": "v",
           "showlegend": true,
           "textposition": "auto",
           "type": "bar",
           "x": [
            "AAPL",
            "WMT",
            "TSLA",
            "KO",
            "BAC",
            "T",
            "META",
            "NFLX",
            "CRM"
           ],
           "xaxis": "x",
           "y": [
            2.6165412429316832e-17,
            0.00032227602712382584,
            0,
            0,
            0,
            0.1878624541103203,
            9.945331644665237e-17,
            0.6407749081522656,
            0.1710403617102903
           ],
           "yaxis": "y"
          },
          {
           "alignmentgroup": "True",
           "hovertemplate": "Strategy=Risk Parity<br>Date=2021-11-30<br>Ticker=%{x}<br>Weight=%{y}<extra></extra>",
           "legendgroup": "Risk Parity",
           "marker": {
            "color": "#FFA15A",
            "pattern": {
             "shape": ""
            }
           },
           "name": "Risk Parity",
           "offsetgroup": "Risk Parity",
           "orientation": "v",
           "showlegend": true,
           "textposition": "auto",
           "type": "bar",
           "x": [
            "AAPL",
            "WMT",
            "TSLA",
            "KO",
            "BAC",
            "T",
            "META",
            "NFLX",
            "CRM"
           ],
           "xaxis": "x",
           "y": [
            0.08896098825297348,
            0.08852402023840733,
            0.08966061135800482,
            0.1451063357601638,
            0.09689133177092053,
            0.11128142197772697,
            0.1409927475712207,
            0.06473497526623428,
            0.17384756780434804
           ],
           "yaxis": "y"
          }
         ],
         "name": "2021-11-30"
        },
        {
         "data": [
          {
           "alignmentgroup": "True",
           "hovertemplate": "Strategy=Equal Weight<br>Date=2021-12-31<br>Ticker=%{x}<br>Weight=%{y}<extra></extra>",
           "legendgroup": "Equal Weight",
           "marker": {
            "color": "#636efa",
            "pattern": {
             "shape": ""
            }
           },
           "name": "Equal Weight",
           "offsetgroup": "Equal Weight",
           "orientation": "v",
           "showlegend": true,
           "textposition": "auto",
           "type": "bar",
           "x": [
            "AAPL",
            "WMT",
            "TSLA",
            "KO",
            "BAC",
            "T",
            "META",
            "NFLX",
            "CRM"
           ],
           "xaxis": "x",
           "y": [
            0.1111111111111111,
            0.1111111111111111,
            0.1111111111111111,
            0.1111111111111111,
            0.1111111111111111,
            0.1111111111111111,
            0.1111111111111111,
            0.1111111111111111,
            0.1111111111111111
           ],
           "yaxis": "y"
          },
          {
           "alignmentgroup": "True",
           "hovertemplate": "Strategy=Inverse Vol<br>Date=2021-12-31<br>Ticker=%{x}<br>Weight=%{y}<extra></extra>",
           "legendgroup": "Inverse Vol",
           "marker": {
            "color": "#EF553B",
            "pattern": {
             "shape": ""
            }
           },
           "name": "Inverse Vol",
           "offsetgroup": "Inverse Vol",
           "orientation": "v",
           "showlegend": true,
           "textposition": "auto",
           "type": "bar",
           "x": [
            "AAPL",
            "WMT",
            "TSLA",
            "KO",
            "BAC",
            "T",
            "META",
            "NFLX",
            "CRM"
           ],
           "xaxis": "x",
           "y": [
            0.10697938820423614,
            0.08795795945830741,
            0.09620848692052276,
            0.14938009347290718,
            0.10402855375561518,
            0.1003806275224371,
            0.14181470818168923,
            0.054011103813567225,
            0.15923907867071782
           ],
           "yaxis": "y"
          },
          {
           "alignmentgroup": "True",
           "hovertemplate": "Strategy=GMV<br>Date=2021-12-31<br>Ticker=%{x}<br>Weight=%{y}<extra></extra>",
           "legendgroup": "GMV",
           "marker": {
            "color": "#00cc96",
            "pattern": {
             "shape": ""
            }
           },
           "name": "GMV",
           "offsetgroup": "GMV",
           "orientation": "v",
           "showlegend": true,
           "textposition": "auto",
           "type": "bar",
           "x": [
            "AAPL",
            "WMT",
            "TSLA",
            "KO",
            "BAC",
            "T",
            "META",
            "NFLX",
            "CRM"
           ],
           "xaxis": "x",
           "y": [
            6.595563215953485e-19,
            2.3915947407686972e-18,
            0,
            0.2858050563915734,
            0.019734810026735675,
            0.11203129467263251,
            0.1629176699952986,
            5.072095163346156e-19,
            0.4195111689137598
           ],
           "yaxis": "y"
          },
          {
           "alignmentgroup": "True",
           "hovertemplate": "Strategy=Markowitz<br>Date=2021-12-31<br>Ticker=%{x}<br>Weight=%{y}<extra></extra>",
           "legendgroup": "Markowitz",
           "marker": {
            "color": "#ab63fa",
            "pattern": {
             "shape": ""
            }
           },
           "name": "Markowitz",
           "offsetgroup": "Markowitz",
           "orientation": "v",
           "showlegend": true,
           "textposition": "auto",
           "type": "bar",
           "x": [
            "AAPL",
            "WMT",
            "TSLA",
            "KO",
            "BAC",
            "T",
            "META",
            "NFLX",
            "CRM"
           ],
           "xaxis": "x",
           "y": [
            0.1939444395362698,
            0,
            4.466912950640278e-17,
            2.2822455730819868e-17,
            0,
            0.1273738850908396,
            1.6382294826255972e-16,
            0.6786816753728905,
            0
           ],
           "yaxis": "y"
          },
          {
           "alignmentgroup": "True",
           "hovertemplate": "Strategy=Risk Parity<br>Date=2021-12-31<br>Ticker=%{x}<br>Weight=%{y}<extra></extra>",
           "legendgroup": "Risk Parity",
           "marker": {
            "color": "#FFA15A",
            "pattern": {
             "shape": ""
            }
           },
           "name": "Risk Parity",
           "offsetgroup": "Risk Parity",
           "orientation": "v",
           "showlegend": true,
           "textposition": "auto",
           "type": "bar",
           "x": [
            "AAPL",
            "WMT",
            "TSLA",
            "KO",
            "BAC",
            "T",
            "META",
            "NFLX",
            "CRM"
           ],
           "xaxis": "x",
           "y": [
            0.08987498844499368,
            0.088681456353699,
            0.08951049063482328,
            0.14446084376331841,
            0.09652138676531828,
            0.11157693460077543,
            0.1405292055568054,
            0.06457375001375519,
            0.1742709438665114
           ],
           "yaxis": "y"
          }
         ],
         "name": "2021-12-31"
        }
       ],
       "layout": {
        "barmode": "group",
        "legend": {
         "title": {
          "text": "Strategy"
         },
         "tracegroupgap": 0
        },
        "sliders": [
         {
          "active": 0,
          "currentvalue": {
           "prefix": "Date="
          },
          "len": 0.9,
          "pad": {
           "b": 10,
           "t": 60
          },
          "steps": [
           {
            "args": [
             [
              "2020-02-29"
             ],
             {
              "frame": {
               "duration": 0,
               "redraw": true
              },
              "fromcurrent": true,
              "mode": "immediate",
              "transition": {
               "duration": 0,
               "easing": "linear"
              }
             }
            ],
            "label": "2020-02-29",
            "method": "animate"
           },
           {
            "args": [
             [
              "2020-03-31"
             ],
             {
              "frame": {
               "duration": 0,
               "redraw": true
              },
              "fromcurrent": true,
              "mode": "immediate",
              "transition": {
               "duration": 0,
               "easing": "linear"
              }
             }
            ],
            "label": "2020-03-31",
            "method": "animate"
           },
           {
            "args": [
             [
              "2020-04-30"
             ],
             {
              "frame": {
               "duration": 0,
               "redraw": true
              },
              "fromcurrent": true,
              "mode": "immediate",
              "transition": {
               "duration": 0,
               "easing": "linear"
              }
             }
            ],
            "label": "2020-04-30",
            "method": "animate"
           },
           {
            "args": [
             [
              "2020-05-31"
             ],
             {
              "frame": {
               "duration": 0,
               "redraw": true
              },
              "fromcurrent": true,
              "mode": "immediate",
              "transition": {
               "duration": 0,
               "easing": "linear"
              }
             }
            ],
            "label": "2020-05-31",
            "method": "animate"
           },
           {
            "args": [
             [
              "2020-06-30"
             ],
             {
              "frame": {
               "duration": 0,
               "redraw": true
              },
              "fromcurrent": true,
              "mode": "immediate",
              "transition": {
               "duration": 0,
               "easing": "linear"
              }
             }
            ],
            "label": "2020-06-30",
            "method": "animate"
           },
           {
            "args": [
             [
              "2020-07-31"
             ],
             {
              "frame": {
               "duration": 0,
               "redraw": true
              },
              "fromcurrent": true,
              "mode": "immediate",
              "transition": {
               "duration": 0,
               "easing": "linear"
              }
             }
            ],
            "label": "2020-07-31",
            "method": "animate"
           },
           {
            "args": [
             [
              "2020-08-31"
             ],
             {
              "frame": {
               "duration": 0,
               "redraw": true
              },
              "fromcurrent": true,
              "mode": "immediate",
              "transition": {
               "duration": 0,
               "easing": "linear"
              }
             }
            ],
            "label": "2020-08-31",
            "method": "animate"
           },
           {
            "args": [
             [
              "2020-09-30"
             ],
             {
              "frame": {
               "duration": 0,
               "redraw": true
              },
              "fromcurrent": true,
              "mode": "immediate",
              "transition": {
               "duration": 0,
               "easing": "linear"
              }
             }
            ],
            "label": "2020-09-30",
            "method": "animate"
           },
           {
            "args": [
             [
              "2020-10-31"
             ],
             {
              "frame": {
               "duration": 0,
               "redraw": true
              },
              "fromcurrent": true,
              "mode": "immediate",
              "transition": {
               "duration": 0,
               "easing": "linear"
              }
             }
            ],
            "label": "2020-10-31",
            "method": "animate"
           },
           {
            "args": [
             [
              "2020-11-30"
             ],
             {
              "frame": {
               "duration": 0,
               "redraw": true
              },
              "fromcurrent": true,
              "mode": "immediate",
              "transition": {
               "duration": 0,
               "easing": "linear"
              }
             }
            ],
            "label": "2020-11-30",
            "method": "animate"
           },
           {
            "args": [
             [
              "2020-12-31"
             ],
             {
              "frame": {
               "duration": 0,
               "redraw": true
              },
              "fromcurrent": true,
              "mode": "immediate",
              "transition": {
               "duration": 0,
               "easing": "linear"
              }
             }
            ],
            "label": "2020-12-31",
            "method": "animate"
           },
           {
            "args": [
             [
              "2021-01-31"
             ],
             {
              "frame": {
               "duration": 0,
               "redraw": true
              },
              "fromcurrent": true,
              "mode": "immediate",
              "transition": {
               "duration": 0,
               "easing": "linear"
              }
             }
            ],
            "label": "2021-01-31",
            "method": "animate"
           },
           {
            "args": [
             [
              "2021-02-28"
             ],
             {
              "frame": {
               "duration": 0,
               "redraw": true
              },
              "fromcurrent": true,
              "mode": "immediate",
              "transition": {
               "duration": 0,
               "easing": "linear"
              }
             }
            ],
            "label": "2021-02-28",
            "method": "animate"
           },
           {
            "args": [
             [
              "2021-03-31"
             ],
             {
              "frame": {
               "duration": 0,
               "redraw": true
              },
              "fromcurrent": true,
              "mode": "immediate",
              "transition": {
               "duration": 0,
               "easing": "linear"
              }
             }
            ],
            "label": "2021-03-31",
            "method": "animate"
           },
           {
            "args": [
             [
              "2021-04-30"
             ],
             {
              "frame": {
               "duration": 0,
               "redraw": true
              },
              "fromcurrent": true,
              "mode": "immediate",
              "transition": {
               "duration": 0,
               "easing": "linear"
              }
             }
            ],
            "label": "2021-04-30",
            "method": "animate"
           },
           {
            "args": [
             [
              "2021-05-31"
             ],
             {
              "frame": {
               "duration": 0,
               "redraw": true
              },
              "fromcurrent": true,
              "mode": "immediate",
              "transition": {
               "duration": 0,
               "easing": "linear"
              }
             }
            ],
            "label": "2021-05-31",
            "method": "animate"
           },
           {
            "args": [
             [
              "2021-06-30"
             ],
             {
              "frame": {
               "duration": 0,
               "redraw": true
              },
              "fromcurrent": true,
              "mode": "immediate",
              "transition": {
               "duration": 0,
               "easing": "linear"
              }
             }
            ],
            "label": "2021-06-30",
            "method": "animate"
           },
           {
            "args": [
             [
              "2021-07-31"
             ],
             {
              "frame": {
               "duration": 0,
               "redraw": true
              },
              "fromcurrent": true,
              "mode": "immediate",
              "transition": {
               "duration": 0,
               "easing": "linear"
              }
             }
            ],
            "label": "2021-07-31",
            "method": "animate"
           },
           {
            "args": [
             [
              "2021-08-31"
             ],
             {
              "frame": {
               "duration": 0,
               "redraw": true
              },
              "fromcurrent": true,
              "mode": "immediate",
              "transition": {
               "duration": 0,
               "easing": "linear"
              }
             }
            ],
            "label": "2021-08-31",
            "method": "animate"
           },
           {
            "args": [
             [
              "2021-09-30"
             ],
             {
              "frame": {
               "duration": 0,
               "redraw": true
              },
              "fromcurrent": true,
              "mode": "immediate",
              "transition": {
               "duration": 0,
               "easing": "linear"
              }
             }
            ],
            "label": "2021-09-30",
            "method": "animate"
           },
           {
            "args": [
             [
              "2021-10-31"
             ],
             {
              "frame": {
               "duration": 0,
               "redraw": true
              },
              "fromcurrent": true,
              "mode": "immediate",
              "transition": {
               "duration": 0,
               "easing": "linear"
              }
             }
            ],
            "label": "2021-10-31",
            "method": "animate"
           },
           {
            "args": [
             [
              "2021-11-30"
             ],
             {
              "frame": {
               "duration": 0,
               "redraw": true
              },
              "fromcurrent": true,
              "mode": "immediate",
              "transition": {
               "duration": 0,
               "easing": "linear"
              }
             }
            ],
            "label": "2021-11-30",
            "method": "animate"
           },
           {
            "args": [
             [
              "2021-12-31"
             ],
             {
              "frame": {
               "duration": 0,
               "redraw": true
              },
              "fromcurrent": true,
              "mode": "immediate",
              "transition": {
               "duration": 0,
               "easing": "linear"
              }
             }
            ],
            "label": "2021-12-31",
            "method": "animate"
           }
          ],
          "x": 0.1,
          "xanchor": "left",
          "y": 0,
          "yanchor": "top"
         }
        ],
        "template": {
         "data": {
          "bar": [
           {
            "error_x": {
             "color": "#2a3f5f"
            },
            "error_y": {
             "color": "#2a3f5f"
            },
            "marker": {
             "line": {
              "color": "#E5ECF6",
              "width": 0.5
             },
             "pattern": {
              "fillmode": "overlay",
              "size": 10,
              "solidity": 0.2
             }
            },
            "type": "bar"
           }
          ],
          "barpolar": [
           {
            "marker": {
             "line": {
              "color": "#E5ECF6",
              "width": 0.5
             },
             "pattern": {
              "fillmode": "overlay",
              "size": 10,
              "solidity": 0.2
             }
            },
            "type": "barpolar"
           }
          ],
          "carpet": [
           {
            "aaxis": {
             "endlinecolor": "#2a3f5f",
             "gridcolor": "white",
             "linecolor": "white",
             "minorgridcolor": "white",
             "startlinecolor": "#2a3f5f"
            },
            "baxis": {
             "endlinecolor": "#2a3f5f",
             "gridcolor": "white",
             "linecolor": "white",
             "minorgridcolor": "white",
             "startlinecolor": "#2a3f5f"
            },
            "type": "carpet"
           }
          ],
          "choropleth": [
           {
            "colorbar": {
             "outlinewidth": 0,
             "ticks": ""
            },
            "type": "choropleth"
           }
          ],
          "contour": [
           {
            "colorbar": {
             "outlinewidth": 0,
             "ticks": ""
            },
            "colorscale": [
             [
              0,
              "#0d0887"
             ],
             [
              0.1111111111111111,
              "#46039f"
             ],
             [
              0.2222222222222222,
              "#7201a8"
             ],
             [
              0.3333333333333333,
              "#9c179e"
             ],
             [
              0.4444444444444444,
              "#bd3786"
             ],
             [
              0.5555555555555556,
              "#d8576b"
             ],
             [
              0.6666666666666666,
              "#ed7953"
             ],
             [
              0.7777777777777778,
              "#fb9f3a"
             ],
             [
              0.8888888888888888,
              "#fdca26"
             ],
             [
              1,
              "#f0f921"
             ]
            ],
            "type": "contour"
           }
          ],
          "contourcarpet": [
           {
            "colorbar": {
             "outlinewidth": 0,
             "ticks": ""
            },
            "type": "contourcarpet"
           }
          ],
          "heatmap": [
           {
            "colorbar": {
             "outlinewidth": 0,
             "ticks": ""
            },
            "colorscale": [
             [
              0,
              "#0d0887"
             ],
             [
              0.1111111111111111,
              "#46039f"
             ],
             [
              0.2222222222222222,
              "#7201a8"
             ],
             [
              0.3333333333333333,
              "#9c179e"
             ],
             [
              0.4444444444444444,
              "#bd3786"
             ],
             [
              0.5555555555555556,
              "#d8576b"
             ],
             [
              0.6666666666666666,
              "#ed7953"
             ],
             [
              0.7777777777777778,
              "#fb9f3a"
             ],
             [
              0.8888888888888888,
              "#fdca26"
             ],
             [
              1,
              "#f0f921"
             ]
            ],
            "type": "heatmap"
           }
          ],
          "histogram": [
           {
            "marker": {
             "pattern": {
              "fillmode": "overlay",
              "size": 10,
              "solidity": 0.2
             }
            },
            "type": "histogram"
           }
          ],
          "histogram2d": [
           {
            "colorbar": {
             "outlinewidth": 0,
             "ticks": ""
            },
            "colorscale": [
             [
              0,
              "#0d0887"
             ],
             [
              0.1111111111111111,
              "#46039f"
             ],
             [
              0.2222222222222222,
              "#7201a8"
             ],
             [
              0.3333333333333333,
              "#9c179e"
             ],
             [
              0.4444444444444444,
              "#bd3786"
             ],
             [
              0.5555555555555556,
              "#d8576b"
             ],
             [
              0.6666666666666666,
              "#ed7953"
             ],
             [
              0.7777777777777778,
              "#fb9f3a"
             ],
             [
              0.8888888888888888,
              "#fdca26"
             ],
             [
              1,
              "#f0f921"
             ]
            ],
            "type": "histogram2d"
           }
          ],
          "histogram2dcontour": [
           {
            "colorbar": {
             "outlinewidth": 0,
             "ticks": ""
            },
            "colorscale": [
             [
              0,
              "#0d0887"
             ],
             [
              0.1111111111111111,
              "#46039f"
             ],
             [
              0.2222222222222222,
              "#7201a8"
             ],
             [
              0.3333333333333333,
              "#9c179e"
             ],
             [
              0.4444444444444444,
              "#bd3786"
             ],
             [
              0.5555555555555556,
              "#d8576b"
             ],
             [
              0.6666666666666666,
              "#ed7953"
             ],
             [
              0.7777777777777778,
              "#fb9f3a"
             ],
             [
              0.8888888888888888,
              "#fdca26"
             ],
             [
              1,
              "#f0f921"
             ]
            ],
            "type": "histogram2dcontour"
           }
          ],
          "mesh3d": [
           {
            "colorbar": {
             "outlinewidth": 0,
             "ticks": ""
            },
            "type": "mesh3d"
           }
          ],
          "parcoords": [
           {
            "line": {
             "colorbar": {
              "outlinewidth": 0,
              "ticks": ""
             }
            },
            "type": "parcoords"
           }
          ],
          "pie": [
           {
            "automargin": true,
            "type": "pie"
           }
          ],
          "scatter": [
           {
            "fillpattern": {
             "fillmode": "overlay",
             "size": 10,
             "solidity": 0.2
            },
            "type": "scatter"
           }
          ],
          "scatter3d": [
           {
            "line": {
             "colorbar": {
              "outlinewidth": 0,
              "ticks": ""
             }
            },
            "marker": {
             "colorbar": {
              "outlinewidth": 0,
              "ticks": ""
             }
            },
            "type": "scatter3d"
           }
          ],
          "scattercarpet": [
           {
            "marker": {
             "colorbar": {
              "outlinewidth": 0,
              "ticks": ""
             }
            },
            "type": "scattercarpet"
           }
          ],
          "scattergeo": [
           {
            "marker": {
             "colorbar": {
              "outlinewidth": 0,
              "ticks": ""
             }
            },
            "type": "scattergeo"
           }
          ],
          "scattergl": [
           {
            "marker": {
             "colorbar": {
              "outlinewidth": 0,
              "ticks": ""
             }
            },
            "type": "scattergl"
           }
          ],
          "scattermap": [
           {
            "marker": {
             "colorbar": {
              "outlinewidth": 0,
              "ticks": ""
             }
            },
            "type": "scattermap"
           }
          ],
          "scattermapbox": [
           {
            "marker": {
             "colorbar": {
              "outlinewidth": 0,
              "ticks": ""
             }
            },
            "type": "scattermapbox"
           }
          ],
          "scatterpolar": [
           {
            "marker": {
             "colorbar": {
              "outlinewidth": 0,
              "ticks": ""
             }
            },
            "type": "scatterpolar"
           }
          ],
          "scatterpolargl": [
           {
            "marker": {
             "colorbar": {
              "outlinewidth": 0,
              "ticks": ""
             }
            },
            "type": "scatterpolargl"
           }
          ],
          "scatterternary": [
           {
            "marker": {
             "colorbar": {
              "outlinewidth": 0,
              "ticks": ""
             }
            },
            "type": "scatterternary"
           }
          ],
          "surface": [
           {
            "colorbar": {
             "outlinewidth": 0,
             "ticks": ""
            },
            "colorscale": [
             [
              0,
              "#0d0887"
             ],
             [
              0.1111111111111111,
              "#46039f"
             ],
             [
              0.2222222222222222,
              "#7201a8"
             ],
             [
              0.3333333333333333,
              "#9c179e"
             ],
             [
              0.4444444444444444,
              "#bd3786"
             ],
             [
              0.5555555555555556,
              "#d8576b"
             ],
             [
              0.6666666666666666,
              "#ed7953"
             ],
             [
              0.7777777777777778,
              "#fb9f3a"
             ],
             [
              0.8888888888888888,
              "#fdca26"
             ],
             [
              1,
              "#f0f921"
             ]
            ],
            "type": "surface"
           }
          ],
          "table": [
           {
            "cells": {
             "fill": {
              "color": "#EBF0F8"
             },
             "line": {
              "color": "white"
             }
            },
            "header": {
             "fill": {
              "color": "#C8D4E3"
             },
             "line": {
              "color": "white"
             }
            },
            "type": "table"
           }
          ]
         },
         "layout": {
          "annotationdefaults": {
           "arrowcolor": "#2a3f5f",
           "arrowhead": 0,
           "arrowwidth": 1
          },
          "autotypenumbers": "strict",
          "coloraxis": {
           "colorbar": {
            "outlinewidth": 0,
            "ticks": ""
           }
          },
          "colorscale": {
           "diverging": [
            [
             0,
             "#8e0152"
            ],
            [
             0.1,
             "#c51b7d"
            ],
            [
             0.2,
             "#de77ae"
            ],
            [
             0.3,
             "#f1b6da"
            ],
            [
             0.4,
             "#fde0ef"
            ],
            [
             0.5,
             "#f7f7f7"
            ],
            [
             0.6,
             "#e6f5d0"
            ],
            [
             0.7,
             "#b8e186"
            ],
            [
             0.8,
             "#7fbc41"
            ],
            [
             0.9,
             "#4d9221"
            ],
            [
             1,
             "#276419"
            ]
           ],
           "sequential": [
            [
             0,
             "#0d0887"
            ],
            [
             0.1111111111111111,
             "#46039f"
            ],
            [
             0.2222222222222222,
             "#7201a8"
            ],
            [
             0.3333333333333333,
             "#9c179e"
            ],
            [
             0.4444444444444444,
             "#bd3786"
            ],
            [
             0.5555555555555556,
             "#d8576b"
            ],
            [
             0.6666666666666666,
             "#ed7953"
            ],
            [
             0.7777777777777778,
             "#fb9f3a"
            ],
            [
             0.8888888888888888,
             "#fdca26"
            ],
            [
             1,
             "#f0f921"
            ]
           ],
           "sequentialminus": [
            [
             0,
             "#0d0887"
            ],
            [
             0.1111111111111111,
             "#46039f"
            ],
            [
             0.2222222222222222,
             "#7201a8"
            ],
            [
             0.3333333333333333,
             "#9c179e"
            ],
            [
             0.4444444444444444,
             "#bd3786"
            ],
            [
             0.5555555555555556,
             "#d8576b"
            ],
            [
             0.6666666666666666,
             "#ed7953"
            ],
            [
             0.7777777777777778,
             "#fb9f3a"
            ],
            [
             0.8888888888888888,
             "#fdca26"
            ],
            [
             1,
             "#f0f921"
            ]
           ]
          },
          "colorway": [
           "#636efa",
           "#EF553B",
           "#00cc96",
           "#ab63fa",
           "#FFA15A",
           "#19d3f3",
           "#FF6692",
           "#B6E880",
           "#FF97FF",
           "#FECB52"
          ],
          "font": {
           "color": "#2a3f5f"
          },
          "geo": {
           "bgcolor": "white",
           "lakecolor": "white",
           "landcolor": "#E5ECF6",
           "showlakes": true,
           "showland": true,
           "subunitcolor": "white"
          },
          "hoverlabel": {
           "align": "left"
          },
          "hovermode": "closest",
          "mapbox": {
           "style": "light"
          },
          "paper_bgcolor": "white",
          "plot_bgcolor": "#E5ECF6",
          "polar": {
           "angularaxis": {
            "gridcolor": "white",
            "linecolor": "white",
            "ticks": ""
           },
           "bgcolor": "#E5ECF6",
           "radialaxis": {
            "gridcolor": "white",
            "linecolor": "white",
            "ticks": ""
           }
          },
          "scene": {
           "xaxis": {
            "backgroundcolor": "#E5ECF6",
            "gridcolor": "white",
            "gridwidth": 2,
            "linecolor": "white",
            "showbackground": true,
            "ticks": "",
            "zerolinecolor": "white"
           },
           "yaxis": {
            "backgroundcolor": "#E5ECF6",
            "gridcolor": "white",
            "gridwidth": 2,
            "linecolor": "white",
            "showbackground": true,
            "ticks": "",
            "zerolinecolor": "white"
           },
           "zaxis": {
            "backgroundcolor": "#E5ECF6",
            "gridcolor": "white",
            "gridwidth": 2,
            "linecolor": "white",
            "showbackground": true,
            "ticks": "",
            "zerolinecolor": "white"
           }
          },
          "shapedefaults": {
           "line": {
            "color": "#2a3f5f"
           }
          },
          "ternary": {
           "aaxis": {
            "gridcolor": "white",
            "linecolor": "white",
            "ticks": ""
           },
           "baxis": {
            "gridcolor": "white",
            "linecolor": "white",
            "ticks": ""
           },
           "bgcolor": "#E5ECF6",
           "caxis": {
            "gridcolor": "white",
            "linecolor": "white",
            "ticks": ""
           }
          },
          "title": {
           "x": 0.05
          },
          "xaxis": {
           "automargin": true,
           "gridcolor": "white",
           "linecolor": "white",
           "ticks": "",
           "title": {
            "standoff": 15
           },
           "zerolinecolor": "white",
           "zerolinewidth": 2
          },
          "yaxis": {
           "automargin": true,
           "gridcolor": "white",
           "linecolor": "white",
           "ticks": "",
           "title": {
            "standoff": 15
           },
           "zerolinecolor": "white",
           "zerolinewidth": 2
          }
         }
        },
        "title": {
         "text": "Asset Weights Over Time (All Strategies)"
        },
        "updatemenus": [
         {
          "buttons": [
           {
            "args": [
             null,
             {
              "frame": {
               "duration": 500,
               "redraw": true
              },
              "fromcurrent": true,
              "mode": "immediate",
              "transition": {
               "duration": 500,
               "easing": "linear"
              }
             }
            ],
            "label": "&#9654;",
            "method": "animate"
           },
           {
            "args": [
             [
              null
             ],
             {
              "frame": {
               "duration": 0,
               "redraw": true
              },
              "fromcurrent": true,
              "mode": "immediate",
              "transition": {
               "duration": 0,
               "easing": "linear"
              }
             }
            ],
            "label": "&#9724;",
            "method": "animate"
           }
          ],
          "direction": "left",
          "pad": {
           "r": 10,
           "t": 70
          },
          "showactive": false,
          "type": "buttons",
          "x": 0.1,
          "xanchor": "right",
          "y": 0,
          "yanchor": "top"
         }
        ],
        "xaxis": {
         "anchor": "y",
         "domain": [
          0,
          1
         ],
         "tickangle": 45,
         "title": {
          "text": "Ticker"
         }
        },
        "yaxis": {
         "anchor": "x",
         "domain": [
          0,
          1
         ],
         "range": [
          0,
          1
         ],
         "title": {
          "text": "Weight"
         }
        }
       }
      }
     },
     "metadata": {},
     "output_type": "display_data"
    }
   ],
   "source": [
    "# portfolio_rebalance_animation.py\n",
    "\n",
    "import yfinance as yf\n",
    "import pandas as pd\n",
    "import numpy as np\n",
    "import plotly.express as px\n",
    "from scipy.optimize import minimize\n",
    "\n",
    "# === Configuration ===\n",
    "tickers = ['AAPL', 'WMT', 'TSLA', 'KO', 'BAC', 'T', 'META', 'NFLX', 'CRM']\n",
    "start_date = '2020-01-01'\n",
    "end_date = '2022-01-01'\n",
    "\n",
    "# === Download Price Data ===\n",
    "prices = yf.download(tickers, start=start_date, end=end_date)['Close'].dropna()\n",
    "\n",
    "# === Strategy Functions ===\n",
    "def equal_weight(returns, cov):\n",
    "    return np.repeat(1 / returns.shape[1], returns.shape[1])\n",
    "\n",
    "def inv_vol_weight(returns, cov):\n",
    "    vol = returns.std()\n",
    "    w = 1 / vol\n",
    "    return (w / w.sum()).values\n",
    "\n",
    "def gmv_weight(returns, cov):\n",
    "    def objective(w): return w.T @ cov @ w\n",
    "    constraints = [{'type': 'eq', 'fun': lambda w: np.sum(w) - 1}]\n",
    "    bounds = [(0, 1)] * len(cov)\n",
    "    result = minimize(objective, np.ones(len(cov)) / len(cov), bounds=bounds, constraints=constraints)\n",
    "    return result.x\n",
    "\n",
    "def markowitz_weight(returns, cov):\n",
    "    mean_ret = returns.mean() * 252\n",
    "    def objective(w): return -((w @ mean_ret) / np.sqrt(w.T @ cov @ w))\n",
    "    constraints = [{'type': 'eq', 'fun': lambda w: np.sum(w) - 1}]\n",
    "    bounds = [(0, 1)] * len(cov)\n",
    "    result = minimize(objective, np.ones(len(cov)) / len(cov), bounds=bounds, constraints=constraints)\n",
    "    return result.x\n",
    "\n",
    "def risk_parity_weight(returns, cov):\n",
    "    def risk_contrib(w):\n",
    "        total = w @ cov @ w\n",
    "        return w * (cov @ w) / total\n",
    "    def objective(w):\n",
    "        rc = risk_contrib(w)\n",
    "        return np.sum((rc - rc.mean()) ** 2)\n",
    "    constraints = [{'type': 'eq', 'fun': lambda w: np.sum(w) - 1}]\n",
    "    bounds = [(0, 1)] * len(cov)\n",
    "    result = minimize(objective, np.ones(len(cov)) / len(cov), bounds=bounds, constraints=constraints)\n",
    "    return result.x\n",
    "\n",
    "# === Monthly Rebalancing Simulator ===\n",
    "def rebalance_monthly(prices, strategy_func):\n",
    "    monthly_returns = prices.pct_change().resample('ME').apply(lambda x: (1 + x).prod() - 1).dropna()\n",
    "    dates = monthly_returns.index\n",
    "    port_returns = []\n",
    "    weights_over_time = []\n",
    "    drawdowns = []\n",
    "    risk_contribs = []\n",
    "    cum_value = 1\n",
    "    hwm = 1\n",
    "\n",
    "    for i in range(len(dates) - 1):\n",
    "        returns_window = prices[:dates[i]].pct_change().dropna()\n",
    "        cov = returns_window.cov() * 252\n",
    "        weights = strategy_func(returns_window, cov)\n",
    "        weights_over_time.append((dates[i + 1], weights))\n",
    "\n",
    "        month_ret = monthly_returns.iloc[i + 1]\n",
    "        ret = weights @ month_ret.values\n",
    "        cum_value *= (1 + ret)\n",
    "        hwm = max(hwm, cum_value)\n",
    "        drawdown = (hwm - cum_value) / hwm\n",
    "\n",
    "        port_returns.append((dates[i + 1], cum_value))\n",
    "        drawdowns.append((dates[i + 1], drawdown))\n",
    "\n",
    "        rc = weights * (cov @ weights)\n",
    "        rc /= rc.sum()\n",
    "        risk_contribs.append((dates[i + 1], rc))\n",
    "\n",
    "    return (\n",
    "        pd.DataFrame(port_returns, columns=[\"Date\", \"Value\"]).set_index(\"Date\"),\n",
    "        pd.DataFrame(weights_over_time, columns=[\"Date\", \"Weights\"]).set_index(\"Date\"),\n",
    "        pd.DataFrame(drawdowns, columns=[\"Date\", \"Drawdown\"]).set_index(\"Date\"),\n",
    "        pd.DataFrame(risk_contribs, columns=[\"Date\", \"RiskContrib\"]).set_index(\"Date\")\n",
    "    )\n",
    "\n",
    "# === Animate Portfolio Metrics Over Time ===\n",
    "def animate_metric(all_data, value_col, title, y_label):\n",
    "    df = pd.concat(all_data, names=[\"Strategy\", \"Date\"]).reset_index()\n",
    "    fig = px.line(df, x=\"Date\", y=value_col, color=\"Strategy\",\n",
    "                  title=title, labels={value_col: y_label, \"Date\": \"Date\"})\n",
    "    fig.show()\n",
    "\n",
    "def animate_weights(all_weights_df, title=\"Portfolio Weights Over Time\"):\n",
    "    df = pd.concat(all_weights_df, names=[\"Strategy\", \"Date\"])\n",
    "    df = df.reset_index().explode(\"Weights\")\n",
    "    df[\"Ticker\"] = tickers * (len(df) // len(tickers))\n",
    "    df[\"Weight\"] = df[\"Weights\"]\n",
    "    df.drop(columns=\"Weights\", inplace=True)\n",
    "\n",
    "    fig = px.bar(df, x=\"Ticker\", y=\"Weight\", animation_frame=df[\"Date\"].astype(str),\n",
    "                 title=title, range_y=[0, 1], color=\"Strategy\", barmode=\"group\")\n",
    "    fig.update_layout(xaxis_tickangle=45)\n",
    "    fig.show()\n",
    "\n",
    "# === Run the Simulation ===\n",
    "if __name__ == \"__main__\":\n",
    "    strategies = {\n",
    "        \"Equal Weight\": equal_weight,\n",
    "        \"Inverse Vol\": inv_vol_weight,\n",
    "        \"GMV\": gmv_weight,\n",
    "        \"Markowitz\": markowitz_weight,\n",
    "        \"Risk Parity\": risk_parity_weight\n",
    "    }\n",
    "\n",
    "    all_weights = {}\n",
    "    all_returns = {}\n",
    "    all_drawdowns = {}\n",
    "    all_risk_contribs = {}\n",
    "\n",
    "    for name, func in strategies.items():\n",
    "        returns_df, weights_df, dd_df, rc_df = rebalance_monthly(prices, func)\n",
    "        all_returns[name] = returns_df.rename(columns={\"Value\": \"Cumulative Return\"})\n",
    "        all_weights[name] = weights_df\n",
    "        all_drawdowns[name] = dd_df.rename(columns={\"Drawdown\": \"Drawdown\"})\n",
    "        all_risk_contribs[name] = rc_df\n",
    "\n",
    "    animate_weights(all_weights, title=\"Asset Weights Over Time (All Strategies)\")\n",
    "    # animate_metric(all_returns, value_col=\"Cumulative Return\", title=\"Cumulative Returns Over Time\", y_label=\"Growth of $1\")\n",
    "    # animate_metric(all_drawdowns, value_col=\"Drawdown\", title=\"Drawdowns Over Time\", y_label=\"Drawdown\")\n"
   ]
  },
  {
   "cell_type": "code",
   "execution_count": null,
   "metadata": {},
   "outputs": [],
   "source": []
  }
 ],
 "metadata": {
  "kernelspec": {
   "display_name": "Python 3",
   "language": "python",
   "name": "python3"
  },
  "language_info": {
   "codemirror_mode": {
    "name": "ipython",
    "version": 3
   },
   "file_extension": ".py",
   "mimetype": "text/x-python",
   "name": "python",
   "nbconvert_exporter": "python",
   "pygments_lexer": "ipython3",
   "version": "3.9.19"
  }
 },
 "nbformat": 4,
 "nbformat_minor": 2
}
