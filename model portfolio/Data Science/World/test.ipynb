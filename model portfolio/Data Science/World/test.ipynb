{
 "cells": [
  {
   "cell_type": "code",
   "execution_count": 5,
   "id": "46ffad70",
   "metadata": {},
   "outputs": [
    {
     "name": "stderr",
     "output_type": "stream",
     "text": [
      "<>:3: SyntaxWarning:\n",
      "\n",
      "invalid escape sequence '\\D'\n",
      "\n",
      "<>:3: SyntaxWarning:\n",
      "\n",
      "invalid escape sequence '\\D'\n",
      "\n",
      "C:\\Users\\hong\\AppData\\Local\\Temp\\ipykernel_14064\\2785591761.py:3: SyntaxWarning:\n",
      "\n",
      "invalid escape sequence '\\D'\n",
      "\n"
     ]
    },
    {
     "data": {
      "text/html": [
       "<div>\n",
       "<style scoped>\n",
       "    .dataframe tbody tr th:only-of-type {\n",
       "        vertical-align: middle;\n",
       "    }\n",
       "\n",
       "    .dataframe tbody tr th {\n",
       "        vertical-align: top;\n",
       "    }\n",
       "\n",
       "    .dataframe thead th {\n",
       "        text-align: right;\n",
       "    }\n",
       "</style>\n",
       "<table border=\"1\" class=\"dataframe\">\n",
       "  <thead>\n",
       "    <tr style=\"text-align: right;\">\n",
       "      <th></th>\n",
       "      <th>Domain Code</th>\n",
       "      <th>Domain</th>\n",
       "      <th>Area Code (M49)</th>\n",
       "      <th>Area</th>\n",
       "      <th>Element Code</th>\n",
       "      <th>Element</th>\n",
       "      <th>Item Code (CPC)</th>\n",
       "      <th>Item</th>\n",
       "      <th>Year Code</th>\n",
       "      <th>Year</th>\n",
       "      <th>Unit</th>\n",
       "      <th>Value</th>\n",
       "      <th>Flag</th>\n",
       "      <th>Flag Description</th>\n",
       "      <th>Note</th>\n",
       "    </tr>\n",
       "  </thead>\n",
       "  <tbody>\n",
       "    <tr>\n",
       "      <th>0</th>\n",
       "      <td>QCL</td>\n",
       "      <td>Crops and livestock products</td>\n",
       "      <td>4</td>\n",
       "      <td>Afghanistan</td>\n",
       "      <td>5312</td>\n",
       "      <td>Area harvested</td>\n",
       "      <td>113</td>\n",
       "      <td>Rice</td>\n",
       "      <td>1961</td>\n",
       "      <td>1961</td>\n",
       "      <td>ha</td>\n",
       "      <td>210000.0</td>\n",
       "      <td>A</td>\n",
       "      <td>Official figure</td>\n",
       "      <td>NaN</td>\n",
       "    </tr>\n",
       "    <tr>\n",
       "      <th>1</th>\n",
       "      <td>QCL</td>\n",
       "      <td>Crops and livestock products</td>\n",
       "      <td>4</td>\n",
       "      <td>Afghanistan</td>\n",
       "      <td>5412</td>\n",
       "      <td>Yield</td>\n",
       "      <td>113</td>\n",
       "      <td>Rice</td>\n",
       "      <td>1961</td>\n",
       "      <td>1961</td>\n",
       "      <td>kg/ha</td>\n",
       "      <td>1519.0</td>\n",
       "      <td>A</td>\n",
       "      <td>Official figure</td>\n",
       "      <td>NaN</td>\n",
       "    </tr>\n",
       "    <tr>\n",
       "      <th>2</th>\n",
       "      <td>QCL</td>\n",
       "      <td>Crops and livestock products</td>\n",
       "      <td>4</td>\n",
       "      <td>Afghanistan</td>\n",
       "      <td>5510</td>\n",
       "      <td>Production</td>\n",
       "      <td>113</td>\n",
       "      <td>Rice</td>\n",
       "      <td>1961</td>\n",
       "      <td>1961</td>\n",
       "      <td>t</td>\n",
       "      <td>319000.0</td>\n",
       "      <td>A</td>\n",
       "      <td>Official figure</td>\n",
       "      <td>NaN</td>\n",
       "    </tr>\n",
       "    <tr>\n",
       "      <th>3</th>\n",
       "      <td>QCL</td>\n",
       "      <td>Crops and livestock products</td>\n",
       "      <td>4</td>\n",
       "      <td>Afghanistan</td>\n",
       "      <td>5312</td>\n",
       "      <td>Area harvested</td>\n",
       "      <td>113</td>\n",
       "      <td>Rice</td>\n",
       "      <td>1962</td>\n",
       "      <td>1962</td>\n",
       "      <td>ha</td>\n",
       "      <td>210000.0</td>\n",
       "      <td>A</td>\n",
       "      <td>Official figure</td>\n",
       "      <td>NaN</td>\n",
       "    </tr>\n",
       "    <tr>\n",
       "      <th>4</th>\n",
       "      <td>QCL</td>\n",
       "      <td>Crops and livestock products</td>\n",
       "      <td>4</td>\n",
       "      <td>Afghanistan</td>\n",
       "      <td>5412</td>\n",
       "      <td>Yield</td>\n",
       "      <td>113</td>\n",
       "      <td>Rice</td>\n",
       "      <td>1962</td>\n",
       "      <td>1962</td>\n",
       "      <td>kg/ha</td>\n",
       "      <td>1519.0</td>\n",
       "      <td>A</td>\n",
       "      <td>Official figure</td>\n",
       "      <td>NaN</td>\n",
       "    </tr>\n",
       "  </tbody>\n",
       "</table>\n",
       "</div>"
      ],
      "text/plain": [
       "  Domain Code                        Domain  Area Code (M49)         Area  \\\n",
       "0         QCL  Crops and livestock products                4  Afghanistan   \n",
       "1         QCL  Crops and livestock products                4  Afghanistan   \n",
       "2         QCL  Crops and livestock products                4  Afghanistan   \n",
       "3         QCL  Crops and livestock products                4  Afghanistan   \n",
       "4         QCL  Crops and livestock products                4  Afghanistan   \n",
       "\n",
       "   Element Code         Element  Item Code (CPC)  Item  Year Code  Year  \\\n",
       "0          5312  Area harvested              113  Rice       1961  1961   \n",
       "1          5412           Yield              113  Rice       1961  1961   \n",
       "2          5510      Production              113  Rice       1961  1961   \n",
       "3          5312  Area harvested              113  Rice       1962  1962   \n",
       "4          5412           Yield              113  Rice       1962  1962   \n",
       "\n",
       "    Unit     Value Flag Flag Description Note  \n",
       "0     ha  210000.0    A  Official figure  NaN  \n",
       "1  kg/ha    1519.0    A  Official figure  NaN  \n",
       "2      t  319000.0    A  Official figure  NaN  \n",
       "3     ha  210000.0    A  Official figure  NaN  \n",
       "4  kg/ha    1519.0    A  Official figure  NaN  "
      ]
     },
     "execution_count": 5,
     "metadata": {},
     "output_type": "execute_result"
    }
   ],
   "source": [
    "import pandas as pd\n",
    "\n",
    "df = pd.read_csv(\"D:\\Disent\\model portfolio\\disent\\model portfolio\\Data Science\\World\\FAOSTAT_data_en_6-11-2025.csv\")\n",
    "\n",
    "df.head()"
   ]
  },
  {
   "cell_type": "code",
   "execution_count": 1,
   "id": "b7f8125a",
   "metadata": {},
   "outputs": [
    {
     "name": "stdout",
     "output_type": "stream",
     "text": [
      "Sample Data:\n"
     ]
    },
    {
     "data": {
      "application/vnd.jupyter.widget-view+json": {
       "model_id": "20bcc27a5240417b836860a4304fd6f8",
       "version_major": 2,
       "version_minor": 0
      },
      "text/plain": [
       "interactive(children=(Dropdown(description='crop', options=('Wheat', 'Rice'), value='Wheat'), Output()), _dom_…"
      ]
     },
     "metadata": {},
     "output_type": "display_data"
    },
    {
     "data": {
      "application/vnd.plotly.v1+json": {
       "config": {
        "plotlyServerURL": "https://plot.ly"
       },
       "data": [
        {
         "coloraxis": "coloraxis",
         "geo": "geo",
         "hovertemplate": "Year=2000<br>Country=%{location}<br>Wheat Yield (tonnes/ha)=%{z}<extra></extra>",
         "locationmode": "country names",
         "locations": [
          "USA",
          "China",
          "India",
          "Brazil",
          "France",
          "Germany",
          "Russia"
         ],
         "name": "",
         "type": "choropleth",
         "z": {
          "bdata": "yvlIJIleBkCpKoXNfEcQQJpnauqM1wlAMr1L+PaUDkDbq9QCVLoXQEVyJimyHxNAfwUgs7SpH0A=",
          "dtype": "f8"
         }
        }
       ],
       "frames": [
        {
         "data": [
          {
           "coloraxis": "coloraxis",
           "geo": "geo",
           "hovertemplate": "Year=2000<br>Country=%{location}<br>Wheat Yield (tonnes/ha)=%{z}<extra></extra>",
           "locationmode": "country names",
           "locations": [
            "USA",
            "China",
            "India",
            "Brazil",
            "France",
            "Germany",
            "Russia"
           ],
           "name": "",
           "type": "choropleth",
           "z": {
            "bdata": "yvlIJIleBkCpKoXNfEcQQJpnauqM1wlAMr1L+PaUDkDbq9QCVLoXQEVyJimyHxNAfwUgs7SpH0A=",
            "dtype": "f8"
           }
          }
         ],
         "name": "2000"
        },
        {
         "data": [
          {
           "coloraxis": "coloraxis",
           "geo": "geo",
           "hovertemplate": "Year=2001<br>Country=%{location}<br>Wheat Yield (tonnes/ha)=%{z}<extra></extra>",
           "locationmode": "country names",
           "locations": [
            "USA",
            "China",
            "India",
            "Brazil",
            "France",
            "Germany",
            "Russia"
           ],
           "name": "",
           "type": "choropleth",
           "z": {
            "bdata": "2JnZDmCAHkBq5TDU4B0MQF9ulSIpEx9AwPC2HUFdG0DBzZn0zz4TQKuRSGcowB5AAMEnuXgmCEA=",
            "dtype": "f8"
           }
          }
         ],
         "name": "2001"
        },
        {
         "data": [
          {
           "coloraxis": "coloraxis",
           "geo": "geo",
           "hovertemplate": "Year=2002<br>Country=%{location}<br>Wheat Yield (tonnes/ha)=%{z}<extra></extra>",
           "locationmode": "country names",
           "locations": [
            "USA",
            "China",
            "India",
            "Brazil",
            "France",
            "Germany",
            "Russia"
           ],
           "name": "",
           "type": "choropleth",
           "z": {
            "bdata": "HMMWbFGoGEBo/aDYqJAGQKNX/UVGRQxAwsLZCgb/HkDY3MEwsF4SQCCA7T/a9wZABvWFBZiIFEA=",
            "dtype": "f8"
           }
          }
         ],
         "name": "2002"
        },
        {
         "data": [
          {
           "coloraxis": "coloraxis",
           "geo": "geo",
           "hovertemplate": "Year=2003<br>Country=%{location}<br>Wheat Yield (tonnes/ha)=%{z}<extra></extra>",
           "locationmode": "country names",
           "locations": [
            "USA",
            "China",
            "India",
            "Brazil",
            "France",
            "Germany",
            "Russia"
           ],
           "name": "",
           "type": "choropleth",
           "z": {
            "bdata": "WFehZ8YQGkBpDfaCxq0ZQNc22MVc7x5AFDdIpin7G0CvP4DvvJ0RQJRgFePWYQZA2oRaFViXGkA=",
            "dtype": "f8"
           }
          }
         ],
         "name": "2003"
        },
        {
         "data": [
          {
           "coloraxis": "coloraxis",
           "geo": "geo",
           "hovertemplate": "Year=2004<br>Country=%{location}<br>Wheat Yield (tonnes/ha)=%{z}<extra></extra>",
           "locationmode": "country names",
           "locations": [
            "USA",
            "China",
            "India",
            "Brazil",
            "France",
            "Germany",
            "Russia"
           ],
           "name": "",
           "type": "choropleth",
           "z": {
            "bdata": "YtdkgQiCEUDZdorCfKkVQCgv8UH98wxAxFNU7mdCEUBO5sVd1LwZQLwjCLQ31RRAegwuDan4EkA=",
            "dtype": "f8"
           }
          }
         ],
         "name": "2004"
        },
        {
         "data": [
          {
           "coloraxis": "coloraxis",
           "geo": "geo",
           "hovertemplate": "Year=2005<br>Country=%{location}<br>Wheat Yield (tonnes/ha)=%{z}<extra></extra>",
           "locationmode": "country names",
           "locations": [
            "USA",
            "China",
            "India",
            "Brazil",
            "France",
            "Germany",
            "Russia"
           ],
           "name": "",
           "type": "choropleth",
           "z": {
            "bdata": "2AphBzv9DUApbiHHHNYeQCt1atbWABdAjELhQoGSCEAz2MuX7AEbQDOKF12CHhJA/HKH9FbiHEA=",
            "dtype": "f8"
           }
          }
         ],
         "name": "2005"
        },
        {
         "data": [
          {
           "coloraxis": "coloraxis",
           "geo": "geo",
           "hovertemplate": "Year=2006<br>Country=%{location}<br>Wheat Yield (tonnes/ha)=%{z}<extra></extra>",
           "locationmode": "country names",
           "locations": [
            "USA",
            "China",
            "India",
            "Brazil",
            "France",
            "Germany",
            "Russia"
           ],
           "name": "",
           "type": "choropleth",
           "z": {
            "bdata": "tAR5oh/qAEAwmOCR0fECQHz1ORGWBhpAPkRiOAwWAkAUz5Jmlo4fQEpvQBwHcgRA43pydQjOGEA=",
            "dtype": "f8"
           }
          }
         ],
         "name": "2006"
        },
        {
         "data": [
          {
           "coloraxis": "coloraxis",
           "geo": "geo",
           "hovertemplate": "Year=2007<br>Country=%{location}<br>Wheat Yield (tonnes/ha)=%{z}<extra></extra>",
           "locationmode": "country names",
           "locations": [
            "USA",
            "China",
            "India",
            "Brazil",
            "France",
            "Germany",
            "Russia"
           ],
           "name": "",
           "type": "choropleth",
           "z": {
            "bdata": "1GvqjIG7FEASfYtEpPEZQH+lVuD5sBpA5bpexe1sE0C4uMtiLD0GQLLe6SX1DABAV2FmMyqHHUA=",
            "dtype": "f8"
           }
          }
         ],
         "name": "2007"
        },
        {
         "data": [
          {
           "coloraxis": "coloraxis",
           "geo": "geo",
           "hovertemplate": "Year=2008<br>Country=%{location}<br>Wheat Yield (tonnes/ha)=%{z}<extra></extra>",
           "locationmode": "country names",
           "locations": [
            "USA",
            "China",
            "India",
            "Brazil",
            "France",
            "Germany",
            "Russia"
           ],
           "name": "",
           "type": "choropleth",
           "z": {
            "bdata": "XS7hTCQdGUDxgViiVpQSQFTYrkheOxFAulE6frZZGkAI0aPH8hAUQGrSPivT2hBAjYIFUEu/E0A=",
            "dtype": "f8"
           }
          }
         ],
         "name": "2008"
        },
        {
         "data": [
          {
           "coloraxis": "coloraxis",
           "geo": "geo",
           "hovertemplate": "Year=2009<br>Country=%{location}<br>Wheat Yield (tonnes/ha)=%{z}<extra></extra>",
           "locationmode": "country names",
           "locations": [
            "USA",
            "China",
            "India",
            "Brazil",
            "France",
            "Germany",
            "Russia"
           ],
           "name": "",
           "type": "choropleth",
           "z": {
            "bdata": "qaT4fIQqGEDkOSp+FmQaQLw1xbLwXgFAnb66WM6AFEArxBifm7oSQG5E8AAuAxlAbi80SV3NAUA=",
            "dtype": "f8"
           }
          }
         ],
         "name": "2009"
        },
        {
         "data": [
          {
           "coloraxis": "coloraxis",
           "geo": "geo",
           "hovertemplate": "Year=2010<br>Country=%{location}<br>Wheat Yield (tonnes/ha)=%{z}<extra></extra>",
           "locationmode": "country names",
           "locations": [
            "USA",
            "China",
            "India",
            "Brazil",
            "France",
            "Germany",
            "Russia"
           ],
           "name": "",
           "type": "choropleth",
           "z": {
            "bdata": "VBH+CehMAUCilOg0bh4dQIo3STaheQRAtt3CZgQsFECzRMR3Go8UQNbRgJDrNBRAKhhpyKAdEUA=",
            "dtype": "f8"
           }
          }
         ],
         "name": "2010"
        },
        {
         "data": [
          {
           "coloraxis": "coloraxis",
           "geo": "geo",
           "hovertemplate": "Year=2011<br>Country=%{location}<br>Wheat Yield (tonnes/ha)=%{z}<extra></extra>",
           "locationmode": "country names",
           "locations": [
            "USA",
            "China",
            "India",
            "Brazil",
            "France",
            "Germany",
            "Russia"
           ],
           "name": "",
           "type": "choropleth",
           "z": {
            "bdata": "PJKx/z1rFUBopqNl9n0LQPLGYmG/bglAQz1gAcYJEUAyoMeFVaUEQDzUZtCwGgxAOJp2rLvUFkA=",
            "dtype": "f8"
           }
          }
         ],
         "name": "2011"
        },
        {
         "data": [
          {
           "coloraxis": "coloraxis",
           "geo": "geo",
           "hovertemplate": "Year=2012<br>Country=%{location}<br>Wheat Yield (tonnes/ha)=%{z}<extra></extra>",
           "locationmode": "country names",
           "locations": [
            "USA",
            "China",
            "India",
            "Brazil",
            "France",
            "Germany",
            "Russia"
           ],
           "name": "",
           "type": "choropleth",
           "z": {
            "bdata": "whv+JotUAUCz8rFED9MaQJj4AG0siR5AdH2lcZzDGUDN9CB3p/EfQPq1LDnLeg9AiGj37ECYAUA=",
            "dtype": "f8"
           }
          }
         ],
         "name": "2012"
        },
        {
         "data": [
          {
           "coloraxis": "coloraxis",
           "geo": "geo",
           "hovertemplate": "Year=2013<br>Country=%{location}<br>Wheat Yield (tonnes/ha)=%{z}<extra></extra>",
           "locationmode": "country names",
           "locations": [
            "USA",
            "China",
            "India",
            "Brazil",
            "France",
            "Germany",
            "Russia"
           ],
           "name": "",
           "type": "choropleth",
           "z": {
            "bdata": "mKcZuX5aCUDoOdMQ2tIbQCMi1q7bkwtA6MELlAlaE0CHmjJQmd8JQO1I+wHKNBNAlV4JNK7fDUA=",
            "dtype": "f8"
           }
          }
         ],
         "name": "2013"
        },
        {
         "data": [
          {
           "coloraxis": "coloraxis",
           "geo": "geo",
           "hovertemplate": "Year=2014<br>Country=%{location}<br>Wheat Yield (tonnes/ha)=%{z}<extra></extra>",
           "locationmode": "country names",
           "locations": [
            "USA",
            "China",
            "India",
            "Brazil",
            "France",
            "Germany",
            "Russia"
           ],
           "name": "",
           "type": "choropleth",
           "z": {
            "bdata": "Tarh62CVE0AIw8OF5K8NQPU+eCw2ew9AW5Mje+eeB0DjMz6aJHEQQFed9o/zDhZA6lu8fvUOHkA=",
            "dtype": "f8"
           }
          }
         ],
         "name": "2014"
        },
        {
         "data": [
          {
           "coloraxis": "coloraxis",
           "geo": "geo",
           "hovertemplate": "Year=2015<br>Country=%{location}<br>Wheat Yield (tonnes/ha)=%{z}<extra></extra>",
           "locationmode": "country names",
           "locations": [
            "USA",
            "China",
            "India",
            "Brazil",
            "France",
            "Germany",
            "Russia"
           ],
           "name": "",
           "type": "choropleth",
           "z": {
            "bdata": "uo+OC+xFGECqShiWwwAEQLfRoEmC5hBAlQEE3sKHG0DyB3KoLU4XQJ+nlBWTChFA0F5U15qLDEA=",
            "dtype": "f8"
           }
          }
         ],
         "name": "2015"
        },
        {
         "data": [
          {
           "coloraxis": "coloraxis",
           "geo": "geo",
           "hovertemplate": "Year=2016<br>Country=%{location}<br>Wheat Yield (tonnes/ha)=%{z}<extra></extra>",
           "locationmode": "country names",
           "locations": [
            "USA",
            "China",
            "India",
            "Brazil",
            "France",
            "Germany",
            "Russia"
           ],
           "name": "",
           "type": "choropleth",
           "z": {
            "bdata": "yu2zwCOjEEBzQ2UVNJoZQKhNsyW2gA9A4+sh6IhhEkA6kChjJw4KQJ7loJP80RtAX24zvobfCkA=",
            "dtype": "f8"
           }
          }
         ],
         "name": "2016"
        },
        {
         "data": [
          {
           "coloraxis": "coloraxis",
           "geo": "geo",
           "hovertemplate": "Year=2017<br>Country=%{location}<br>Wheat Yield (tonnes/ha)=%{z}<extra></extra>",
           "locationmode": "country names",
           "locations": [
            "USA",
            "China",
            "India",
            "Brazil",
            "France",
            "Germany",
            "Russia"
           ],
           "name": "",
           "type": "choropleth",
           "z": {
            "bdata": "05hpksD9D0AhotzZrAYZQA+ykYNHNxBAgXjWJpmDDUAxV/5EqJ8fQIfTxb7xGx1ArRUkCu/8HkA=",
            "dtype": "f8"
           }
          }
         ],
         "name": "2017"
        },
        {
         "data": [
          {
           "coloraxis": "coloraxis",
           "geo": "geo",
           "hovertemplate": "Year=2018<br>Country=%{location}<br>Wheat Yield (tonnes/ha)=%{z}<extra></extra>",
           "locationmode": "country names",
           "locations": [
            "USA",
            "China",
            "India",
            "Brazil",
            "France",
            "Germany",
            "Russia"
           ],
           "name": "",
           "type": "choropleth",
           "z": {
            "bdata": "CdX1Lor9E0AITq/+TEUXQOmx41wCJBhApA8mhTbYH0AnmugQwS0VQDq6nTB7ShVA2BorCnc3G0A=",
            "dtype": "f8"
           }
          }
         ],
         "name": "2018"
        },
        {
         "data": [
          {
           "coloraxis": "coloraxis",
           "geo": "geo",
           "hovertemplate": "Year=2019<br>Country=%{location}<br>Wheat Yield (tonnes/ha)=%{z}<extra></extra>",
           "locationmode": "country names",
           "locations": [
            "USA",
            "China",
            "India",
            "Brazil",
            "France",
            "Germany",
            "Russia"
           ],
           "name": "",
           "type": "choropleth",
           "z": {
            "bdata": "VAIBwGhoGECjIW2D6I0RQHTKtWS8yRhAtbnc9EufHUB6tLFaWekLQCjv7dSTehpAwKKbRqJUG0A=",
            "dtype": "f8"
           }
          }
         ],
         "name": "2019"
        },
        {
         "data": [
          {
           "coloraxis": "coloraxis",
           "geo": "geo",
           "hovertemplate": "Year=2020<br>Country=%{location}<br>Wheat Yield (tonnes/ha)=%{z}<extra></extra>",
           "locationmode": "country names",
           "locations": [
            "USA",
            "China",
            "India",
            "Brazil",
            "France",
            "Germany",
            "Russia"
           ],
           "name": "",
           "type": "choropleth",
           "z": {
            "bdata": "olNTJ9IGC0DbygGiSscNQFASyB2/gxBArPndWuXeHUBRwMgT/hYRQOKuj//RcRRAiL0SJo05CEA=",
            "dtype": "f8"
           }
          }
         ],
         "name": "2020"
        },
        {
         "data": [
          {
           "coloraxis": "coloraxis",
           "geo": "geo",
           "hovertemplate": "Year=2021<br>Country=%{location}<br>Wheat Yield (tonnes/ha)=%{z}<extra></extra>",
           "locationmode": "country names",
           "locations": [
            "USA",
            "China",
            "India",
            "Brazil",
            "France",
            "Germany",
            "Russia"
           ],
           "name": "",
           "type": "choropleth",
           "z": {
            "bdata": "AhVCoVAmH0A8F/fj7T8aQIthBRuKJQRAnBzWC1QCGkA65JyfAs4GQJVEir5gZwxASi1e8ZSNF0A=",
            "dtype": "f8"
           }
          }
         ],
         "name": "2021"
        },
        {
         "data": [
          {
           "coloraxis": "coloraxis",
           "geo": "geo",
           "hovertemplate": "Year=2022<br>Country=%{location}<br>Wheat Yield (tonnes/ha)=%{z}<extra></extra>",
           "locationmode": "country names",
           "locations": [
            "USA",
            "China",
            "India",
            "Brazil",
            "France",
            "Germany",
            "Russia"
           ],
           "name": "",
           "type": "choropleth",
           "z": {
            "bdata": "8OMZsegGFECywokXR9gdQPFJA/PomRJAXCIHPg0LAkCAmZ/LnesWQBW5n4UKIAxAEyTYPwFYFUA=",
            "dtype": "f8"
           }
          }
         ],
         "name": "2022"
        }
       ],
       "layout": {
        "coloraxis": {
         "cmax": 7.985990392099848,
         "cmin": 2.006326957893031,
         "colorbar": {
          "title": {
           "text": "Wheat Yield (tonnes/ha)"
          }
         },
         "colorscale": [
          [
           0,
           "#0d0887"
          ],
          [
           0.1111111111111111,
           "#46039f"
          ],
          [
           0.2222222222222222,
           "#7201a8"
          ],
          [
           0.3333333333333333,
           "#9c179e"
          ],
          [
           0.4444444444444444,
           "#bd3786"
          ],
          [
           0.5555555555555556,
           "#d8576b"
          ],
          [
           0.6666666666666666,
           "#ed7953"
          ],
          [
           0.7777777777777778,
           "#fb9f3a"
          ],
          [
           0.8888888888888888,
           "#fdca26"
          ],
          [
           1,
           "#f0f921"
          ]
         ]
        },
        "geo": {
         "center": {},
         "domain": {
          "x": [
           0,
           1
          ],
          "y": [
           0,
           1
          ]
         },
         "projection": {
          "type": "natural earth"
         }
        },
        "legend": {
         "tracegroupgap": 0
        },
        "sliders": [
         {
          "active": 0,
          "currentvalue": {
           "prefix": "Year="
          },
          "len": 0.9,
          "pad": {
           "b": 10,
           "t": 60
          },
          "steps": [
           {
            "args": [
             [
              "2000"
             ],
             {
              "frame": {
               "duration": 0,
               "redraw": true
              },
              "fromcurrent": true,
              "mode": "immediate",
              "transition": {
               "duration": 0,
               "easing": "linear"
              }
             }
            ],
            "label": "2000",
            "method": "animate"
           },
           {
            "args": [
             [
              "2001"
             ],
             {
              "frame": {
               "duration": 0,
               "redraw": true
              },
              "fromcurrent": true,
              "mode": "immediate",
              "transition": {
               "duration": 0,
               "easing": "linear"
              }
             }
            ],
            "label": "2001",
            "method": "animate"
           },
           {
            "args": [
             [
              "2002"
             ],
             {
              "frame": {
               "duration": 0,
               "redraw": true
              },
              "fromcurrent": true,
              "mode": "immediate",
              "transition": {
               "duration": 0,
               "easing": "linear"
              }
             }
            ],
            "label": "2002",
            "method": "animate"
           },
           {
            "args": [
             [
              "2003"
             ],
             {
              "frame": {
               "duration": 0,
               "redraw": true
              },
              "fromcurrent": true,
              "mode": "immediate",
              "transition": {
               "duration": 0,
               "easing": "linear"
              }
             }
            ],
            "label": "2003",
            "method": "animate"
           },
           {
            "args": [
             [
              "2004"
             ],
             {
              "frame": {
               "duration": 0,
               "redraw": true
              },
              "fromcurrent": true,
              "mode": "immediate",
              "transition": {
               "duration": 0,
               "easing": "linear"
              }
             }
            ],
            "label": "2004",
            "method": "animate"
           },
           {
            "args": [
             [
              "2005"
             ],
             {
              "frame": {
               "duration": 0,
               "redraw": true
              },
              "fromcurrent": true,
              "mode": "immediate",
              "transition": {
               "duration": 0,
               "easing": "linear"
              }
             }
            ],
            "label": "2005",
            "method": "animate"
           },
           {
            "args": [
             [
              "2006"
             ],
             {
              "frame": {
               "duration": 0,
               "redraw": true
              },
              "fromcurrent": true,
              "mode": "immediate",
              "transition": {
               "duration": 0,
               "easing": "linear"
              }
             }
            ],
            "label": "2006",
            "method": "animate"
           },
           {
            "args": [
             [
              "2007"
             ],
             {
              "frame": {
               "duration": 0,
               "redraw": true
              },
              "fromcurrent": true,
              "mode": "immediate",
              "transition": {
               "duration": 0,
               "easing": "linear"
              }
             }
            ],
            "label": "2007",
            "method": "animate"
           },
           {
            "args": [
             [
              "2008"
             ],
             {
              "frame": {
               "duration": 0,
               "redraw": true
              },
              "fromcurrent": true,
              "mode": "immediate",
              "transition": {
               "duration": 0,
               "easing": "linear"
              }
             }
            ],
            "label": "2008",
            "method": "animate"
           },
           {
            "args": [
             [
              "2009"
             ],
             {
              "frame": {
               "duration": 0,
               "redraw": true
              },
              "fromcurrent": true,
              "mode": "immediate",
              "transition": {
               "duration": 0,
               "easing": "linear"
              }
             }
            ],
            "label": "2009",
            "method": "animate"
           },
           {
            "args": [
             [
              "2010"
             ],
             {
              "frame": {
               "duration": 0,
               "redraw": true
              },
              "fromcurrent": true,
              "mode": "immediate",
              "transition": {
               "duration": 0,
               "easing": "linear"
              }
             }
            ],
            "label": "2010",
            "method": "animate"
           },
           {
            "args": [
             [
              "2011"
             ],
             {
              "frame": {
               "duration": 0,
               "redraw": true
              },
              "fromcurrent": true,
              "mode": "immediate",
              "transition": {
               "duration": 0,
               "easing": "linear"
              }
             }
            ],
            "label": "2011",
            "method": "animate"
           },
           {
            "args": [
             [
              "2012"
             ],
             {
              "frame": {
               "duration": 0,
               "redraw": true
              },
              "fromcurrent": true,
              "mode": "immediate",
              "transition": {
               "duration": 0,
               "easing": "linear"
              }
             }
            ],
            "label": "2012",
            "method": "animate"
           },
           {
            "args": [
             [
              "2013"
             ],
             {
              "frame": {
               "duration": 0,
               "redraw": true
              },
              "fromcurrent": true,
              "mode": "immediate",
              "transition": {
               "duration": 0,
               "easing": "linear"
              }
             }
            ],
            "label": "2013",
            "method": "animate"
           },
           {
            "args": [
             [
              "2014"
             ],
             {
              "frame": {
               "duration": 0,
               "redraw": true
              },
              "fromcurrent": true,
              "mode": "immediate",
              "transition": {
               "duration": 0,
               "easing": "linear"
              }
             }
            ],
            "label": "2014",
            "method": "animate"
           },
           {
            "args": [
             [
              "2015"
             ],
             {
              "frame": {
               "duration": 0,
               "redraw": true
              },
              "fromcurrent": true,
              "mode": "immediate",
              "transition": {
               "duration": 0,
               "easing": "linear"
              }
             }
            ],
            "label": "2015",
            "method": "animate"
           },
           {
            "args": [
             [
              "2016"
             ],
             {
              "frame": {
               "duration": 0,
               "redraw": true
              },
              "fromcurrent": true,
              "mode": "immediate",
              "transition": {
               "duration": 0,
               "easing": "linear"
              }
             }
            ],
            "label": "2016",
            "method": "animate"
           },
           {
            "args": [
             [
              "2017"
             ],
             {
              "frame": {
               "duration": 0,
               "redraw": true
              },
              "fromcurrent": true,
              "mode": "immediate",
              "transition": {
               "duration": 0,
               "easing": "linear"
              }
             }
            ],
            "label": "2017",
            "method": "animate"
           },
           {
            "args": [
             [
              "2018"
             ],
             {
              "frame": {
               "duration": 0,
               "redraw": true
              },
              "fromcurrent": true,
              "mode": "immediate",
              "transition": {
               "duration": 0,
               "easing": "linear"
              }
             }
            ],
            "label": "2018",
            "method": "animate"
           },
           {
            "args": [
             [
              "2019"
             ],
             {
              "frame": {
               "duration": 0,
               "redraw": true
              },
              "fromcurrent": true,
              "mode": "immediate",
              "transition": {
               "duration": 0,
               "easing": "linear"
              }
             }
            ],
            "label": "2019",
            "method": "animate"
           },
           {
            "args": [
             [
              "2020"
             ],
             {
              "frame": {
               "duration": 0,
               "redraw": true
              },
              "fromcurrent": true,
              "mode": "immediate",
              "transition": {
               "duration": 0,
               "easing": "linear"
              }
             }
            ],
            "label": "2020",
            "method": "animate"
           },
           {
            "args": [
             [
              "2021"
             ],
             {
              "frame": {
               "duration": 0,
               "redraw": true
              },
              "fromcurrent": true,
              "mode": "immediate",
              "transition": {
               "duration": 0,
               "easing": "linear"
              }
             }
            ],
            "label": "2021",
            "method": "animate"
           },
           {
            "args": [
             [
              "2022"
             ],
             {
              "frame": {
               "duration": 0,
               "redraw": true
              },
              "fromcurrent": true,
              "mode": "immediate",
              "transition": {
               "duration": 0,
               "easing": "linear"
              }
             }
            ],
            "label": "2022",
            "method": "animate"
           }
          ],
          "x": 0.1,
          "xanchor": "left",
          "y": 0,
          "yanchor": "top"
         }
        ],
        "template": {
         "data": {
          "bar": [
           {
            "error_x": {
             "color": "#2a3f5f"
            },
            "error_y": {
             "color": "#2a3f5f"
            },
            "marker": {
             "line": {
              "color": "#E5ECF6",
              "width": 0.5
             },
             "pattern": {
              "fillmode": "overlay",
              "size": 10,
              "solidity": 0.2
             }
            },
            "type": "bar"
           }
          ],
          "barpolar": [
           {
            "marker": {
             "line": {
              "color": "#E5ECF6",
              "width": 0.5
             },
             "pattern": {
              "fillmode": "overlay",
              "size": 10,
              "solidity": 0.2
             }
            },
            "type": "barpolar"
           }
          ],
          "carpet": [
           {
            "aaxis": {
             "endlinecolor": "#2a3f5f",
             "gridcolor": "white",
             "linecolor": "white",
             "minorgridcolor": "white",
             "startlinecolor": "#2a3f5f"
            },
            "baxis": {
             "endlinecolor": "#2a3f5f",
             "gridcolor": "white",
             "linecolor": "white",
             "minorgridcolor": "white",
             "startlinecolor": "#2a3f5f"
            },
            "type": "carpet"
           }
          ],
          "choropleth": [
           {
            "colorbar": {
             "outlinewidth": 0,
             "ticks": ""
            },
            "type": "choropleth"
           }
          ],
          "contour": [
           {
            "colorbar": {
             "outlinewidth": 0,
             "ticks": ""
            },
            "colorscale": [
             [
              0,
              "#0d0887"
             ],
             [
              0.1111111111111111,
              "#46039f"
             ],
             [
              0.2222222222222222,
              "#7201a8"
             ],
             [
              0.3333333333333333,
              "#9c179e"
             ],
             [
              0.4444444444444444,
              "#bd3786"
             ],
             [
              0.5555555555555556,
              "#d8576b"
             ],
             [
              0.6666666666666666,
              "#ed7953"
             ],
             [
              0.7777777777777778,
              "#fb9f3a"
             ],
             [
              0.8888888888888888,
              "#fdca26"
             ],
             [
              1,
              "#f0f921"
             ]
            ],
            "type": "contour"
           }
          ],
          "contourcarpet": [
           {
            "colorbar": {
             "outlinewidth": 0,
             "ticks": ""
            },
            "type": "contourcarpet"
           }
          ],
          "heatmap": [
           {
            "colorbar": {
             "outlinewidth": 0,
             "ticks": ""
            },
            "colorscale": [
             [
              0,
              "#0d0887"
             ],
             [
              0.1111111111111111,
              "#46039f"
             ],
             [
              0.2222222222222222,
              "#7201a8"
             ],
             [
              0.3333333333333333,
              "#9c179e"
             ],
             [
              0.4444444444444444,
              "#bd3786"
             ],
             [
              0.5555555555555556,
              "#d8576b"
             ],
             [
              0.6666666666666666,
              "#ed7953"
             ],
             [
              0.7777777777777778,
              "#fb9f3a"
             ],
             [
              0.8888888888888888,
              "#fdca26"
             ],
             [
              1,
              "#f0f921"
             ]
            ],
            "type": "heatmap"
           }
          ],
          "histogram": [
           {
            "marker": {
             "pattern": {
              "fillmode": "overlay",
              "size": 10,
              "solidity": 0.2
             }
            },
            "type": "histogram"
           }
          ],
          "histogram2d": [
           {
            "colorbar": {
             "outlinewidth": 0,
             "ticks": ""
            },
            "colorscale": [
             [
              0,
              "#0d0887"
             ],
             [
              0.1111111111111111,
              "#46039f"
             ],
             [
              0.2222222222222222,
              "#7201a8"
             ],
             [
              0.3333333333333333,
              "#9c179e"
             ],
             [
              0.4444444444444444,
              "#bd3786"
             ],
             [
              0.5555555555555556,
              "#d8576b"
             ],
             [
              0.6666666666666666,
              "#ed7953"
             ],
             [
              0.7777777777777778,
              "#fb9f3a"
             ],
             [
              0.8888888888888888,
              "#fdca26"
             ],
             [
              1,
              "#f0f921"
             ]
            ],
            "type": "histogram2d"
           }
          ],
          "histogram2dcontour": [
           {
            "colorbar": {
             "outlinewidth": 0,
             "ticks": ""
            },
            "colorscale": [
             [
              0,
              "#0d0887"
             ],
             [
              0.1111111111111111,
              "#46039f"
             ],
             [
              0.2222222222222222,
              "#7201a8"
             ],
             [
              0.3333333333333333,
              "#9c179e"
             ],
             [
              0.4444444444444444,
              "#bd3786"
             ],
             [
              0.5555555555555556,
              "#d8576b"
             ],
             [
              0.6666666666666666,
              "#ed7953"
             ],
             [
              0.7777777777777778,
              "#fb9f3a"
             ],
             [
              0.8888888888888888,
              "#fdca26"
             ],
             [
              1,
              "#f0f921"
             ]
            ],
            "type": "histogram2dcontour"
           }
          ],
          "mesh3d": [
           {
            "colorbar": {
             "outlinewidth": 0,
             "ticks": ""
            },
            "type": "mesh3d"
           }
          ],
          "parcoords": [
           {
            "line": {
             "colorbar": {
              "outlinewidth": 0,
              "ticks": ""
             }
            },
            "type": "parcoords"
           }
          ],
          "pie": [
           {
            "automargin": true,
            "type": "pie"
           }
          ],
          "scatter": [
           {
            "fillpattern": {
             "fillmode": "overlay",
             "size": 10,
             "solidity": 0.2
            },
            "type": "scatter"
           }
          ],
          "scatter3d": [
           {
            "line": {
             "colorbar": {
              "outlinewidth": 0,
              "ticks": ""
             }
            },
            "marker": {
             "colorbar": {
              "outlinewidth": 0,
              "ticks": ""
             }
            },
            "type": "scatter3d"
           }
          ],
          "scattercarpet": [
           {
            "marker": {
             "colorbar": {
              "outlinewidth": 0,
              "ticks": ""
             }
            },
            "type": "scattercarpet"
           }
          ],
          "scattergeo": [
           {
            "marker": {
             "colorbar": {
              "outlinewidth": 0,
              "ticks": ""
             }
            },
            "type": "scattergeo"
           }
          ],
          "scattergl": [
           {
            "marker": {
             "colorbar": {
              "outlinewidth": 0,
              "ticks": ""
             }
            },
            "type": "scattergl"
           }
          ],
          "scattermap": [
           {
            "marker": {
             "colorbar": {
              "outlinewidth": 0,
              "ticks": ""
             }
            },
            "type": "scattermap"
           }
          ],
          "scattermapbox": [
           {
            "marker": {
             "colorbar": {
              "outlinewidth": 0,
              "ticks": ""
             }
            },
            "type": "scattermapbox"
           }
          ],
          "scatterpolar": [
           {
            "marker": {
             "colorbar": {
              "outlinewidth": 0,
              "ticks": ""
             }
            },
            "type": "scatterpolar"
           }
          ],
          "scatterpolargl": [
           {
            "marker": {
             "colorbar": {
              "outlinewidth": 0,
              "ticks": ""
             }
            },
            "type": "scatterpolargl"
           }
          ],
          "scatterternary": [
           {
            "marker": {
             "colorbar": {
              "outlinewidth": 0,
              "ticks": ""
             }
            },
            "type": "scatterternary"
           }
          ],
          "surface": [
           {
            "colorbar": {
             "outlinewidth": 0,
             "ticks": ""
            },
            "colorscale": [
             [
              0,
              "#0d0887"
             ],
             [
              0.1111111111111111,
              "#46039f"
             ],
             [
              0.2222222222222222,
              "#7201a8"
             ],
             [
              0.3333333333333333,
              "#9c179e"
             ],
             [
              0.4444444444444444,
              "#bd3786"
             ],
             [
              0.5555555555555556,
              "#d8576b"
             ],
             [
              0.6666666666666666,
              "#ed7953"
             ],
             [
              0.7777777777777778,
              "#fb9f3a"
             ],
             [
              0.8888888888888888,
              "#fdca26"
             ],
             [
              1,
              "#f0f921"
             ]
            ],
            "type": "surface"
           }
          ],
          "table": [
           {
            "cells": {
             "fill": {
              "color": "#EBF0F8"
             },
             "line": {
              "color": "white"
             }
            },
            "header": {
             "fill": {
              "color": "#C8D4E3"
             },
             "line": {
              "color": "white"
             }
            },
            "type": "table"
           }
          ]
         },
         "layout": {
          "annotationdefaults": {
           "arrowcolor": "#2a3f5f",
           "arrowhead": 0,
           "arrowwidth": 1
          },
          "autotypenumbers": "strict",
          "coloraxis": {
           "colorbar": {
            "outlinewidth": 0,
            "ticks": ""
           }
          },
          "colorscale": {
           "diverging": [
            [
             0,
             "#8e0152"
            ],
            [
             0.1,
             "#c51b7d"
            ],
            [
             0.2,
             "#de77ae"
            ],
            [
             0.3,
             "#f1b6da"
            ],
            [
             0.4,
             "#fde0ef"
            ],
            [
             0.5,
             "#f7f7f7"
            ],
            [
             0.6,
             "#e6f5d0"
            ],
            [
             0.7,
             "#b8e186"
            ],
            [
             0.8,
             "#7fbc41"
            ],
            [
             0.9,
             "#4d9221"
            ],
            [
             1,
             "#276419"
            ]
           ],
           "sequential": [
            [
             0,
             "#0d0887"
            ],
            [
             0.1111111111111111,
             "#46039f"
            ],
            [
             0.2222222222222222,
             "#7201a8"
            ],
            [
             0.3333333333333333,
             "#9c179e"
            ],
            [
             0.4444444444444444,
             "#bd3786"
            ],
            [
             0.5555555555555556,
             "#d8576b"
            ],
            [
             0.6666666666666666,
             "#ed7953"
            ],
            [
             0.7777777777777778,
             "#fb9f3a"
            ],
            [
             0.8888888888888888,
             "#fdca26"
            ],
            [
             1,
             "#f0f921"
            ]
           ],
           "sequentialminus": [
            [
             0,
             "#0d0887"
            ],
            [
             0.1111111111111111,
             "#46039f"
            ],
            [
             0.2222222222222222,
             "#7201a8"
            ],
            [
             0.3333333333333333,
             "#9c179e"
            ],
            [
             0.4444444444444444,
             "#bd3786"
            ],
            [
             0.5555555555555556,
             "#d8576b"
            ],
            [
             0.6666666666666666,
             "#ed7953"
            ],
            [
             0.7777777777777778,
             "#fb9f3a"
            ],
            [
             0.8888888888888888,
             "#fdca26"
            ],
            [
             1,
             "#f0f921"
            ]
           ]
          },
          "colorway": [
           "#636efa",
           "#EF553B",
           "#00cc96",
           "#ab63fa",
           "#FFA15A",
           "#19d3f3",
           "#FF6692",
           "#B6E880",
           "#FF97FF",
           "#FECB52"
          ],
          "font": {
           "color": "#2a3f5f"
          },
          "geo": {
           "bgcolor": "white",
           "lakecolor": "white",
           "landcolor": "#E5ECF6",
           "showlakes": true,
           "showland": true,
           "subunitcolor": "white"
          },
          "hoverlabel": {
           "align": "left"
          },
          "hovermode": "closest",
          "mapbox": {
           "style": "light"
          },
          "paper_bgcolor": "white",
          "plot_bgcolor": "#E5ECF6",
          "polar": {
           "angularaxis": {
            "gridcolor": "white",
            "linecolor": "white",
            "ticks": ""
           },
           "bgcolor": "#E5ECF6",
           "radialaxis": {
            "gridcolor": "white",
            "linecolor": "white",
            "ticks": ""
           }
          },
          "scene": {
           "xaxis": {
            "backgroundcolor": "#E5ECF6",
            "gridcolor": "white",
            "gridwidth": 2,
            "linecolor": "white",
            "showbackground": true,
            "ticks": "",
            "zerolinecolor": "white"
           },
           "yaxis": {
            "backgroundcolor": "#E5ECF6",
            "gridcolor": "white",
            "gridwidth": 2,
            "linecolor": "white",
            "showbackground": true,
            "ticks": "",
            "zerolinecolor": "white"
           },
           "zaxis": {
            "backgroundcolor": "#E5ECF6",
            "gridcolor": "white",
            "gridwidth": 2,
            "linecolor": "white",
            "showbackground": true,
            "ticks": "",
            "zerolinecolor": "white"
           }
          },
          "shapedefaults": {
           "line": {
            "color": "#2a3f5f"
           }
          },
          "ternary": {
           "aaxis": {
            "gridcolor": "white",
            "linecolor": "white",
            "ticks": ""
           },
           "baxis": {
            "gridcolor": "white",
            "linecolor": "white",
            "ticks": ""
           },
           "bgcolor": "#E5ECF6",
           "caxis": {
            "gridcolor": "white",
            "linecolor": "white",
            "ticks": ""
           }
          },
          "title": {
           "x": 0.05
          },
          "xaxis": {
           "automargin": true,
           "gridcolor": "white",
           "linecolor": "white",
           "ticks": "",
           "title": {
            "standoff": 15
           },
           "zerolinecolor": "white",
           "zerolinewidth": 2
          },
          "yaxis": {
           "automargin": true,
           "gridcolor": "white",
           "linecolor": "white",
           "ticks": "",
           "title": {
            "standoff": 15
           },
           "zerolinecolor": "white",
           "zerolinewidth": 2
          }
         }
        },
        "title": {
         "text": "Global Wheat Yield Changes (2000-2022)"
        },
        "updatemenus": [
         {
          "buttons": [
           {
            "args": [
             null,
             {
              "frame": {
               "duration": 500,
               "redraw": true
              },
              "fromcurrent": true,
              "mode": "immediate",
              "transition": {
               "duration": 500,
               "easing": "linear"
              }
             }
            ],
            "label": "&#9654;",
            "method": "animate"
           },
           {
            "args": [
             [
              null
             ],
             {
              "frame": {
               "duration": 0,
               "redraw": true
              },
              "fromcurrent": true,
              "mode": "immediate",
              "transition": {
               "duration": 0,
               "easing": "linear"
              }
             }
            ],
            "label": "&#9724;",
            "method": "animate"
           }
          ],
          "direction": "left",
          "pad": {
           "r": 10,
           "t": 70
          },
          "showactive": false,
          "type": "buttons",
          "x": 0.1,
          "xanchor": "right",
          "y": 0,
          "yanchor": "top"
         }
        ]
       }
      }
     },
     "metadata": {},
     "output_type": "display_data"
    },
    {
     "data": {
      "application/vnd.jupyter.widget-view+json": {
       "model_id": "ae710fb26dde424ab154d027631a41bc",
       "version_major": 2,
       "version_minor": 0
      },
      "text/plain": [
       "interactive(children=(IntSlider(value=2010, description='year', max=2022, min=2000), Output()), _dom_classes=(…"
      ]
     },
     "metadata": {},
     "output_type": "display_data"
    },
    {
     "data": {
      "application/vnd.plotly.v1+json": {
       "config": {
        "plotlyServerURL": "https://plot.ly"
       },
       "data": [
        {
         "type": "surface",
         "x": {
          "bdata": "0AfRB9IH0wfUB9UH1gfXB9gH2QfaB9sH3AfdB94H3wfgB+EH4gfjB+QH5QfmB9AH0QfSB9MH1AfVB9YH1wfYB9kH2gfbB9wH3QfeB98H4AfhB+IH4wfkB+UH5gfQB9EH0gfTB9QH1QfWB9cH2AfZB9oH2wfcB90H3gffB+AH4QfiB+MH5AflB+YH0AfRB9IH0wfUB9UH1gfXB9gH2QfaB9sH3AfdB94H3wfgB+EH4gfjB+QH5QfmB9AH0QfSB9MH1AfVB9YH1wfYB9kH2gfbB9wH3QfeB98H4AfhB+IH4wfkB+UH5gfQB9EH0gfTB9QH1QfWB9cH2AfZB9oH2wfcB90H3gffB+AH4QfiB+MH5AflB+YH0AfRB9IH0wfUB9UH1gfXB9gH2QfaB9sH3AfdB94H3wfgB+EH4gfjB+QH5QfmBw==",
          "dtype": "i2",
          "shape": "7, 23"
         },
         "y": {
          "bdata": "AAAAAAAAAAAAAAAAAAAAAAAAAAAAAAABAQEBAQEBAQEBAQEBAQEBAQEBAQEBAQICAgICAgICAgICAgICAgICAgICAgICAwMDAwMDAwMDAwMDAwMDAwMDAwMDAwMEBAQEBAQEBAQEBAQEBAQEBAQEBAQEBAUFBQUFBQUFBQUFBQUFBQUFBQUFBQUFBgYGBgYGBgYGBgYGBgYGBgYGBgYGBgY=",
          "dtype": "i1",
          "shape": "7, 23"
         },
         "z": {
          "bdata": "Mr1L+PaUDkDA8LYdQV0bQMLC2QoG/x5AFDdIpin7G0DEU1TuZ0IRQIxC4UKBkghAPkRiOAwWAkDlul7F7WwTQLpROn62WRpAnb66WM6AFEC23cJmBCwUQEM9YAHGCRFAdH2lcZzDGUDowQuUCVoTQFuTI3vnngdAlQEE3sKHG0Dj6yHoiGESQIF41iaZgw1ApA8mhTbYH0C1udz0S58dQKz53Vrl3h1AnBzWC1QCGkBcIgc+DQsCQKkqhc18RxBAauUw1OAdDEBo/aDYqJAGQGkN9oLGrRlA2XaKwnypFUApbiHHHNYeQDCY4JHR8QJAEn2LRKTxGUDxgViiVpQSQOQ5Kn4WZBpAopToNG4eHUBopqNl9n0LQLPysUQP0xpA6DnTENrSG0AIw8OF5K8NQKpKGJbDAARAc0NlFTSaGUAhotzZrAYZQAhOr/5MRRdAoyFtg+iNEUDbygGiSscNQDwX9+PtPxpAssKJF0fYHUDbq9QCVLoXQMHNmfTPPhNA2NzBMLBeEkCvP4DvvJ0RQE7mxV3UvBlAM9jLl+wBG0AUz5Jmlo4fQLi4y2IsPQZACNGjx/IQFEArxBifm7oSQLNExHcajxRAMqDHhVWlBEDN9CB3p/EfQIeaMlCZ3wlA4zM+miRxEEDyB3KoLU4XQDqQKGMnDgpAMVf+RKifH0AnmugQwS0VQHq0sVpZ6QtAUcDIE/4WEUA65JyfAs4GQICZn8ud6xZARXImKbIfE0CrkUhnKMAeQCCA7T/a9wZAlGAV49ZhBkC8Iwi0N9UUQDOKF12CHhJASm9AHAdyBECy3ukl9QwAQGrSPivT2hBAbkTwAC4DGUDW0YCQ6zQUQDzUZtCwGgxA+rUsOct6D0DtSPsByjQTQFed9o/zDhZAn6eUFZMKEUCe5aCT/NEbQIfTxb7xGx1AOrqdMHtKFUAo7+3Uk3oaQOKuj//RcRRAlUSKvmBnDEAVuZ+FCiAMQJpnauqM1wlAX26VIikTH0CjV/1FRkUMQNc22MVc7x5AKC/xQf3zDEArdWrW1gAXQHz1ORGWBhpAf6VW4PmwGkBU2K5IXjsRQLw1xbLwXgFAijdJNqF5BEDyxmJhv24JQJj4AG0siR5AIyLWrtuTC0D1PngsNnsPQLfRoEmC5hBAqE2zJbaAD0APspGDRzcQQOmx41wCJBhAdMq1ZLzJGEBQEsgdv4MQQIthBRuKJQRA8UkD8+iZEkB/BSCztKkfQADBJ7l4JghABvWFBZiIFEDahFoVWJcaQHoMLg2p+BJA/HKH9FbiHEDjenJ1CM4YQFdhZjMqhx1AjYIFUEu/E0BuLzRJXc0BQCoYacigHRFAOJp2rLvUFkCIaPfsQJgBQJVeCTSu3w1A6lu8fvUOHkDQXlTXmosMQF9uM76G3wpArRUkCu/8HkDYGisKdzcbQMCim0aiVBtAiL0SJo05CEBKLV7xlI0XQBMk2D8BWBVAyvlIJIleBkDYmdkOYIAeQBzDFmxRqBhAWFehZ8YQGkBi12SBCIIRQNgKYQc7/Q1AtAR5oh/qAEDUa+qMgbsUQF0u4UwkHRlAqaT4fIQqGEBUEf4J6EwBQDySsf89axVAwhv+JotUAUCYpxm5floJQE2q4etglRNAuo+OC+xFGEDK7bPAI6MQQNOYaZLA/Q9ACdX1Lor9E0BUAgHAaGgYQKJTUyfSBgtAAhVCoVAmH0Dw4xmx6AYUQA==",
          "dtype": "f8",
          "shape": "7, 23"
         }
        }
       ],
       "layout": {
        "height": 800,
        "scene": {
         "xaxis": {
          "title": {
           "text": "Year"
          }
         },
         "yaxis": {
          "ticktext": [
           "Brazil",
           "China",
           "France",
           "Germany",
           "India",
           "Russia",
           "USA"
          ],
          "tickvals": [
           0,
           1,
           2,
           3,
           4,
           5,
           6
          ],
          "title": {
           "text": "Country"
          }
         },
         "zaxis": {
          "title": {
           "text": "Wheat Yield (tonnes/ha)"
          }
         }
        },
        "template": {
         "data": {
          "bar": [
           {
            "error_x": {
             "color": "#2a3f5f"
            },
            "error_y": {
             "color": "#2a3f5f"
            },
            "marker": {
             "line": {
              "color": "#E5ECF6",
              "width": 0.5
             },
             "pattern": {
              "fillmode": "overlay",
              "size": 10,
              "solidity": 0.2
             }
            },
            "type": "bar"
           }
          ],
          "barpolar": [
           {
            "marker": {
             "line": {
              "color": "#E5ECF6",
              "width": 0.5
             },
             "pattern": {
              "fillmode": "overlay",
              "size": 10,
              "solidity": 0.2
             }
            },
            "type": "barpolar"
           }
          ],
          "carpet": [
           {
            "aaxis": {
             "endlinecolor": "#2a3f5f",
             "gridcolor": "white",
             "linecolor": "white",
             "minorgridcolor": "white",
             "startlinecolor": "#2a3f5f"
            },
            "baxis": {
             "endlinecolor": "#2a3f5f",
             "gridcolor": "white",
             "linecolor": "white",
             "minorgridcolor": "white",
             "startlinecolor": "#2a3f5f"
            },
            "type": "carpet"
           }
          ],
          "choropleth": [
           {
            "colorbar": {
             "outlinewidth": 0,
             "ticks": ""
            },
            "type": "choropleth"
           }
          ],
          "contour": [
           {
            "colorbar": {
             "outlinewidth": 0,
             "ticks": ""
            },
            "colorscale": [
             [
              0,
              "#0d0887"
             ],
             [
              0.1111111111111111,
              "#46039f"
             ],
             [
              0.2222222222222222,
              "#7201a8"
             ],
             [
              0.3333333333333333,
              "#9c179e"
             ],
             [
              0.4444444444444444,
              "#bd3786"
             ],
             [
              0.5555555555555556,
              "#d8576b"
             ],
             [
              0.6666666666666666,
              "#ed7953"
             ],
             [
              0.7777777777777778,
              "#fb9f3a"
             ],
             [
              0.8888888888888888,
              "#fdca26"
             ],
             [
              1,
              "#f0f921"
             ]
            ],
            "type": "contour"
           }
          ],
          "contourcarpet": [
           {
            "colorbar": {
             "outlinewidth": 0,
             "ticks": ""
            },
            "type": "contourcarpet"
           }
          ],
          "heatmap": [
           {
            "colorbar": {
             "outlinewidth": 0,
             "ticks": ""
            },
            "colorscale": [
             [
              0,
              "#0d0887"
             ],
             [
              0.1111111111111111,
              "#46039f"
             ],
             [
              0.2222222222222222,
              "#7201a8"
             ],
             [
              0.3333333333333333,
              "#9c179e"
             ],
             [
              0.4444444444444444,
              "#bd3786"
             ],
             [
              0.5555555555555556,
              "#d8576b"
             ],
             [
              0.6666666666666666,
              "#ed7953"
             ],
             [
              0.7777777777777778,
              "#fb9f3a"
             ],
             [
              0.8888888888888888,
              "#fdca26"
             ],
             [
              1,
              "#f0f921"
             ]
            ],
            "type": "heatmap"
           }
          ],
          "histogram": [
           {
            "marker": {
             "pattern": {
              "fillmode": "overlay",
              "size": 10,
              "solidity": 0.2
             }
            },
            "type": "histogram"
           }
          ],
          "histogram2d": [
           {
            "colorbar": {
             "outlinewidth": 0,
             "ticks": ""
            },
            "colorscale": [
             [
              0,
              "#0d0887"
             ],
             [
              0.1111111111111111,
              "#46039f"
             ],
             [
              0.2222222222222222,
              "#7201a8"
             ],
             [
              0.3333333333333333,
              "#9c179e"
             ],
             [
              0.4444444444444444,
              "#bd3786"
             ],
             [
              0.5555555555555556,
              "#d8576b"
             ],
             [
              0.6666666666666666,
              "#ed7953"
             ],
             [
              0.7777777777777778,
              "#fb9f3a"
             ],
             [
              0.8888888888888888,
              "#fdca26"
             ],
             [
              1,
              "#f0f921"
             ]
            ],
            "type": "histogram2d"
           }
          ],
          "histogram2dcontour": [
           {
            "colorbar": {
             "outlinewidth": 0,
             "ticks": ""
            },
            "colorscale": [
             [
              0,
              "#0d0887"
             ],
             [
              0.1111111111111111,
              "#46039f"
             ],
             [
              0.2222222222222222,
              "#7201a8"
             ],
             [
              0.3333333333333333,
              "#9c179e"
             ],
             [
              0.4444444444444444,
              "#bd3786"
             ],
             [
              0.5555555555555556,
              "#d8576b"
             ],
             [
              0.6666666666666666,
              "#ed7953"
             ],
             [
              0.7777777777777778,
              "#fb9f3a"
             ],
             [
              0.8888888888888888,
              "#fdca26"
             ],
             [
              1,
              "#f0f921"
             ]
            ],
            "type": "histogram2dcontour"
           }
          ],
          "mesh3d": [
           {
            "colorbar": {
             "outlinewidth": 0,
             "ticks": ""
            },
            "type": "mesh3d"
           }
          ],
          "parcoords": [
           {
            "line": {
             "colorbar": {
              "outlinewidth": 0,
              "ticks": ""
             }
            },
            "type": "parcoords"
           }
          ],
          "pie": [
           {
            "automargin": true,
            "type": "pie"
           }
          ],
          "scatter": [
           {
            "fillpattern": {
             "fillmode": "overlay",
             "size": 10,
             "solidity": 0.2
            },
            "type": "scatter"
           }
          ],
          "scatter3d": [
           {
            "line": {
             "colorbar": {
              "outlinewidth": 0,
              "ticks": ""
             }
            },
            "marker": {
             "colorbar": {
              "outlinewidth": 0,
              "ticks": ""
             }
            },
            "type": "scatter3d"
           }
          ],
          "scattercarpet": [
           {
            "marker": {
             "colorbar": {
              "outlinewidth": 0,
              "ticks": ""
             }
            },
            "type": "scattercarpet"
           }
          ],
          "scattergeo": [
           {
            "marker": {
             "colorbar": {
              "outlinewidth": 0,
              "ticks": ""
             }
            },
            "type": "scattergeo"
           }
          ],
          "scattergl": [
           {
            "marker": {
             "colorbar": {
              "outlinewidth": 0,
              "ticks": ""
             }
            },
            "type": "scattergl"
           }
          ],
          "scattermap": [
           {
            "marker": {
             "colorbar": {
              "outlinewidth": 0,
              "ticks": ""
             }
            },
            "type": "scattermap"
           }
          ],
          "scattermapbox": [
           {
            "marker": {
             "colorbar": {
              "outlinewidth": 0,
              "ticks": ""
             }
            },
            "type": "scattermapbox"
           }
          ],
          "scatterpolar": [
           {
            "marker": {
             "colorbar": {
              "outlinewidth": 0,
              "ticks": ""
             }
            },
            "type": "scatterpolar"
           }
          ],
          "scatterpolargl": [
           {
            "marker": {
             "colorbar": {
              "outlinewidth": 0,
              "ticks": ""
             }
            },
            "type": "scatterpolargl"
           }
          ],
          "scatterternary": [
           {
            "marker": {
             "colorbar": {
              "outlinewidth": 0,
              "ticks": ""
             }
            },
            "type": "scatterternary"
           }
          ],
          "surface": [
           {
            "colorbar": {
             "outlinewidth": 0,
             "ticks": ""
            },
            "colorscale": [
             [
              0,
              "#0d0887"
             ],
             [
              0.1111111111111111,
              "#46039f"
             ],
             [
              0.2222222222222222,
              "#7201a8"
             ],
             [
              0.3333333333333333,
              "#9c179e"
             ],
             [
              0.4444444444444444,
              "#bd3786"
             ],
             [
              0.5555555555555556,
              "#d8576b"
             ],
             [
              0.6666666666666666,
              "#ed7953"
             ],
             [
              0.7777777777777778,
              "#fb9f3a"
             ],
             [
              0.8888888888888888,
              "#fdca26"
             ],
             [
              1,
              "#f0f921"
             ]
            ],
            "type": "surface"
           }
          ],
          "table": [
           {
            "cells": {
             "fill": {
              "color": "#EBF0F8"
             },
             "line": {
              "color": "white"
             }
            },
            "header": {
             "fill": {
              "color": "#C8D4E3"
             },
             "line": {
              "color": "white"
             }
            },
            "type": "table"
           }
          ]
         },
         "layout": {
          "annotationdefaults": {
           "arrowcolor": "#2a3f5f",
           "arrowhead": 0,
           "arrowwidth": 1
          },
          "autotypenumbers": "strict",
          "coloraxis": {
           "colorbar": {
            "outlinewidth": 0,
            "ticks": ""
           }
          },
          "colorscale": {
           "diverging": [
            [
             0,
             "#8e0152"
            ],
            [
             0.1,
             "#c51b7d"
            ],
            [
             0.2,
             "#de77ae"
            ],
            [
             0.3,
             "#f1b6da"
            ],
            [
             0.4,
             "#fde0ef"
            ],
            [
             0.5,
             "#f7f7f7"
            ],
            [
             0.6,
             "#e6f5d0"
            ],
            [
             0.7,
             "#b8e186"
            ],
            [
             0.8,
             "#7fbc41"
            ],
            [
             0.9,
             "#4d9221"
            ],
            [
             1,
             "#276419"
            ]
           ],
           "sequential": [
            [
             0,
             "#0d0887"
            ],
            [
             0.1111111111111111,
             "#46039f"
            ],
            [
             0.2222222222222222,
             "#7201a8"
            ],
            [
             0.3333333333333333,
             "#9c179e"
            ],
            [
             0.4444444444444444,
             "#bd3786"
            ],
            [
             0.5555555555555556,
             "#d8576b"
            ],
            [
             0.6666666666666666,
             "#ed7953"
            ],
            [
             0.7777777777777778,
             "#fb9f3a"
            ],
            [
             0.8888888888888888,
             "#fdca26"
            ],
            [
             1,
             "#f0f921"
            ]
           ],
           "sequentialminus": [
            [
             0,
             "#0d0887"
            ],
            [
             0.1111111111111111,
             "#46039f"
            ],
            [
             0.2222222222222222,
             "#7201a8"
            ],
            [
             0.3333333333333333,
             "#9c179e"
            ],
            [
             0.4444444444444444,
             "#bd3786"
            ],
            [
             0.5555555555555556,
             "#d8576b"
            ],
            [
             0.6666666666666666,
             "#ed7953"
            ],
            [
             0.7777777777777778,
             "#fb9f3a"
            ],
            [
             0.8888888888888888,
             "#fdca26"
            ],
            [
             1,
             "#f0f921"
            ]
           ]
          },
          "colorway": [
           "#636efa",
           "#EF553B",
           "#00cc96",
           "#ab63fa",
           "#FFA15A",
           "#19d3f3",
           "#FF6692",
           "#B6E880",
           "#FF97FF",
           "#FECB52"
          ],
          "font": {
           "color": "#2a3f5f"
          },
          "geo": {
           "bgcolor": "white",
           "lakecolor": "white",
           "landcolor": "#E5ECF6",
           "showlakes": true,
           "showland": true,
           "subunitcolor": "white"
          },
          "hoverlabel": {
           "align": "left"
          },
          "hovermode": "closest",
          "mapbox": {
           "style": "light"
          },
          "paper_bgcolor": "white",
          "plot_bgcolor": "#E5ECF6",
          "polar": {
           "angularaxis": {
            "gridcolor": "white",
            "linecolor": "white",
            "ticks": ""
           },
           "bgcolor": "#E5ECF6",
           "radialaxis": {
            "gridcolor": "white",
            "linecolor": "white",
            "ticks": ""
           }
          },
          "scene": {
           "xaxis": {
            "backgroundcolor": "#E5ECF6",
            "gridcolor": "white",
            "gridwidth": 2,
            "linecolor": "white",
            "showbackground": true,
            "ticks": "",
            "zerolinecolor": "white"
           },
           "yaxis": {
            "backgroundcolor": "#E5ECF6",
            "gridcolor": "white",
            "gridwidth": 2,
            "linecolor": "white",
            "showbackground": true,
            "ticks": "",
            "zerolinecolor": "white"
           },
           "zaxis": {
            "backgroundcolor": "#E5ECF6",
            "gridcolor": "white",
            "gridwidth": 2,
            "linecolor": "white",
            "showbackground": true,
            "ticks": "",
            "zerolinecolor": "white"
           }
          },
          "shapedefaults": {
           "line": {
            "color": "#2a3f5f"
           }
          },
          "ternary": {
           "aaxis": {
            "gridcolor": "white",
            "linecolor": "white",
            "ticks": ""
           },
           "baxis": {
            "gridcolor": "white",
            "linecolor": "white",
            "ticks": ""
           },
           "bgcolor": "#E5ECF6",
           "caxis": {
            "gridcolor": "white",
            "linecolor": "white",
            "ticks": ""
           }
          },
          "title": {
           "x": 0.05
          },
          "xaxis": {
           "automargin": true,
           "gridcolor": "white",
           "linecolor": "white",
           "ticks": "",
           "title": {
            "standoff": 15
           },
           "zerolinecolor": "white",
           "zerolinewidth": 2
          },
          "yaxis": {
           "automargin": true,
           "gridcolor": "white",
           "linecolor": "white",
           "ticks": "",
           "title": {
            "standoff": 15
           },
           "zerolinecolor": "white",
           "zerolinewidth": 2
          }
         }
        },
        "title": {
         "text": "Wheat Yield Trends by Country (3D Surface)"
        },
        "width": 1000
       }
      }
     },
     "metadata": {},
     "output_type": "display_data"
    }
   ],
   "source": [
    "# -*- coding: utf-8 -*-\n",
    "\n",
    "# %% [markdown]\n",
    "# # 🌍 Global Food Production & Sustainability Analysis\n",
    "# \n",
    "# **Analyzing crop yields, land use, and climate impacts with 3D visualizations**  \n",
    "# *Data sources: FAO, World Bank*\n",
    "\n",
    "# %%\n",
    "# Import libraries\n",
    "import pandas as pd\n",
    "import numpy as np\n",
    "import matplotlib.pyplot as plt\n",
    "from mpl_toolkits.mplot3d import Axes3D\n",
    "import plotly.express as px\n",
    "import plotly.graph_objects as go\n",
    "import geopandas as gpd\n",
    "from ipywidgets import interact, Dropdown\n",
    "\n",
    "# %%\n",
    "# Load sample data (replace with real FAO/World Bank data)\n",
    "def load_sample_data():\n",
    "    countries = ['USA', 'China', 'India', 'Brazil', 'France', 'Germany', 'Russia']\n",
    "    years = range(2000, 2023)\n",
    "    \n",
    "    # Generate synthetic data\n",
    "    data = []\n",
    "    for country in countries:\n",
    "        for year in years:\n",
    "            data.append({\n",
    "                'Country': country,\n",
    "                'Year': year,\n",
    "                'Wheat Yield (tonnes/ha)': np.random.uniform(2, 8),\n",
    "                'Rice Yield (tonnes/ha)': np.random.uniform(2, 6),\n",
    "                'Fertilizer Use (kg/ha)': np.random.uniform(50, 300),\n",
    "                'Temperature Change (°C)': np.random.uniform(0, 2),\n",
    "                'Arable Land (%)': np.random.uniform(10, 60)\n",
    "            })\n",
    "    return pd.DataFrame(data)\n",
    "\n",
    "df = load_sample_data()\n",
    "print(\"Sample Data:\")\n",
    "df.head()\n",
    "\n",
    "# %%\n",
    "# 3D Plot: Yield vs. Fertilizer vs. Temperature\n",
    "def create_3d_plot(crop='Wheat'):\n",
    "    fig = plt.figure(figsize=(12, 8))\n",
    "    ax = fig.add_subplot(111, projection='3d')\n",
    "    \n",
    "    # Color by country\n",
    "    colors = {'USA':'red', 'China':'blue', 'India':'green', \n",
    "              'Brazil':'yellow', 'France':'purple', 'Germany':'orange', 'Russia':'cyan'}\n",
    "    \n",
    "    for country, group in df.groupby('Country'):\n",
    "        ax.scatter(\n",
    "            group[f'{crop} Yield (tonnes/ha)'],\n",
    "            group['Fertilizer Use (kg/ha)'],\n",
    "            group['Temperature Change (°C)'],\n",
    "            label=country,\n",
    "            c=colors[country],\n",
    "            s=100,\n",
    "            alpha=0.7\n",
    "        )\n",
    "    \n",
    "    ax.set_xlabel(f'{crop} Yield (tonnes/ha)', fontsize=12)\n",
    "    ax.set_ylabel('Fertilizer Use (kg/ha)', fontsize=12)\n",
    "    ax.set_zlabel('Temperature Change (°C)', fontsize=12)\n",
    "    ax.set_title(f'3D Analysis: {crop} Yield vs. Inputs vs. Climate', fontsize=14)\n",
    "    ax.legend()\n",
    "    plt.tight_layout()\n",
    "    plt.show()\n",
    "\n",
    "# Interactive widget\n",
    "interact(create_3d_plot, crop=Dropdown(options=['Wheat', 'Rice']));\n",
    "\n",
    "# %%\n",
    "# Animated Choropleth Map (Plotly)\n",
    "def create_choropleth(crop='Wheat'):\n",
    "    # Sample geodata (in real project, merge with GeoJSON)\n",
    "    fig = px.choropleth(df,\n",
    "                        locations=\"Country\",\n",
    "                        locationmode='country names',\n",
    "                        color=f\"{crop} Yield (tonnes/ha)\",\n",
    "                        animation_frame=\"Year\",\n",
    "                        range_color=(df[f\"{crop} Yield (tonnes/ha)\"].min(), \n",
    "                                    df[f\"{crop} Yield (tonnes/ha)\"].max()),\n",
    "                        title=f\"Global {crop} Yield Changes (2000-2022)\")\n",
    "    fig.update_geos(projection_type=\"natural earth\")\n",
    "    fig.show()\n",
    "\n",
    "create_choropleth('Wheat')\n",
    "\n",
    "# %%\n",
    "# Parallel Coordinates Plot (Interactive)\n",
    "def create_parallel_plot(year=2010):\n",
    "    year_df = df[df['Year'] == year]\n",
    "    fig = px.parallel_coordinates(\n",
    "        year_df,\n",
    "        dimensions=[\n",
    "            'Wheat Yield (tonnes/ha)',\n",
    "            'Rice Yield (tonnes/ha)',\n",
    "            'Fertilizer Use (kg/ha)',\n",
    "            'Arable Land (%)'\n",
    "        ],\n",
    "        color='Temperature Change (°C)',\n",
    "        labels={\n",
    "            'Wheat Yield (tonnes/ha)': 'Wheat Yield',\n",
    "            'Rice Yield (tonnes/ha)': 'Rice Yield',\n",
    "            'Fertilizer Use (kg/ha)': 'Fertilizer',\n",
    "            'Arable Land (%)': 'Arable Land'\n",
    "        },\n",
    "        title=f'Agricultural Profile by Country ({year})'\n",
    "    )\n",
    "    fig.show()\n",
    "\n",
    "interact(create_parallel_plot, year=(2000, 2022));\n",
    "\n",
    "# %%\n",
    "# 3D Surface Plot (Country vs Year vs Yield)\n",
    "def create_surface_plot(crop='Wheat'):\n",
    "    pivot_df = df.pivot_table(\n",
    "        index='Country',\n",
    "        columns='Year',\n",
    "        values=f'{crop} Yield (tonnes/ha)'\n",
    "    )\n",
    "    \n",
    "    years = pivot_df.columns\n",
    "    countries = pivot_df.index\n",
    "    \n",
    "    X, Y = np.meshgrid(years, range(len(countries)))\n",
    "    Z = pivot_df.values\n",
    "    \n",
    "    fig = go.Figure(data=[go.Surface(z=Z, x=X, y=Y)])\n",
    "    fig.update_layout(\n",
    "        title=f'{crop} Yield Trends by Country (3D Surface)',\n",
    "        scene=dict(\n",
    "            xaxis_title='Year',\n",
    "            yaxis_title='Country',\n",
    "            zaxis_title=f'{crop} Yield (tonnes/ha)',\n",
    "            yaxis=dict(tickvals=list(range(len(countries))), ticktext=countries)\n",
    "        ),\n",
    "        height=800,\n",
    "        width=1000\n",
    "    )\n",
    "    fig.show()\n",
    "\n",
    "create_surface_plot('Wheat')\n",
    "\n",
    "# %% [markdown]\n",
    "# ## Key Insights:\n",
    "# 1. **Trade-offs**: Countries with high fertilizer use don't always have highest yields\n",
    "# 2. **Climate Impact**: Rising temperatures correlate with yield variability\n",
    "# 3. **Land Use**: Countries with <30% arable land show different yield patterns"
   ]
  },
  {
   "cell_type": "code",
   "execution_count": null,
   "id": "f419c0f1",
   "metadata": {},
   "outputs": [],
   "source": []
  }
 ],
 "metadata": {
  "kernelspec": {
   "display_name": ".venv",
   "language": "python",
   "name": "python3"
  },
  "language_info": {
   "codemirror_mode": {
    "name": "ipython",
    "version": 3
   },
   "file_extension": ".py",
   "mimetype": "text/x-python",
   "name": "python",
   "nbconvert_exporter": "python",
   "pygments_lexer": "ipython3",
   "version": "3.13.3"
  }
 },
 "nbformat": 4,
 "nbformat_minor": 5
}
