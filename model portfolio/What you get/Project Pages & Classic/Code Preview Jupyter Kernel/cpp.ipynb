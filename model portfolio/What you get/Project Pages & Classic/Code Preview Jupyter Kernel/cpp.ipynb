{
  "metadata": {
    "kernelspec": {
      "name": "xcpp17",
      "display_name": "C++17",
      "language": "cpp"
    },
    "language_info": {
      "codemirror_mode": "text/x-c++src",
      "file_extension": ".cpp",
      "mimetype": "text/x-c++src",
      "name": "C++",
      "version": "17"
    }
  },
  "nbformat_minor": 5,
  "nbformat": 4,
  "cells": [
    {
      "id": "460e4a73-0434-4173-bc7e-267949dc953f",
      "cell_type": "code",
      "source": "#include <iostream>\n#include <cmath>\n#include <vector>\n\nclass Vec3 {\nprivate:\n    double x, y, z;\n    \npublic:\n    // Constructor\n    Vec3(double x=0, double y=0, double z=0) : x(x), y(y), z(z) {}\n    \n    // Vector operations\n    Vec3 operator+(const Vec3& other) const {\n        return Vec3(x + other.x, y + other.y, z + other.z);\n    }\n    \n    Vec3 operator-(const Vec3& other) const {\n        return Vec3(x - other.x, y - other.y, z - other.z);\n    }\n    \n    double dot(const Vec3& other) const {\n        return x*other.x + y*other.y + z*other.z;\n    }\n    \n    Vec3 cross(const Vec3& other) const {\n        return Vec3(\n            y*other.z - z*other.y,\n            z*other.x - x*other.z,\n            x*other.y - y*other.x\n        );\n    }\n    \n    double magnitude() const {\n        return std::sqrt(x*x + y*y + z*z);\n    }\n    \n    // Pretty printing for Jupyter\n    friend std::ostream& operator<<(std::ostream& os, const Vec3& v) {\n        os << \"Vec3(\" << v.x << \", \" << v.y << \", \" << v.z << \")\";\n        return os;\n    }\n};\n\n// Example usage\nVec3 a(1, 2, 3);\nVec3 b(4, 5, 6);\n\nstd::cout << \"Vector A: \" << a << \"\\n\";\nstd::cout << \"Vector B: \" << b << \"\\n\";\nstd::cout << \"Sum: \" << a + b << \"\\n\";\nstd::cout << \"Dot product: \" << a.dot(b) << \"\\n\";\nstd::cout << \"Cross product: \" << a.cross(b) << \"\\n\";\nstd::cout << \"Magnitude of A: \" << a.magnitude() << std::endl;",
      "metadata": {
        "trusted": true
      },
      "outputs": [],
      "execution_count": null
    }
  ]
}